{
 "cells": [
  {
   "cell_type": "code",
   "id": "initial_id",
   "metadata": {
    "collapsed": true,
    "ExecuteTime": {
     "end_time": "2025-10-31T11:43:30.338042Z",
     "start_time": "2025-10-31T11:43:28.971259Z"
    }
   },
   "source": [
    "import pandas as pd\n",
    "from metalib.metascal import MetaScale"
   ],
   "outputs": [],
   "execution_count": 1
  },
  {
   "metadata": {
    "ExecuteTime": {
     "end_time": "2025-10-31T11:43:35.311959Z",
     "start_time": "2025-10-31T11:43:32.391715Z"
    }
   },
   "cell_type": "code",
   "source": [
    "test = MetaScale(tag=\"test\",\n",
    "                 risk_pct=0.01)"
   ],
   "id": "5da0add3b0ec5d2b",
   "outputs": [
    {
     "name": "stdout",
     "output_type": "stream",
     "text": [
      "test::    Initializing MetaScaler strategy..\n",
      "test::    Running strategies:     ['metafvg', 'metago', 'metane', 'metaga']\n",
      "test::    Risk percentage:        0.01\n",
      "test::    Initial balance:        218513.37\n",
      "test::    Amount to risk:         2185.1337\n"
     ]
    }
   ],
   "execution_count": 2
  },
  {
   "metadata": {
    "ExecuteTime": {
     "end_time": "2025-10-31T11:43:44.009206Z",
     "start_time": "2025-10-31T11:43:43.592365Z"
    }
   },
   "cell_type": "code",
   "source": "test.fit()",
   "id": "cdc4e84cd73ce11",
   "outputs": [
    {
     "name": "stdout",
     "output_type": "stream",
     "text": [
      "test::    Starting the MetaScaler fit!!..\n",
      "test::    Running symbols: ['EURUSD' 'USDJPY' 'USDCAD' 'NZDUSD' 'GBPUSD' 'USDCHF' 'BTCUSD'\n",
      " 'GER40.cash' 'US100.cash' 'AUDJPY' 'EURHUF' 'USDCNH' 'USDZAR']\n",
      "Last time in the index: 2025-10-31 00:00:00\n",
      "test::    Applying MT5 tick params for EURUSD\n",
      "test::    Tick value: 1.0, Tick size: 1e-05\n",
      "test::    Applying MT5 tick params for USDJPY\n",
      "test::    Tick value: 0.6486766995329528, Tick size: 0.001\n",
      "test::    Applying MT5 tick params for USDCAD\n",
      "test::    Tick value: 0.7134906818116956, Tick size: 1e-05\n",
      "test::    Applying MT5 tick params for NZDUSD\n",
      "test::    Tick value: 1.0, Tick size: 1e-05\n",
      "test::    Applying MT5 tick params for GBPUSD\n",
      "test::    Tick value: 1.0, Tick size: 1e-05\n",
      "test::    Applying MT5 tick params for USDCHF\n",
      "test::    Tick value: 1.2447719577773353, Tick size: 1e-05\n",
      "test::    Applying MT5 tick params for BTCUSD\n",
      "test::    Tick value: 0.01, Tick size: 0.01\n",
      "test::    Applying MT5 tick params for GER40.cash\n",
      "test::    Tick value: 0.0115618, Tick size: 0.01\n",
      "test::    Applying MT5 tick params for US100.cash\n",
      "test::    Tick value: 0.01, Tick size: 0.01\n",
      "test::    Applying MT5 tick params for AUDJPY\n",
      "test::    Tick value: 0.6486766995329528, Tick size: 0.001\n",
      "test::    Applying MT5 tick params for EURHUF\n",
      "test::    Tick value: 0.29806081632896375, Tick size: 0.001\n",
      "test::    Applying MT5 tick params for USDCNH\n",
      "test::    Tick value: 0.1404537780661762, Tick size: 1e-05\n",
      "test::    Applying MT5 tick params for USDZAR\n",
      "test::    Tick value: 0.057665038782621844, Tick size: 1e-05\n",
      "test::    Optimization successful..\n",
      "test::    Weights: {('metafvg', 'BTCUSD'): 0.01, ('metafvg', 'EURUSD'): 0.06, ('metafvg', 'GER40.cash'): 0.09, ('metafvg', 'US100.cash'): 0.04, ('metaga', 'EURUSD'): 0.08, ('metaga', 'AUDJPY'): 0.09, ('metaga', 'GER40.cash'): 0.11, ('metaga', 'US100.cash'): 0.06, ('metago', 'EURUSD'): 0.52, ('metago', 'USDJPY'): 0.25, ('metago', 'USDCHF'): 0.55, ('metago', 'USDCAD'): 0.45, ('metago', 'EURHUF'): 0.06, ('metago', 'USDCNH'): 0.28, ('metago', 'USDZAR'): 0.06, ('metane', 'BTCUSD'): 0.01, ('metane', 'EURUSD'): 0.06, ('metane', 'GER40.cash'): 0.09, ('metane', 'US100.cash'): 0.04}\n",
      "test::    Error writing to YAML file 'metado.yaml': string indices must be integers\n",
      "test::    Changes written to YAML file 'metafvg.yaml'\n",
      "test::    Changes written to YAML file 'metaga.yaml'\n",
      "test::    Changes written to YAML file 'metago.yaml'\n",
      "test::    Error writing to YAML file 'metahar.yaml': string indices must be integers\n",
      "test::    Changes written to YAML file 'metane.yaml'\n",
      "test::    Done!\n"
     ]
    }
   ],
   "execution_count": 3
  },
  {
   "metadata": {
    "ExecuteTime": {
     "end_time": "2025-10-31T11:47:55.887697Z",
     "start_time": "2025-10-31T11:47:55.877625Z"
    }
   },
   "cell_type": "code",
   "source": [
    "import os\n",
    "import yaml\n",
    "config_dir=\"../config/prod\""
   ],
   "id": "88b9f8a946b3fa1a",
   "outputs": [],
   "execution_count": 9
  },
  {
   "metadata": {
    "ExecuteTime": {
     "end_time": "2025-10-31T11:47:56.515817Z",
     "start_time": "2025-10-31T11:47:56.497051Z"
    }
   },
   "cell_type": "code",
   "source": "yaml_files = [f for f in os.listdir(config_dir) if f.endswith(\".yaml\")]",
   "id": "f91b57e9fce4ebb3",
   "outputs": [],
   "execution_count": 10
  },
  {
   "metadata": {
    "ExecuteTime": {
     "end_time": "2025-10-31T11:47:56.969881Z",
     "start_time": "2025-10-31T11:47:56.953183Z"
    }
   },
   "cell_type": "code",
   "source": "yaml_path = \"../config/prod/metafvg.yaml\"",
   "id": "7080f5d63007b42b",
   "outputs": [],
   "execution_count": 11
  },
  {
   "metadata": {
    "ExecuteTime": {
     "end_time": "2025-10-31T11:47:57.619107Z",
     "start_time": "2025-10-31T11:47:57.601201Z"
    }
   },
   "cell_type": "code",
   "source": [
    " with open(yaml_path, \"r+\") as file:\n",
    "    data = yaml.safe_load(file)"
   ],
   "id": "177fa1de02d8cb27",
   "outputs": [],
   "execution_count": 12
  },
  {
   "metadata": {
    "ExecuteTime": {
     "end_time": "2025-10-31T11:48:04.983586Z",
     "start_time": "2025-10-31T11:48:04.971104Z"
    }
   },
   "cell_type": "code",
   "source": "data",
   "id": "32b30c21596b8da",
   "outputs": [
    {
     "data": {
      "text/plain": [
       "{'BTCUSD_M1': {'limit_number_position': 5,\n",
       "  'size_position': 0.01,\n",
       "  'strategy_type': 'metafvg',\n",
       "  'symbols': ['BTCUSD'],\n",
       "  'tag': 'metafvg_btc',\n",
       "  'timeframe': 'mt5.TIMEFRAME_M1'},\n",
       " 'EURUSD_H1': {'limit_number_position': 5,\n",
       "  'size_position': 0.06,\n",
       "  'strategy_type': 'metafvg',\n",
       "  'symbols': ['EURUSD'],\n",
       "  'tag': 'metafvg_eurusd',\n",
       "  'timeframe': 'mt5.TIMEFRAME_M1'},\n",
       " 'GER40CASH_H1_GA': {'limit_number_position': 5,\n",
       "  'size_position': 0.09,\n",
       "  'strategy_type': 'metafvg',\n",
       "  'symbols': ['GER40.cash'],\n",
       "  'tag': 'metafvg_dax',\n",
       "  'timeframe': 'mt5.TIMEFRAME_M1'},\n",
       " 'US100CASH_H1_GA': {'limit_number_position': 5,\n",
       "  'size_position': 0.04,\n",
       "  'strategy_type': 'metafvg',\n",
       "  'symbols': ['US100.cash'],\n",
       "  'tag': 'metafvg_nas',\n",
       "  'timeframe': 'mt5.TIMEFRAME_M1'}}"
      ]
     },
     "execution_count": 13,
     "metadata": {},
     "output_type": "execute_result"
    }
   ],
   "execution_count": 13
  },
  {
   "metadata": {
    "ExecuteTime": {
     "end_time": "2025-10-29T19:39:51.352692Z",
     "start_time": "2025-10-29T19:39:51.326450Z"
    }
   },
   "cell_type": "code",
   "source": "{k: v for k, v in zip([\"EURUSD\", \"BTCUSD\"], [0, 1])}",
   "id": "bea2366b2595e20",
   "outputs": [
    {
     "data": {
      "text/plain": [
       "{'EURUSD': 0, 'BTCUSD': 1}"
      ]
     },
     "execution_count": 24,
     "metadata": {},
     "output_type": "execute_result"
    }
   ],
   "execution_count": 24
  },
  {
   "metadata": {
    "ExecuteTime": {
     "end_time": "2025-10-29T19:39:03.272225Z",
     "start_time": "2025-10-29T19:39:03.214890Z"
    }
   },
   "cell_type": "code",
   "source": "wights.index",
   "id": "ea1dc3d0a9a73c73",
   "outputs": [
    {
     "ename": "NameError",
     "evalue": "name 'wights' is not defined",
     "output_type": "error",
     "traceback": [
      "\u001B[1;31m---------------------------------------------------------------------------\u001B[0m",
      "\u001B[1;31mNameError\u001B[0m                                 Traceback (most recent call last)",
      "Cell \u001B[1;32mIn[21], line 1\u001B[0m\n\u001B[1;32m----> 1\u001B[0m \u001B[43mwights\u001B[49m\u001B[38;5;241m.\u001B[39mindex\n",
      "\u001B[1;31mNameError\u001B[0m: name 'wights' is not defined"
     ]
    }
   ],
   "execution_count": 21
  },
  {
   "metadata": {
    "ExecuteTime": {
     "end_time": "2025-10-22T11:24:04.749724Z",
     "start_time": "2025-10-22T11:24:03.140797Z"
    }
   },
   "cell_type": "code",
   "source": "test.weights.plot(kind=\"bar\", figsize=(9, 3))",
   "id": "c5830471dd842ebe",
   "outputs": [
    {
     "data": {
      "text/plain": [
       "<Axes: >"
      ]
     },
     "execution_count": 8,
     "metadata": {},
     "output_type": "execute_result"
    },
    {
     "data": {
      "text/plain": [
       "<Figure size 900x300 with 1 Axes>"
      ],
      "image/png": "[encoded data removed]"
     },
     "metadata": {},
     "output_type": "display_data",
     "jetTransient": {
      "display_id": null
     }
    }
   ],
   "execution_count": 8
  },
  {
   "metadata": {},
   "cell_type": "code",
   "outputs": [],
   "execution_count": null,
   "source": "",
   "id": "574d41ec4da9f398"
  }
 ],
 "metadata": {
  "kernelspec": {
   "display_name": "Python 3",
   "language": "python",
   "name": "python3"
  },
  "language_info": {
   "codemirror_mode": {
    "name": "ipython",
    "version": 2
   },
   "file_extension": ".py",
   "mimetype": "text/x-python",
   "name": "python",
   "nbconvert_exporter": "python",
   "pygments_lexer": "ipython2",
   "version": "2.7.6"
  }
 },
 "nbformat": 4,
 "nbformat_minor": 5
}
