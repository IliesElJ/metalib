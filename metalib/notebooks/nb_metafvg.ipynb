{
 "cells": [
  {
   "cell_type": "code",
   "id": "initial_id",
   "metadata": {
    "collapsed": true,
    "ExecuteTime": {
     "end_time": "2025-09-14T11:06:28.514644Z",
     "start_time": "2025-09-14T11:06:27.242305Z"
    }
   },
   "source": [
    "from metalib.metafvg import *\n",
    "from MetaTrader5 import TIMEFRAME_M1 as tf"
   ],
   "outputs": [],
   "execution_count": 1
  },
  {
   "metadata": {
    "ExecuteTime": {
     "end_time": "2025-09-14T11:06:28.530378Z",
     "start_time": "2025-09-14T11:06:28.514644Z"
    }
   },
   "cell_type": "code",
   "source": [
    "symbols = [\"BTCUSD\"]\n",
    "timeframe = tf\n",
    "size_position = 0.01\n",
    "limit_number_position = 1\n",
    "tag = \"t_metafvg\""
   ],
   "id": "5313ce01f9053d76",
   "outputs": [],
   "execution_count": 2
  },
  {
   "metadata": {
    "ExecuteTime": {
     "end_time": "2025-09-14T11:06:29.299372Z",
     "start_time": "2025-09-14T11:06:29.286850Z"
    }
   },
   "cell_type": "code",
   "source": [
    "instance = MetaFVG(symbols, timeframe, size_position, tag, limit_number_position)\n",
    "instance.debug = True"
   ],
   "id": "578da53e2affd855",
   "outputs": [
    {
     "name": "stdout",
     "output_type": "stream",
     "text": [
      "t_metafvg::    Initializing MetaFVG strategy with BTCUSD\n"
     ]
    }
   ],
   "execution_count": 3
  },
  {
   "metadata": {
    "ExecuteTime": {
     "end_time": "2025-09-14T11:06:30.295029Z",
     "start_time": "2025-09-14T11:06:30.274035Z"
    }
   },
   "cell_type": "code",
   "source": "instance.connect()",
   "id": "2483ef088bd8445",
   "outputs": [],
   "execution_count": 4
  },
  {
   "metadata": {
    "ExecuteTime": {
     "end_time": "2025-09-14T11:06:30.614024Z",
     "start_time": "2025-09-14T11:06:30.582170Z"
    }
   },
   "cell_type": "code",
   "source": "instance.fit()",
   "id": "4a7b886a42242d89",
   "outputs": [
    {
     "name": "stdout",
     "output_type": "stream",
     "text": [
      "t_metafvg::     Starting the FVG Detection pelo!!\n",
      "Last time in the index: 2025-09-13 23:54:00\n",
      "t_metafvg::    Started Momentum FVG detection... pelo\n"
     ]
    },
    {
     "name": "stderr",
     "output_type": "stream",
     "text": [
      "100%|██████████| 38/38 [00:00<00:00, 8939.57it/s]"
     ]
    },
    {
     "name": "stdout",
     "output_type": "stream",
     "text": [
      "t_metafvg::     Found 7 Bullish FVG patterns in the last 14 days on H4.\n",
      "t_metafvg::     Finished Bulish FVG detection and fitting pelo!!\n",
      "t_metafvg::     Number of Bulish FVG patterns before crossing filtering:  7\n",
      "t_metafvg::     Numver of Bulish FVG patterns after crossing filtering:   7\n",
      "t_metafvg::     Found 1 Bearish FVG patterns in the last 14 days on H4.\n",
      "t_metafvg::     Finished Bearish FVG detection and fitting pelo!!\n",
      "t_metafvg::     Number of Bearish FVG patterns before crossing filtering:  1\n",
      "t_metafvg::     Numver of Bearish FVG patterns after crossing filtering:   1\n"
     ]
    },
    {
     "name": "stderr",
     "output_type": "stream",
     "text": [
      "\n"
     ]
    }
   ],
   "execution_count": 5
  },
  {
   "metadata": {
    "ExecuteTime": {
     "end_time": "2025-09-14T11:06:34.039180Z",
     "start_time": "2025-09-14T11:06:32.392624Z"
    }
   },
   "cell_type": "code",
   "source": [
    "end_time = datetime.now(pytz.utc) + timedelta(hours=3)\n",
    "start_time = end_time - timedelta(days=40)\n",
    "\n",
    "try:\n",
    "    instance.run(start_time, end_time)\n",
    "except Exception as e:\n",
    "    print(f\"Error running strategy: {e}\")"
   ],
   "id": "cc9c98ddb66c7c32",
   "outputs": [
    {
     "name": "stdout",
     "output_type": "stream",
     "text": [
      "Last time in the index: 2025-09-14 11:59:00\n",
      "t_metafvg::    Generating trading signals\n",
      "t_metafvg::    Current open positions: 0\n",
      "t_metafvg::    Pulled data for symbol: BTCUSD\n",
      "t_metafvg::    Last Price for symbol:  $115886.94\n"
     ]
    },
    {
     "name": "stderr",
     "output_type": "stream",
     "text": [
      "C:\\Users\\Trismegist\\Documents\\GitHub\\metalib\\metalib\\metafvg.py:205: FutureWarning: Series.__getitem__ treating keys as positions is deprecated. In a future version, integer keys will always be treated as labels (consistent with DataFrame behavior). To access a value by position, use `ser.iloc[pos]`\n",
      "  last_price = ohlc_ltf['close'][-1]\n"
     ]
    },
    {
     "name": "stdout",
     "output_type": "stream",
     "text": [
      "t_metafvg:: We are in FVG H4 pello !!\n",
      "t_metafvg:: ATR value: 10.19$\n",
      "Error saving signal data: ('The signal vector must be in a pandas Series not: ', <class 'NoneType'>)\n",
      "Checking conditions with state: 1\n",
      "t_metafvg::    Rounding for BTCUSD:  3\n",
      "t_metafvg::    Strategy Volume:        0.01\n",
      "t_metafvg::    Strategy RRR:           2\n",
      "t_metafvg::    Long setup is valid - SL: $115843.52, ENTRY : $115868.46,TP : $115949.974, VOLUME: 0.01\n",
      "Order: {'action': 5, 'symbol': 'BTCUSD', 'sl': 115843.52, 'tp': 115949.974, 'volume': 0.01, 'type': 2, 'price': 115868.46, 'comment': 't_metafvg', 'deviation': 0, 'magic': 0, 'type_time': 1, 'type_filling': 1}\n",
      "Order sent: OrderSendResult(retcode=10018, deal=0, order=0, volume=0.0, price=0.0, bid=0.0, ask=0.0, comment='Market closed', request_id=3874202525, retcode_external=0, request=TradeRequest(action=5, magic=0, order=0, symbol='BTCUSD', volume=0.01, price=115868.46, stoplimit=0.0, sl=115843.52, tp=115949.974, deviation=0, type=2, type_filling=1, type_time=1, expiration=0, comment='t_metafvg', position=0, position_by=0)) for strategy: t_metafvg\n"
     ]
    }
   ],
   "execution_count": 6
  },
  {
   "metadata": {
    "ExecuteTime": {
     "end_time": "2025-07-26T20:57:28.990697Z",
     "start_time": "2025-07-26T20:57:28.974977Z"
    }
   },
   "cell_type": "code",
   "source": "instance.filt_bullish_htf_fvg_patterns",
   "id": "417ffdb4c06b421e",
   "outputs": [
    {
     "data": {
      "text/plain": [
       "            timestamp    gap_low   gap_high pattern_type candle_indices  \\\n",
       "2 2025-07-14 04:00:00  121097.47  119433.87      FVG_HTF      [7, 8, 9]   \n",
       "4 2025-07-21 04:00:00  118143.55  118138.60      FVG_HTF   [49, 50, 51]   \n",
       "\n",
       "  direction  crossings  \n",
       "2   bullish          1  \n",
       "4   bullish          4  "
      ],
      "text/html": [
       "<div>\n",
       "<style scoped>\n",
       "    .dataframe tbody tr th:only-of-type {\n",
       "        vertical-align: middle;\n",
       "    }\n",
       "\n",
       "    .dataframe tbody tr th {\n",
       "        vertical-align: top;\n",
       "    }\n",
       "\n",
       "    .dataframe thead th {\n",
       "        text-align: right;\n",
       "    }\n",
       "</style>\n",
       "<table border=\"1\" class=\"dataframe\">\n",
       "  <thead>\n",
       "    <tr style=\"text-align: right;\">\n",
       "      <th></th>\n",
       "      <th>timestamp</th>\n",
       "      <th>gap_low</th>\n",
       "      <th>gap_high</th>\n",
       "      <th>pattern_type</th>\n",
       "      <th>candle_indices</th>\n",
       "      <th>direction</th>\n",
       "      <th>crossings</th>\n",
       "    </tr>\n",
       "  </thead>\n",
       "  <tbody>\n",
       "    <tr>\n",
       "      <th>2</th>\n",
       "      <td>2025-07-14 04:00:00</td>\n",
       "      <td>121097.47</td>\n",
       "      <td>119433.87</td>\n",
       "      <td>FVG_HTF</td>\n",
       "      <td>[7, 8, 9]</td>\n",
       "      <td>bullish</td>\n",
       "      <td>1</td>\n",
       "    </tr>\n",
       "    <tr>\n",
       "      <th>4</th>\n",
       "      <td>2025-07-21 04:00:00</td>\n",
       "      <td>118143.55</td>\n",
       "      <td>118138.60</td>\n",
       "      <td>FVG_HTF</td>\n",
       "      <td>[49, 50, 51]</td>\n",
       "      <td>bullish</td>\n",
       "      <td>4</td>\n",
       "    </tr>\n",
       "  </tbody>\n",
       "</table>\n",
       "</div>"
      ]
     },
     "execution_count": 7,
     "metadata": {},
     "output_type": "execute_result"
    }
   ],
   "execution_count": 7
  },
  {
   "metadata": {
    "ExecuteTime": {
     "end_time": "2025-07-26T20:43:26.646708Z",
     "start_time": "2025-07-26T20:43:26.621213Z"
    }
   },
   "cell_type": "code",
   "source": "instance.filt_bearish_htf_fvg_patterns",
   "id": "d1ff9976b6bf654",
   "outputs": [
    {
     "data": {
      "text/plain": [
       "            timestamp    gap_low   gap_high pattern_type candle_indices  \\\n",
       "0 2025-07-14 16:00:00  121341.17  120494.97      FVG_HTF   [10, 11, 12]   \n",
       "3 2025-07-18 08:00:00  119620.17  119503.87      FVG_HTF   [32, 33, 34]   \n",
       "4 2025-07-18 16:00:00  118431.70  117967.87      FVG_HTF   [34, 35, 36]   \n",
       "5 2025-07-23 04:00:00  119418.30  118997.15      FVG_HTF   [61, 62, 63]   \n",
       "6 2025-07-25 00:00:00  118448.02  117772.54      FVG_HTF   [72, 73, 74]   \n",
       "7 2025-07-25 04:00:00  117599.55  116044.15      FVG_HTF   [73, 74, 75]   \n",
       "\n",
       "  direction  crossings  \n",
       "0   bearish          2  \n",
       "3   bearish          4  \n",
       "4   bearish          3  \n",
       "5   bearish          4  \n",
       "6   bearish          0  \n",
       "7   bearish          0  "
      ],
      "text/html": [
       "<div>\n",
       "<style scoped>\n",
       "    .dataframe tbody tr th:only-of-type {\n",
       "        vertical-align: middle;\n",
       "    }\n",
       "\n",
       "    .dataframe tbody tr th {\n",
       "        vertical-align: top;\n",
       "    }\n",
       "\n",
       "    .dataframe thead th {\n",
       "        text-align: right;\n",
       "    }\n",
       "</style>\n",
       "<table border=\"1\" class=\"dataframe\">\n",
       "  <thead>\n",
       "    <tr style=\"text-align: right;\">\n",
       "      <th></th>\n",
       "      <th>timestamp</th>\n",
       "      <th>gap_low</th>\n",
       "      <th>gap_high</th>\n",
       "      <th>pattern_type</th>\n",
       "      <th>candle_indices</th>\n",
       "      <th>direction</th>\n",
       "      <th>crossings</th>\n",
       "    </tr>\n",
       "  </thead>\n",
       "  <tbody>\n",
       "    <tr>\n",
       "      <th>0</th>\n",
       "      <td>2025-07-14 16:00:00</td>\n",
       "      <td>121341.17</td>\n",
       "      <td>120494.97</td>\n",
       "      <td>FVG_HTF</td>\n",
       "      <td>[10, 11, 12]</td>\n",
       "      <td>bearish</td>\n",
       "      <td>2</td>\n",
       "    </tr>\n",
       "    <tr>\n",
       "      <th>3</th>\n",
       "      <td>2025-07-18 08:00:00</td>\n",
       "      <td>119620.17</td>\n",
       "      <td>119503.87</td>\n",
       "      <td>FVG_HTF</td>\n",
       "      <td>[32, 33, 34]</td>\n",
       "      <td>bearish</td>\n",
       "      <td>4</td>\n",
       "    </tr>\n",
       "    <tr>\n",
       "      <th>4</th>\n",
       "      <td>2025-07-18 16:00:00</td>\n",
       "      <td>118431.70</td>\n",
       "      <td>117967.87</td>\n",
       "      <td>FVG_HTF</td>\n",
       "      <td>[34, 35, 36]</td>\n",
       "      <td>bearish</td>\n",
       "      <td>3</td>\n",
       "    </tr>\n",
       "    <tr>\n",
       "      <th>5</th>\n",
       "      <td>2025-07-23 04:00:00</td>\n",
       "      <td>119418.30</td>\n",
       "      <td>118997.15</td>\n",
       "      <td>FVG_HTF</td>\n",
       "      <td>[61, 62, 63]</td>\n",
       "      <td>bearish</td>\n",
       "      <td>4</td>\n",
       "    </tr>\n",
       "    <tr>\n",
       "      <th>6</th>\n",
       "      <td>2025-07-25 00:00:00</td>\n",
       "      <td>118448.02</td>\n",
       "      <td>117772.54</td>\n",
       "      <td>FVG_HTF</td>\n",
       "      <td>[72, 73, 74]</td>\n",
       "      <td>bearish</td>\n",
       "      <td>0</td>\n",
       "    </tr>\n",
       "    <tr>\n",
       "      <th>7</th>\n",
       "      <td>2025-07-25 04:00:00</td>\n",
       "      <td>117599.55</td>\n",
       "      <td>116044.15</td>\n",
       "      <td>FVG_HTF</td>\n",
       "      <td>[73, 74, 75]</td>\n",
       "      <td>bearish</td>\n",
       "      <td>0</td>\n",
       "    </tr>\n",
       "  </tbody>\n",
       "</table>\n",
       "</div>"
      ]
     },
     "execution_count": 7,
     "metadata": {},
     "output_type": "execute_result"
    }
   ],
   "execution_count": 7
  },
  {
   "metadata": {},
   "cell_type": "markdown",
   "source": "",
   "id": "5ad4abe727b194ff"
  }
 ],
 "metadata": {
  "kernelspec": {
   "display_name": "Python 3",
   "language": "python",
   "name": "python3"
  },
  "language_info": {
   "codemirror_mode": {
    "name": "ipython",
    "version": 2
   },
   "file_extension": ".py",
   "mimetype": "text/x-python",
   "name": "python",
   "nbconvert_exporter": "python",
   "pygments_lexer": "ipython2",
   "version": "2.7.6"
  }
 },
 "nbformat": 4,
 "nbformat_minor": 5
}
