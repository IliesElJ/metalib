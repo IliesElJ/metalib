{
 "cells": [
  {
   "cell_type": "code",
   "id": "initial_id",
   "metadata": {
    "collapsed": true,
    "ExecuteTime": {
     "end_time": "2025-07-26T20:46:20.119002Z",
     "start_time": "2025-07-26T20:46:19.497908Z"
    }
   },
   "source": [
    "from metalib.metafvg import *\n",
    "from MetaTrader5 import TIMEFRAME_M1 as tf"
   ],
   "outputs": [],
   "execution_count": 1
  },
  {
   "metadata": {
    "ExecuteTime": {
     "end_time": "2025-07-26T20:46:20.135005Z",
     "start_time": "2025-07-26T20:46:20.119002Z"
    }
   },
   "cell_type": "code",
   "source": [
    "symbols = [\"BTCUSD\"]\n",
    "timeframe = tf\n",
    "size_position = 0.01\n",
    "limit_number_position = 1\n",
    "tag = \"t_metafvg\""
   ],
   "id": "5313ce01f9053d76",
   "outputs": [],
   "execution_count": 2
  },
  {
   "metadata": {
    "ExecuteTime": {
     "end_time": "2025-07-26T20:46:20.273354Z",
     "start_time": "2025-07-26T20:46:20.253769Z"
    }
   },
   "cell_type": "code",
   "source": [
    "instance = MetaFVG(symbols, timeframe, size_position, tag, limit_number_position)\n",
    "instance.debug = True"
   ],
   "id": "578da53e2affd855",
   "outputs": [
    {
     "name": "stdout",
     "output_type": "stream",
     "text": [
      "Initializing MetaFvg strategy with symbols: ['BTCUSD'], timeframe: 1\n"
     ]
    }
   ],
   "execution_count": 3
  },
  {
   "metadata": {
    "ExecuteTime": {
     "end_time": "2025-07-26T20:46:22.373527Z",
     "start_time": "2025-07-26T20:46:20.336313Z"
    }
   },
   "cell_type": "code",
   "source": "instance.connect()",
   "id": "2483ef088bd8445",
   "outputs": [],
   "execution_count": 4
  },
  {
   "metadata": {
    "ExecuteTime": {
     "end_time": "2025-07-26T20:46:22.474535Z",
     "start_time": "2025-07-26T20:46:22.388852Z"
    }
   },
   "cell_type": "code",
   "source": "instance.fit()",
   "id": "4a7b886a42242d89",
   "outputs": [
    {
     "name": "stdout",
     "output_type": "stream",
     "text": [
      "t_metafvg::     Starting the FVG Detection pelo!!\n",
      "Last time in the index: 2025-07-25 23:54:00\n",
      "t_metafvg::    Started Momentum FVG detection... pelo\n"
     ]
    },
    {
     "name": "stderr",
     "output_type": "stream",
     "text": [
      "100%|██████████| 77/77 [00:00<00:00, 7270.79it/s]"
     ]
    },
    {
     "name": "stdout",
     "output_type": "stream",
     "text": [
      "t_metafvg::     Found 5 Bullish FVG patterns in the last 14 days on H4.\n",
      "t_metafvg::     Finished Bulish FVG detection and fitting pelo!!\n",
      "t_metafvg::     Number of Bulish FVG patterns before crossing filtering:  5\n",
      "t_metafvg::     Numver of Bulish FVG patterns after crossing filtering:   2\n",
      "t_metafvg::     Found 8 Bearish FVG patterns in the last 14 days on H4.\n",
      "t_metafvg::     Finished Bearish FVG detection and fitting pelo!!\n",
      "t_metafvg::     Number of Bearish FVG patterns before crossing filtering:  8\n",
      "t_metafvg::     Numver of Bearish FVG patterns after crossing filtering:   6\n"
     ]
    },
    {
     "name": "stderr",
     "output_type": "stream",
     "text": [
      "\n"
     ]
    }
   ],
   "execution_count": 5
  },
  {
   "metadata": {
    "ExecuteTime": {
     "end_time": "2025-07-26T20:46:22.680161Z",
     "start_time": "2025-07-26T20:46:22.585127Z"
    }
   },
   "cell_type": "code",
   "source": [
    "end_time = datetime.now(pytz.utc) + timedelta(hours=3)\n",
    "start_time = end_time - timedelta(days=40)\n",
    "\n",
    "try:\n",
    "    instance.run(start_time, end_time)\n",
    "except Exception as e:\n",
    "    print(f\"Error running strategy: {e}\")"
   ],
   "id": "cc9c98ddb66c7c32",
   "outputs": [
    {
     "name": "stdout",
     "output_type": "stream",
     "text": [
      "Last time in the index: 2025-07-26 13:26:00\n",
      "t_metafvg::    Generating trading signals\n",
      "t_metafvg::    Current open positions: 0\n",
      "t_metafvg::    Pulled data for symbol: BTCUSD\n",
      "t_metafvg::    Last Price for symbol:  $117665.4\n",
      "t_metafvg::    Price not in any Bullish OR Bearish FVG H4, no action required\n",
      "Error saving signal data: ('The signal vector must be in a pandas Series not: ', <class 'NoneType'>)\n",
      "Checking conditions with state: 0\n",
      "t_metafvg::    State is 0, no action required\n"
     ]
    },
    {
     "name": "stderr",
     "output_type": "stream",
     "text": [
      "C:\\Users\\Trismegist\\Documents\\GitHub\\metalib\\metalib\\metafvg.py:196: FutureWarning: Series.__getitem__ treating keys as positions is deprecated. In a future version, integer keys will always be treated as labels (consistent with DataFrame behavior). To access a value by position, use `ser.iloc[pos]`\n",
      "  last_price = ohlc_ltf['close'][-1]\n"
     ]
    }
   ],
   "execution_count": 6
  },
  {
   "metadata": {
    "ExecuteTime": {
     "end_time": "2025-07-26T20:43:26.646708Z",
     "start_time": "2025-07-26T20:43:26.621213Z"
    }
   },
   "cell_type": "code",
   "source": "instance.filt_bearish_htf_fvg_patterns",
   "id": "d1ff9976b6bf654",
   "outputs": [
    {
     "data": {
      "text/plain": [
       "            timestamp    gap_low   gap_high pattern_type candle_indices  \\\n",
       "0 2025-07-14 16:00:00  121341.17  120494.97      FVG_HTF   [10, 11, 12]   \n",
       "3 2025-07-18 08:00:00  119620.17  119503.87      FVG_HTF   [32, 33, 34]   \n",
       "4 2025-07-18 16:00:00  118431.70  117967.87      FVG_HTF   [34, 35, 36]   \n",
       "5 2025-07-23 04:00:00  119418.30  118997.15      FVG_HTF   [61, 62, 63]   \n",
       "6 2025-07-25 00:00:00  118448.02  117772.54      FVG_HTF   [72, 73, 74]   \n",
       "7 2025-07-25 04:00:00  117599.55  116044.15      FVG_HTF   [73, 74, 75]   \n",
       "\n",
       "  direction  crossings  \n",
       "0   bearish          2  \n",
       "3   bearish          4  \n",
       "4   bearish          3  \n",
       "5   bearish          4  \n",
       "6   bearish          0  \n",
       "7   bearish          0  "
      ],
      "text/html": [
       "<div>\n",
       "<style scoped>\n",
       "    .dataframe tbody tr th:only-of-type {\n",
       "        vertical-align: middle;\n",
       "    }\n",
       "\n",
       "    .dataframe tbody tr th {\n",
       "        vertical-align: top;\n",
       "    }\n",
       "\n",
       "    .dataframe thead th {\n",
       "        text-align: right;\n",
       "    }\n",
       "</style>\n",
       "<table border=\"1\" class=\"dataframe\">\n",
       "  <thead>\n",
       "    <tr style=\"text-align: right;\">\n",
       "      <th></th>\n",
       "      <th>timestamp</th>\n",
       "      <th>gap_low</th>\n",
       "      <th>gap_high</th>\n",
       "      <th>pattern_type</th>\n",
       "      <th>candle_indices</th>\n",
       "      <th>direction</th>\n",
       "      <th>crossings</th>\n",
       "    </tr>\n",
       "  </thead>\n",
       "  <tbody>\n",
       "    <tr>\n",
       "      <th>0</th>\n",
       "      <td>2025-07-14 16:00:00</td>\n",
       "      <td>121341.17</td>\n",
       "      <td>120494.97</td>\n",
       "      <td>FVG_HTF</td>\n",
       "      <td>[10, 11, 12]</td>\n",
       "      <td>bearish</td>\n",
       "      <td>2</td>\n",
       "    </tr>\n",
       "    <tr>\n",
       "      <th>3</th>\n",
       "      <td>2025-07-18 08:00:00</td>\n",
       "      <td>119620.17</td>\n",
       "      <td>119503.87</td>\n",
       "      <td>FVG_HTF</td>\n",
       "      <td>[32, 33, 34]</td>\n",
       "      <td>bearish</td>\n",
       "      <td>4</td>\n",
       "    </tr>\n",
       "    <tr>\n",
       "      <th>4</th>\n",
       "      <td>2025-07-18 16:00:00</td>\n",
       "      <td>118431.70</td>\n",
       "      <td>117967.87</td>\n",
       "      <td>FVG_HTF</td>\n",
       "      <td>[34, 35, 36]</td>\n",
       "      <td>bearish</td>\n",
       "      <td>3</td>\n",
       "    </tr>\n",
       "    <tr>\n",
       "      <th>5</th>\n",
       "      <td>2025-07-23 04:00:00</td>\n",
       "      <td>119418.30</td>\n",
       "      <td>118997.15</td>\n",
       "      <td>FVG_HTF</td>\n",
       "      <td>[61, 62, 63]</td>\n",
       "      <td>bearish</td>\n",
       "      <td>4</td>\n",
       "    </tr>\n",
       "    <tr>\n",
       "      <th>6</th>\n",
       "      <td>2025-07-25 00:00:00</td>\n",
       "      <td>118448.02</td>\n",
       "      <td>117772.54</td>\n",
       "      <td>FVG_HTF</td>\n",
       "      <td>[72, 73, 74]</td>\n",
       "      <td>bearish</td>\n",
       "      <td>0</td>\n",
       "    </tr>\n",
       "    <tr>\n",
       "      <th>7</th>\n",
       "      <td>2025-07-25 04:00:00</td>\n",
       "      <td>117599.55</td>\n",
       "      <td>116044.15</td>\n",
       "      <td>FVG_HTF</td>\n",
       "      <td>[73, 74, 75]</td>\n",
       "      <td>bearish</td>\n",
       "      <td>0</td>\n",
       "    </tr>\n",
       "  </tbody>\n",
       "</table>\n",
       "</div>"
      ]
     },
     "execution_count": 7,
     "metadata": {},
     "output_type": "execute_result"
    }
   ],
   "execution_count": 7
  },
  {
   "metadata": {
    "ExecuteTime": {
     "end_time": "2025-07-26T19:33:39.098812Z",
     "start_time": "2025-07-26T19:33:38.641862Z"
    }
   },
   "cell_type": "code",
   "source": "main(symbol, tf, lower_band, upper_band, size_position, sl, tp, sens_fvg, limit_number_position, tag)",
   "id": "4aa084e8cb44ba42",
   "outputs": [
    {
     "ename": "NameError",
     "evalue": "name 'main' is not defined",
     "output_type": "error",
     "traceback": [
      "\u001B[1;31m---------------------------------------------------------------------------\u001B[0m",
      "\u001B[1;31mNameError\u001B[0m                                 Traceback (most recent call last)",
      "Cell \u001B[1;32mIn[7], line 1\u001B[0m\n\u001B[1;32m----> 1\u001B[0m \u001B[43mmain\u001B[49m(symbol, tf, lower_band, upper_band, size_position, sl, tp, sens_fvg, limit_number_position, tag)\n",
      "\u001B[1;31mNameError\u001B[0m: name 'main' is not defined"
     ]
    }
   ],
   "execution_count": 7
  },
  {
   "metadata": {
    "ExecuteTime": {
     "end_time": "2025-07-25T22:02:09.921327Z",
     "start_time": "2025-07-25T22:02:09.626351Z"
    }
   },
   "cell_type": "code",
   "source": "from metalib.utils import load_hist_data",
   "id": "615577035ff10c33",
   "outputs": [],
   "execution_count": 3
  },
  {
   "metadata": {
    "ExecuteTime": {
     "end_time": "2025-07-26T19:38:14.874551Z",
     "start_time": "2025-07-26T19:38:14.846221Z"
    }
   },
   "cell_type": "code",
   "source": "instance.all_htf_fvg_patterns",
   "id": "7b3d0edbd3ff36e2",
   "outputs": [
    {
     "data": {
      "text/plain": [
       "            timestamp    gap_low   gap_high pattern_type candle_indices  \\\n",
       "0 2025-07-13 04:00:00  117625.61  117473.51      FVG_HTF      [2, 3, 4]   \n",
       "1 2025-07-13 12:00:00  118083.61  118005.31      FVG_HTF      [4, 5, 6]   \n",
       "2 2025-07-14 04:00:00  121097.47  119433.87      FVG_HTF     [8, 9, 10]   \n",
       "3 2025-07-16 08:00:00  118541.17  118192.67      FVG_HTF   [21, 22, 23]   \n",
       "4 2025-07-21 04:00:00  118143.55  118138.60      FVG_HTF   [50, 51, 52]   \n",
       "\n",
       "   crossings  \n",
       "0         20  \n",
       "1         11  \n",
       "2          1  \n",
       "3          6  \n",
       "4          4  "
      ],
      "text/html": [
       "<div>\n",
       "<style scoped>\n",
       "    .dataframe tbody tr th:only-of-type {\n",
       "        vertical-align: middle;\n",
       "    }\n",
       "\n",
       "    .dataframe tbody tr th {\n",
       "        vertical-align: top;\n",
       "    }\n",
       "\n",
       "    .dataframe thead th {\n",
       "        text-align: right;\n",
       "    }\n",
       "</style>\n",
       "<table border=\"1\" class=\"dataframe\">\n",
       "  <thead>\n",
       "    <tr style=\"text-align: right;\">\n",
       "      <th></th>\n",
       "      <th>timestamp</th>\n",
       "      <th>gap_low</th>\n",
       "      <th>gap_high</th>\n",
       "      <th>pattern_type</th>\n",
       "      <th>candle_indices</th>\n",
       "      <th>crossings</th>\n",
       "    </tr>\n",
       "  </thead>\n",
       "  <tbody>\n",
       "    <tr>\n",
       "      <th>0</th>\n",
       "      <td>2025-07-13 04:00:00</td>\n",
       "      <td>117625.61</td>\n",
       "      <td>117473.51</td>\n",
       "      <td>FVG_HTF</td>\n",
       "      <td>[2, 3, 4]</td>\n",
       "      <td>20</td>\n",
       "    </tr>\n",
       "    <tr>\n",
       "      <th>1</th>\n",
       "      <td>2025-07-13 12:00:00</td>\n",
       "      <td>118083.61</td>\n",
       "      <td>118005.31</td>\n",
       "      <td>FVG_HTF</td>\n",
       "      <td>[4, 5, 6]</td>\n",
       "      <td>11</td>\n",
       "    </tr>\n",
       "    <tr>\n",
       "      <th>2</th>\n",
       "      <td>2025-07-14 04:00:00</td>\n",
       "      <td>121097.47</td>\n",
       "      <td>119433.87</td>\n",
       "      <td>FVG_HTF</td>\n",
       "      <td>[8, 9, 10]</td>\n",
       "      <td>1</td>\n",
       "    </tr>\n",
       "    <tr>\n",
       "      <th>3</th>\n",
       "      <td>2025-07-16 08:00:00</td>\n",
       "      <td>118541.17</td>\n",
       "      <td>118192.67</td>\n",
       "      <td>FVG_HTF</td>\n",
       "      <td>[21, 22, 23]</td>\n",
       "      <td>6</td>\n",
       "    </tr>\n",
       "    <tr>\n",
       "      <th>4</th>\n",
       "      <td>2025-07-21 04:00:00</td>\n",
       "      <td>118143.55</td>\n",
       "      <td>118138.60</td>\n",
       "      <td>FVG_HTF</td>\n",
       "      <td>[50, 51, 52]</td>\n",
       "      <td>4</td>\n",
       "    </tr>\n",
       "  </tbody>\n",
       "</table>\n",
       "</div>"
      ]
     },
     "execution_count": 7,
     "metadata": {},
     "output_type": "execute_result"
    }
   ],
   "execution_count": 7
  },
  {
   "metadata": {
    "ExecuteTime": {
     "end_time": "2025-07-25T22:22:14.181395Z",
     "start_time": "2025-07-25T22:22:13.156508Z"
    }
   },
   "cell_type": "code",
   "source": "ohlc_df = load_hist_data(\"EURUSD\", 2022)",
   "id": "9ae451168446fc71",
   "outputs": [
    {
     "name": "stderr",
     "output_type": "stream",
     "text": [
      "C:\\Users\\Trismegist\\anaconda3\\envs\\adonys\\lib\\site-packages\\pandas\\core\\indexes\\base.py:7588: FutureWarning:\n",
      "\n",
      "Dtype inference on a pandas object (Series, Index, ExtensionArray) is deprecated. The Index constructor will keep the original dtype in the future. Call `infer_objects` on the result to get the old behavior.\n",
      "\n"
     ]
    }
   ],
   "execution_count": 36
  },
  {
   "metadata": {
    "ExecuteTime": {
     "end_time": "2025-07-25T22:17:58.115796Z",
     "start_time": "2025-07-25T22:17:58.103643Z"
    }
   },
   "cell_type": "code",
   "source": [
    "import pandas as pd\n",
    "from tqdm.notebook import tqdm\n",
    "from typing import List, Dict\n",
    "\n",
    "def detect_fvg_momentum_tres_strong(ohlc_df):\n",
    "    \"\"\"\n",
    "    Detect FVG Pattern 1: Momentum très strong\n",
    "    - Strong momentum with significant gap\n",
    "    - Target hit fast\n",
    "    \"\"\"\n",
    "    patterns = []\n",
    "    print(\"Started Momentum FVG detection... pelo\")\n",
    "\n",
    "    for i in tqdm(range(len(ohlc_df) - 2)):\n",
    "        candle_i = ohlc_df.iloc[i]\n",
    "        candle_i1 = ohlc_df.iloc[i + 1]  # Gap candle\n",
    "        candle_i2 = ohlc_df.iloc[i + 2]\n",
    "\n",
    "        # Check for bullish FVG: gap between high of i and low of i+2\n",
    "        if candle_i['high'] < candle_i2['low']:\n",
    "            # Additional momentum checks for \"très strong\"\n",
    "            body_i1 = abs(candle_i1['close'] - candle_i1['open'])\n",
    "            range_i1 = candle_i1['high'] - candle_i1['low']\n",
    "            # Strong momentum conditions\n",
    "            if (candle_i1['close'] > candle_i1['open']):\n",
    "                pattern = {\n",
    "                    'timestamp': candle_i1.name,  # i+1 candle timestamp\n",
    "                    'gap_low': candle_i2['low'],   # Low of i+2 candle\n",
    "                    'gap_high': candle_i['high'],  # High of i candle\n",
    "                    'pattern_type': 'momentum_tres_strong',\n",
    "                    'candle_indices': [i, i+1, i+2]\n",
    "                }\n",
    "                patterns.append(pattern)\n",
    "\n",
    "    return patterns"
   ],
   "id": "1e07e9c46ef168f9",
   "outputs": [],
   "execution_count": 24
  },
  {
   "metadata": {
    "ExecuteTime": {
     "end_time": "2025-07-25T22:18:04.472075Z",
     "start_time": "2025-07-25T22:18:04.459523Z"
    }
   },
   "cell_type": "code",
   "source": "ohlc_df = ohlc_df.loc[\"03-02-2022\"]",
   "id": "3d20e371295129af",
   "outputs": [],
   "execution_count": 26
  },
  {
   "metadata": {
    "ExecuteTime": {
     "end_time": "2025-07-25T22:22:51.921918Z",
     "start_time": "2025-07-25T22:22:51.909365Z"
    }
   },
   "cell_type": "code",
   "source": [
    "ohlc_resampled_df = ohlc_df.resample('4h').agg({'open': 'first',\n",
    "                             'high': 'max',\n",
    "                             'low': 'min',\n",
    "                             'close': 'last'},\n",
    "                           label=\"right\",\n",
    "                           closed=\"right\")"
   ],
   "id": "77bb804bd41fe07b",
   "outputs": [],
   "execution_count": 39
  },
  {
   "metadata": {
    "ExecuteTime": {
     "end_time": "2025-07-25T22:22:40.801554Z",
     "start_time": "2025-07-25T22:22:40.771458Z"
    }
   },
   "cell_type": "code",
   "source": "ohlc_df = ohlc_df.loc[\"06-2022\"]",
   "id": "71f52f957ed8d636",
   "outputs": [],
   "execution_count": 37
  },
  {
   "metadata": {
    "ExecuteTime": {
     "end_time": "2025-07-25T22:22:55.633440Z",
     "start_time": "2025-07-25T22:22:55.591186Z"
    }
   },
   "cell_type": "code",
   "source": "momentum_fvg_patterns = detect_fvg_momentum_tres_strong(ohlc_resampled_df)",
   "id": "66975e489407487d",
   "outputs": [
    {
     "name": "stdout",
     "output_type": "stream",
     "text": [
      "Started Momentum FVG detection... pelo\n"
     ]
    },
    {
     "data": {
      "text/plain": [
       "  0%|          | 0/178 [00:00<?, ?it/s]"
      ],
      "application/vnd.jupyter.widget-view+json": {
       "version_major": 2,
       "version_minor": 0,
       "model_id": "98df570b0c844a1387e5e875dd8f4444"
      }
     },
     "metadata": {},
     "output_type": "display_data"
    }
   ],
   "execution_count": 40
  },
  {
   "metadata": {
    "ExecuteTime": {
     "end_time": "2025-07-25T22:23:52.744206Z",
     "start_time": "2025-07-25T22:23:52.732094Z"
    }
   },
   "cell_type": "code",
   "source": "momentum_fvg_patterns",
   "id": "92fbba0e76dcc82b",
   "outputs": [
    {
     "data": {
      "text/plain": [
       "[{'timestamp': Timestamp('2022-06-02 00:00:00'),\n",
       "  'gap_low': 1.06806,\n",
       "  'gap_high': 1.06595,\n",
       "  'pattern_type': 'momentum_tres_strong',\n",
       "  'candle_indices': [5, 6, 7]},\n",
       " {'timestamp': Timestamp('2022-06-02 08:00:00'),\n",
       "  'gap_low': 1.07305,\n",
       "  'gap_high': 1.06972,\n",
       "  'pattern_type': 'momentum_tres_strong',\n",
       "  'candle_indices': [7, 8, 9]},\n",
       " {'timestamp': Timestamp('2022-06-02 12:00:00'),\n",
       "  'gap_low': 1.07438,\n",
       "  'gap_high': 1.07383,\n",
       "  'pattern_type': 'momentum_tres_strong',\n",
       "  'candle_indices': [8, 9, 10]},\n",
       " {'timestamp': Timestamp('2022-06-08 04:00:00'),\n",
       "  'gap_low': 1.07188,\n",
       "  'gap_high': 1.06948,\n",
       "  'pattern_type': 'momentum_tres_strong',\n",
       "  'candle_indices': [42, 43, 44]},\n",
       " {'timestamp': Timestamp('2022-06-13 20:00:00'),\n",
       "  'gap_low': 1.04178,\n",
       "  'gap_high': 1.04162,\n",
       "  'pattern_type': 'momentum_tres_strong',\n",
       "  'candle_indices': [76, 77, 78]},\n",
       " {'timestamp': Timestamp('2022-06-15 00:00:00'),\n",
       "  'gap_low': 1.04553,\n",
       "  'gap_high': 1.04517,\n",
       "  'pattern_type': 'momentum_tres_strong',\n",
       "  'candle_indices': [83, 84, 85]},\n",
       " {'timestamp': Timestamp('2022-06-16 08:00:00'),\n",
       "  'gap_low': 1.05222,\n",
       "  'gap_high': 1.0426,\n",
       "  'pattern_type': 'momentum_tres_strong',\n",
       "  'candle_indices': [91, 92, 93]},\n",
       " {'timestamp': Timestamp('2022-06-16 12:00:00'),\n",
       "  'gap_low': 1.05437,\n",
       "  'gap_high': 1.05292,\n",
       "  'pattern_type': 'momentum_tres_strong',\n",
       "  'candle_indices': [92, 93, 94]},\n",
       " {'timestamp': Timestamp('2022-06-19 20:00:00'),\n",
       "  'gap_low': 1.05101,\n",
       "  'gap_high': 1.04926,\n",
       "  'pattern_type': 'momentum_tres_strong',\n",
       "  'candle_indices': [112, 113, 114]},\n",
       " {'timestamp': Timestamp('2022-06-21 00:00:00'),\n",
       "  'gap_low': 1.05442,\n",
       "  'gap_high': 1.05424,\n",
       "  'pattern_type': 'momentum_tres_strong',\n",
       "  'candle_indices': [119, 120, 121]},\n",
       " {'timestamp': Timestamp('2022-06-22 08:00:00'),\n",
       "  'gap_low': 1.0565,\n",
       "  'gap_high': 1.05289,\n",
       "  'pattern_type': 'momentum_tres_strong',\n",
       "  'candle_indices': [127, 128, 129]}]"
      ]
     },
     "execution_count": 43,
     "metadata": {},
     "output_type": "execute_result"
    }
   ],
   "execution_count": 43
  },
  {
   "metadata": {
    "ExecuteTime": {
     "end_time": "2025-07-25T22:32:37.919594Z",
     "start_time": "2025-07-25T22:32:37.911533Z"
    }
   },
   "cell_type": "code",
   "source": "momentum_fvg_patterns = pd.DataFrame(momentum_fvg_patterns)",
   "id": "c2911189ecac7257",
   "outputs": [],
   "execution_count": 45
  },
  {
   "metadata": {
    "ExecuteTime": {
     "end_time": "2025-07-25T22:23:45.179145Z",
     "start_time": "2025-07-25T22:23:45.150208Z"
    }
   },
   "cell_type": "code",
   "source": [
    "import plotly.graph_objects as go\n",
    "\n",
    "fig = go.Figure(data=[go.Candlestick(x=ohlc_resampled_df.index,\n",
    "                open=ohlc_resampled_df['open'],\n",
    "                high=ohlc_resampled_df['high'],\n",
    "                low=ohlc_resampled_df['low'],\n",
    "                close=ohlc_resampled_df['close'])])\n",
    "\n",
    "fig.update_layout(    width=1000,\n",
    "    height=1000,)\n",
    "\n",
    "fig.show()"
   ],
   "id": "7e1837ee1b380429",
   "outputs": [
    {
     "data": {
      "application/vnd.plotly.v1+json": {
       "data": [
        {
         "close": [
          1.0715,
          1.07083,
          1.06446,
          1.06502,
          1.06509,
          1.06541,
          1.06856,
          1.06941,
          1.07322,
          1.07485,
          1.075,
          1.0753,
          1.07561,
          1.07287,
          1.0711,
          1.07203,
          1.07169,
          null,
          null,
          null,
          null,
          null,
          null,
          null,
          null,
          null,
          null,
          null,
          1.07252,
          1.07251,
          1.07419,
          1.07306,
          1.06973,
          1.06953,
          1.06896,
          1.06815,
          1.06873,
          1.06619,
          1.06965,
          1.07079,
          1.06972,
          1.06836,
          1.06887,
          1.07356,
          1.07416,
          1.07136,
          1.07168,
          1.07294,
          1.07018,
          1.07282,
          1.06575,
          1.06131,
          1.0619,
          1.06341,
          1.06254,
          1.0574,
          1.05199,
          1.05186,
          1.05137,
          null,
          null,
          null,
          null,
          null,
          null,
          null,
          null,
          null,
          null,
          null,
          1.04907,
          1.04916,
          1.04657,
          1.04457,
          1.04344,
          1.04104,
          1.04148,
          1.04271,
          1.04676,
          1.0442,
          1.04167,
          1.04108,
          1.04367,
          1.04426,
          1.04663,
          1.04582,
          1.03856,
          1.04541,
          1.04573,
          1.04429,
          1.03966,
          1.0385,
          1.05291,
          1.05606,
          1.05464,
          1.05203,
          1.05176,
          1.04857,
          1.04733,
          1.04946,
          1.04934,
          null,
          null,
          null,
          null,
          null,
          null,
          null,
          null,
          null,
          null,
          null,
          1.04898,
          1.05283,
          1.05167,
          1.05259,
          1.05377,
          1.05111,
          1.05172,
          1.0532,
          1.05566,
          1.055,
          1.05484,
          1.05312,
          1.05312,
          1.05107,
          1.05045,
          1.05114,
          1.05797,
          1.0567,
          1.05646,
          1.05692,
          1.05075,
          1.05054,
          1.05019,
          1.0527,
          1.05192,
          1.05328,
          1.05234,
          1.05157,
          1.05381,
          1.05588,
          1.05519,
          null,
          null,
          null,
          null,
          null,
          null,
          null,
          null,
          null,
          null,
          null,
          1.05665,
          1.05563,
          1.05877,
          1.05668,
          1.06002,
          1.05801,
          1.05797,
          1.05811,
          1.05842,
          1.05694,
          1.05342,
          1.05257,
          1.0522,
          1.05296,
          1.05169,
          1.05224,
          1.04767,
          1.04409,
          1.04456,
          1.04516,
          1.04453,
          1.03935,
          1.04686,
          1.04789,
          1.04783,
          1.04543
         ],
         "high": [
          1.07372,
          1.07393,
          1.07305,
          1.06604,
          1.06546,
          1.06595,
          1.0692,
          1.06972,
          1.07383,
          1.07487,
          1.0751,
          1.07643,
          1.07606,
          1.07624,
          1.07519,
          1.07293,
          1.07216,
          null,
          null,
          null,
          null,
          null,
          null,
          null,
          null,
          null,
          null,
          null,
          1.07298,
          1.07316,
          1.07424,
          1.07518,
          1.07309,
          1.0703,
          1.06975,
          1.06918,
          1.06998,
          1.07049,
          1.07098,
          1.07142,
          1.07084,
          1.07011,
          1.06948,
          1.07397,
          1.07484,
          1.07433,
          1.07207,
          1.07337,
          1.07325,
          1.0749,
          1.07738,
          1.06599,
          1.06218,
          1.06353,
          1.06422,
          1.06332,
          1.0586,
          1.05333,
          1.05222,
          null,
          null,
          null,
          null,
          null,
          null,
          null,
          null,
          null,
          null,
          null,
          1.05201,
          1.04955,
          1.04954,
          1.04856,
          1.04742,
          1.04581,
          1.04162,
          1.04323,
          1.04748,
          1.04846,
          1.04682,
          1.04433,
          1.04382,
          1.04517,
          1.04942,
          1.05077,
          1.04608,
          1.04647,
          1.04696,
          1.04692,
          1.0444,
          1.0426,
          1.05292,
          1.06014,
          1.0561,
          1.0552,
          1.05306,
          1.05357,
          1.0508,
          1.05027,
          1.05,
          null,
          null,
          null,
          null,
          null,
          null,
          null,
          null,
          null,
          null,
          null,
          1.04926,
          1.05287,
          1.05427,
          1.05458,
          1.05416,
          1.05381,
          1.0521,
          1.05424,
          1.05647,
          1.05824,
          1.05666,
          1.05487,
          1.05387,
          1.05314,
          1.05138,
          1.05289,
          1.06057,
          1.05894,
          1.05692,
          1.0581,
          1.05792,
          1.05218,
          1.0554,
          1.05334,
          1.05308,
          1.05371,
          1.05464,
          1.05547,
          1.05712,
          1.05593,
          1.05589,
          null,
          null,
          null,
          null,
          null,
          null,
          null,
          null,
          null,
          null,
          null,
          1.05746,
          1.05713,
          1.05902,
          1.05911,
          1.0615,
          1.06045,
          1.05856,
          1.05864,
          1.06061,
          1.05974,
          1.05708,
          1.05413,
          1.05279,
          1.05354,
          1.05322,
          1.0535,
          1.05289,
          1.0477,
          1.04466,
          1.04567,
          1.04686,
          1.0468,
          1.04791,
          1.04887,
          1.04853,
          1.04783
         ],
         "low": [
          1.07051,
          1.07019,
          1.06271,
          1.06369,
          1.06444,
          1.06447,
          1.06495,
          1.06806,
          1.06846,
          1.07305,
          1.07438,
          1.07466,
          1.07448,
          1.07258,
          1.0704,
          1.07108,
          1.07146,
          null,
          null,
          null,
          null,
          null,
          null,
          null,
          null,
          null,
          null,
          null,
          1.07117,
          1.07099,
          1.0718,
          1.07239,
          1.06838,
          1.0685,
          1.06848,
          1.06705,
          1.06651,
          1.0658,
          1.06519,
          1.0693,
          1.06963,
          1.0681,
          1.06776,
          1.06713,
          1.07188,
          1.07126,
          1.07126,
          1.07094,
          1.07018,
          1.06883,
          1.0645,
          1.06123,
          1.0611,
          1.06113,
          1.06189,
          1.05711,
          1.05057,
          1.05116,
          1.0513,
          null,
          null,
          null,
          null,
          null,
          null,
          null,
          null,
          null,
          null,
          null,
          1.04861,
          1.04756,
          1.04608,
          1.0445,
          1.04181,
          1.04034,
          1.03997,
          1.0397,
          1.04178,
          1.04253,
          1.04067,
          1.03997,
          1.04102,
          1.04263,
          1.0424,
          1.04553,
          1.03849,
          1.0359,
          1.04373,
          1.04308,
          1.03808,
          1.03834,
          1.0384,
          1.05222,
          1.05437,
          1.05174,
          1.04939,
          1.04834,
          1.04444,
          1.04647,
          1.04892,
          null,
          null,
          null,
          null,
          null,
          null,
          null,
          null,
          null,
          null,
          null,
          1.04729,
          1.04848,
          1.05101,
          1.05119,
          1.05072,
          1.04979,
          1.05065,
          1.05164,
          1.05131,
          1.05442,
          1.05443,
          1.05187,
          1.05285,
          1.05021,
          1.04687,
          1.04935,
          1.0511,
          1.0565,
          1.05609,
          1.05557,
          1.04982,
          1.04826,
          1.04902,
          1.04942,
          1.0518,
          1.0512,
          1.05221,
          1.05141,
          1.05156,
          1.05345,
          1.05492,
          null,
          null,
          null,
          null,
          null,
          null,
          null,
          null,
          null,
          null,
          null,
          1.05457,
          1.05502,
          1.05541,
          1.05644,
          1.05535,
          1.05782,
          1.05762,
          1.05703,
          1.05703,
          1.05634,
          1.05032,
          1.05166,
          1.05152,
          1.0517,
          1.04858,
          1.05029,
          1.04662,
          1.04352,
          1.04368,
          1.04329,
          1.04298,
          1.03824,
          1.03844,
          1.04616,
          1.04736,
          1.04499
         ],
         "open": [
          1.07182,
          1.07145,
          1.07082,
          1.06447,
          1.065,
          1.06509,
          1.06542,
          1.06857,
          1.06939,
          1.07321,
          1.07487,
          1.075,
          1.07531,
          1.07562,
          1.07286,
          1.07111,
          1.07202,
          null,
          null,
          null,
          null,
          null,
          null,
          null,
          null,
          null,
          null,
          null,
          1.07167,
          1.07254,
          1.07251,
          1.07419,
          1.07308,
          1.06973,
          1.06956,
          1.06896,
          1.06815,
          1.06875,
          1.06617,
          1.06967,
          1.07079,
          1.06975,
          1.06835,
          1.06889,
          1.07355,
          1.07415,
          1.07141,
          1.07168,
          1.07294,
          1.07019,
          1.07285,
          1.06573,
          1.06128,
          1.0619,
          1.0634,
          1.06255,
          1.05739,
          1.052,
          1.05186,
          null,
          null,
          null,
          null,
          null,
          null,
          null,
          null,
          null,
          null,
          null,
          1.0513,
          1.04907,
          1.04916,
          1.04656,
          1.04458,
          1.04345,
          1.04106,
          1.04148,
          1.0427,
          1.04675,
          1.04419,
          1.04169,
          1.04107,
          1.04368,
          1.04425,
          1.04661,
          1.04582,
          1.03855,
          1.04539,
          1.04573,
          1.04429,
          1.03965,
          1.03848,
          1.05291,
          1.05607,
          1.05465,
          1.05206,
          1.05173,
          1.04855,
          1.04733,
          1.04944,
          null,
          null,
          null,
          null,
          null,
          null,
          null,
          null,
          null,
          null,
          null,
          1.04731,
          1.04897,
          1.05281,
          1.05171,
          1.05258,
          1.05379,
          1.05114,
          1.05173,
          1.0532,
          1.05564,
          1.055,
          1.05486,
          1.05314,
          1.05311,
          1.05107,
          1.05045,
          1.05113,
          1.05799,
          1.05669,
          1.05646,
          1.05692,
          1.05075,
          1.05053,
          1.05019,
          1.05271,
          1.05192,
          1.05327,
          1.05235,
          1.05158,
          1.0538,
          1.05589,
          null,
          null,
          null,
          null,
          null,
          null,
          null,
          null,
          null,
          null,
          null,
          1.05479,
          1.05665,
          1.05562,
          1.05877,
          1.05668,
          1.06003,
          1.05803,
          1.05797,
          1.0581,
          1.05842,
          1.05692,
          1.05344,
          1.05258,
          1.05219,
          1.05298,
          1.05167,
          1.05223,
          1.04768,
          1.04408,
          1.04456,
          1.04517,
          1.04453,
          1.03933,
          1.04685,
          1.04791,
          1.04783
         ],
         "x": [
          "2022-06-01T00:00:00",
          "2022-06-01T04:00:00",
          "2022-06-01T08:00:00",
          "2022-06-01T12:00:00",
          "2022-06-01T16:00:00",
          "2022-06-01T20:00:00",
          "2022-06-02T00:00:00",
          "2022-06-02T04:00:00",
          "2022-06-02T08:00:00",
          "2022-06-02T12:00:00",
          "2022-06-02T16:00:00",
          "2022-06-02T20:00:00",
          "2022-06-03T00:00:00",
          "2022-06-03T04:00:00",
          "2022-06-03T08:00:00",
          "2022-06-03T12:00:00",
          "2022-06-03T16:00:00",
          "2022-06-03T20:00:00",
          "2022-06-04T00:00:00",
          "2022-06-04T04:00:00",
          "2022-06-04T08:00:00",
          "2022-06-04T12:00:00",
          "2022-06-04T16:00:00",
          "2022-06-04T20:00:00",
          "2022-06-05T00:00:00",
          "2022-06-05T04:00:00",
          "2022-06-05T08:00:00",
          "2022-06-05T12:00:00",
          "2022-06-05T16:00:00",
          "2022-06-05T20:00:00",
          "2022-06-06T00:00:00",
          "2022-06-06T04:00:00",
          "2022-06-06T08:00:00",
          "2022-06-06T12:00:00",
          "2022-06-06T16:00:00",
          "2022-06-06T20:00:00",
          "2022-06-07T00:00:00",
          "2022-06-07T04:00:00",
          "2022-06-07T08:00:00",
          "2022-06-07T12:00:00",
          "2022-06-07T16:00:00",
          "2022-06-07T20:00:00",
          "2022-06-08T00:00:00",
          "2022-06-08T04:00:00",
          "2022-06-08T08:00:00",
          "2022-06-08T12:00:00",
          "2022-06-08T16:00:00",
          "2022-06-08T20:00:00",
          "2022-06-09T00:00:00",
          "2022-06-09T04:00:00",
          "2022-06-09T08:00:00",
          "2022-06-09T12:00:00",
          "2022-06-09T16:00:00",
          "2022-06-09T20:00:00",
          "2022-06-10T00:00:00",
          "2022-06-10T04:00:00",
          "2022-06-10T08:00:00",
          "2022-06-10T12:00:00",
          "2022-06-10T16:00:00",
          "2022-06-10T20:00:00",
          "2022-06-11T00:00:00",
          "2022-06-11T04:00:00",
          "2022-06-11T08:00:00",
          "2022-06-11T12:00:00",
          "2022-06-11T16:00:00",
          "2022-06-11T20:00:00",
          "2022-06-12T00:00:00",
          "2022-06-12T04:00:00",
          "2022-06-12T08:00:00",
          "2022-06-12T12:00:00",
          "2022-06-12T16:00:00",
          "2022-06-12T20:00:00",
          "2022-06-13T00:00:00",
          "2022-06-13T04:00:00",
          "2022-06-13T08:00:00",
          "2022-06-13T12:00:00",
          "2022-06-13T16:00:00",
          "2022-06-13T20:00:00",
          "2022-06-14T00:00:00",
          "2022-06-14T04:00:00",
          "2022-06-14T08:00:00",
          "2022-06-14T12:00:00",
          "2022-06-14T16:00:00",
          "2022-06-14T20:00:00",
          "2022-06-15T00:00:00",
          "2022-06-15T04:00:00",
          "2022-06-15T08:00:00",
          "2022-06-15T12:00:00",
          "2022-06-15T16:00:00",
          "2022-06-15T20:00:00",
          "2022-06-16T00:00:00",
          "2022-06-16T04:00:00",
          "2022-06-16T08:00:00",
          "2022-06-16T12:00:00",
          "2022-06-16T16:00:00",
          "2022-06-16T20:00:00",
          "2022-06-17T00:00:00",
          "2022-06-17T04:00:00",
          "2022-06-17T08:00:00",
          "2022-06-17T12:00:00",
          "2022-06-17T16:00:00",
          "2022-06-17T20:00:00",
          "2022-06-18T00:00:00",
          "2022-06-18T04:00:00",
          "2022-06-18T08:00:00",
          "2022-06-18T12:00:00",
          "2022-06-18T16:00:00",
          "2022-06-18T20:00:00",
          "2022-06-19T00:00:00",
          "2022-06-19T04:00:00",
          "2022-06-19T08:00:00",
          "2022-06-19T12:00:00",
          "2022-06-19T16:00:00",
          "2022-06-19T20:00:00",
          "2022-06-20T00:00:00",
          "2022-06-20T04:00:00",
          "2022-06-20T08:00:00",
          "2022-06-20T12:00:00",
          "2022-06-20T16:00:00",
          "2022-06-20T20:00:00",
          "2022-06-21T00:00:00",
          "2022-06-21T04:00:00",
          "2022-06-21T08:00:00",
          "2022-06-21T12:00:00",
          "2022-06-21T16:00:00",
          "2022-06-21T20:00:00",
          "2022-06-22T00:00:00",
          "2022-06-22T04:00:00",
          "2022-06-22T08:00:00",
          "2022-06-22T12:00:00",
          "2022-06-22T16:00:00",
          "2022-06-22T20:00:00",
          "2022-06-23T00:00:00",
          "2022-06-23T04:00:00",
          "2022-06-23T08:00:00",
          "2022-06-23T12:00:00",
          "2022-06-23T16:00:00",
          "2022-06-23T20:00:00",
          "2022-06-24T00:00:00",
          "2022-06-24T04:00:00",
          "2022-06-24T08:00:00",
          "2022-06-24T12:00:00",
          "2022-06-24T16:00:00",
          "2022-06-24T20:00:00",
          "2022-06-25T00:00:00",
          "2022-06-25T04:00:00",
          "2022-06-25T08:00:00",
          "2022-06-25T12:00:00",
          "2022-06-25T16:00:00",
          "2022-06-25T20:00:00",
          "2022-06-26T00:00:00",
          "2022-06-26T04:00:00",
          "2022-06-26T08:00:00",
          "2022-06-26T12:00:00",
          "2022-06-26T16:00:00",
          "2022-06-26T20:00:00",
          "2022-06-27T00:00:00",
          "2022-06-27T04:00:00",
          "2022-06-27T08:00:00",
          "2022-06-27T12:00:00",
          "2022-06-27T16:00:00",
          "2022-06-27T20:00:00",
          "2022-06-28T00:00:00",
          "2022-06-28T04:00:00",
          "2022-06-28T08:00:00",
          "2022-06-28T12:00:00",
          "2022-06-28T16:00:00",
          "2022-06-28T20:00:00",
          "2022-06-29T00:00:00",
          "2022-06-29T04:00:00",
          "2022-06-29T08:00:00",
          "2022-06-29T12:00:00",
          "2022-06-29T16:00:00",
          "2022-06-29T20:00:00",
          "2022-06-30T00:00:00",
          "2022-06-30T04:00:00",
          "2022-06-30T08:00:00",
          "2022-06-30T12:00:00",
          "2022-06-30T16:00:00",
          "2022-06-30T20:00:00"
         ],
         "type": "candlestick"
        }
       ],
       "layout": {
        "template": {
         "data": {
          "histogram2dcontour": [
           {
            "type": "histogram2dcontour",
            "colorbar": {
             "outlinewidth": 0,
             "ticks": ""
            },
            "colorscale": [
             [
              0.0,
              "#0d0887"
             ],
             [
              0.1111111111111111,
              "#46039f"
             ],
             [
              0.2222222222222222,
              "#7201a8"
             ],
             [
              0.3333333333333333,
              "#9c179e"
             ],
             [
              0.4444444444444444,
              "#bd3786"
             ],
             [
              0.5555555555555556,
              "#d8576b"
             ],
             [
              0.6666666666666666,
              "#ed7953"
             ],
             [
              0.7777777777777778,
              "#fb9f3a"
             ],
             [
              0.8888888888888888,
              "#fdca26"
             ],
             [
              1.0,
              "#f0f921"
             ]
            ]
           }
          ],
          "choropleth": [
           {
            "type": "choropleth",
            "colorbar": {
             "outlinewidth": 0,
             "ticks": ""
            }
           }
          ],
          "histogram2d": [
           {
            "type": "histogram2d",
            "colorbar": {
             "outlinewidth": 0,
             "ticks": ""
            },
            "colorscale": [
             [
              0.0,
              "#0d0887"
             ],
             [
              0.1111111111111111,
              "#46039f"
             ],
             [
              0.2222222222222222,
              "#7201a8"
             ],
             [
              0.3333333333333333,
              "#9c179e"
             ],
             [
              0.4444444444444444,
              "#bd3786"
             ],
             [
              0.5555555555555556,
              "#d8576b"
             ],
             [
              0.6666666666666666,
              "#ed7953"
             ],
             [
              0.7777777777777778,
              "#fb9f3a"
             ],
             [
              0.8888888888888888,
              "#fdca26"
             ],
             [
              1.0,
              "#f0f921"
             ]
            ]
           }
          ],
          "heatmap": [
           {
            "type": "heatmap",
            "colorbar": {
             "outlinewidth": 0,
             "ticks": ""
            },
            "colorscale": [
             [
              0.0,
              "#0d0887"
             ],
             [
              0.1111111111111111,
              "#46039f"
             ],
             [
              0.2222222222222222,
              "#7201a8"
             ],
             [
              0.3333333333333333,
              "#9c179e"
             ],
             [
              0.4444444444444444,
              "#bd3786"
             ],
             [
              0.5555555555555556,
              "#d8576b"
             ],
             [
              0.6666666666666666,
              "#ed7953"
             ],
             [
              0.7777777777777778,
              "#fb9f3a"
             ],
             [
              0.8888888888888888,
              "#fdca26"
             ],
             [
              1.0,
              "#f0f921"
             ]
            ]
           }
          ],
          "heatmapgl": [
           {
            "type": "heatmapgl",
            "colorbar": {
             "outlinewidth": 0,
             "ticks": ""
            },
            "colorscale": [
             [
              0.0,
              "#0d0887"
             ],
             [
              0.1111111111111111,
              "#46039f"
             ],
             [
              0.2222222222222222,
              "#7201a8"
             ],
             [
              0.3333333333333333,
              "#9c179e"
             ],
             [
              0.4444444444444444,
              "#bd3786"
             ],
             [
              0.5555555555555556,
              "#d8576b"
             ],
             [
              0.6666666666666666,
              "#ed7953"
             ],
             [
              0.7777777777777778,
              "#fb9f3a"
             ],
             [
              0.8888888888888888,
              "#fdca26"
             ],
             [
              1.0,
              "#f0f921"
             ]
            ]
           }
          ],
          "contourcarpet": [
           {
            "type": "contourcarpet",
            "colorbar": {
             "outlinewidth": 0,
             "ticks": ""
            }
           }
          ],
          "contour": [
           {
            "type": "contour",
            "colorbar": {
             "outlinewidth": 0,
             "ticks": ""
            },
            "colorscale": [
             [
              0.0,
              "#0d0887"
             ],
             [
              0.1111111111111111,
              "#46039f"
             ],
             [
              0.2222222222222222,
              "#7201a8"
             ],
             [
              0.3333333333333333,
              "#9c179e"
             ],
             [
              0.4444444444444444,
              "#bd3786"
             ],
             [
              0.5555555555555556,
              "#d8576b"
             ],
             [
              0.6666666666666666,
              "#ed7953"
             ],
             [
              0.7777777777777778,
              "#fb9f3a"
             ],
             [
              0.8888888888888888,
              "#fdca26"
             ],
             [
              1.0,
              "#f0f921"
             ]
            ]
           }
          ],
          "surface": [
           {
            "type": "surface",
            "colorbar": {
             "outlinewidth": 0,
             "ticks": ""
            },
            "colorscale": [
             [
              0.0,
              "#0d0887"
             ],
             [
              0.1111111111111111,
              "#46039f"
             ],
             [
              0.2222222222222222,
              "#7201a8"
             ],
             [
              0.3333333333333333,
              "#9c179e"
             ],
             [
              0.4444444444444444,
              "#bd3786"
             ],
             [
              0.5555555555555556,
              "#d8576b"
             ],
             [
              0.6666666666666666,
              "#ed7953"
             ],
             [
              0.7777777777777778,
              "#fb9f3a"
             ],
             [
              0.8888888888888888,
              "#fdca26"
             ],
             [
              1.0,
              "#f0f921"
             ]
            ]
           }
          ],
          "mesh3d": [
           {
            "type": "mesh3d",
            "colorbar": {
             "outlinewidth": 0,
             "ticks": ""
            }
           }
          ],
          "scatter": [
           {
            "fillpattern": {
             "fillmode": "overlay",
             "size": 10,
             "solidity": 0.2
            },
            "type": "scatter"
           }
          ],
          "parcoords": [
           {
            "type": "parcoords",
            "line": {
             "colorbar": {
              "outlinewidth": 0,
              "ticks": ""
             }
            }
           }
          ],
          "scatterpolargl": [
           {
            "type": "scatterpolargl",
            "marker": {
             "colorbar": {
              "outlinewidth": 0,
              "ticks": ""
             }
            }
           }
          ],
          "bar": [
           {
            "error_x": {
             "color": "#2a3f5f"
            },
            "error_y": {
             "color": "#2a3f5f"
            },
            "marker": {
             "line": {
              "color": "#E5ECF6",
              "width": 0.5
             },
             "pattern": {
              "fillmode": "overlay",
              "size": 10,
              "solidity": 0.2
             }
            },
            "type": "bar"
           }
          ],
          "scattergeo": [
           {
            "type": "scattergeo",
            "marker": {
             "colorbar": {
              "outlinewidth": 0,
              "ticks": ""
             }
            }
           }
          ],
          "scatterpolar": [
           {
            "type": "scatterpolar",
            "marker": {
             "colorbar": {
              "outlinewidth": 0,
              "ticks": ""
             }
            }
           }
          ],
          "histogram": [
           {
            "marker": {
             "pattern": {
              "fillmode": "overlay",
              "size": 10,
              "solidity": 0.2
             }
            },
            "type": "histogram"
           }
          ],
          "scattergl": [
           {
            "type": "scattergl",
            "marker": {
             "colorbar": {
              "outlinewidth": 0,
              "ticks": ""
             }
            }
           }
          ],
          "scatter3d": [
           {
            "type": "scatter3d",
            "line": {
             "colorbar": {
              "outlinewidth": 0,
              "ticks": ""
             }
            },
            "marker": {
             "colorbar": {
              "outlinewidth": 0,
              "ticks": ""
             }
            }
           }
          ],
          "scattermapbox": [
           {
            "type": "scattermapbox",
            "marker": {
             "colorbar": {
              "outlinewidth": 0,
              "ticks": ""
             }
            }
           }
          ],
          "scatterternary": [
           {
            "type": "scatterternary",
            "marker": {
             "colorbar": {
              "outlinewidth": 0,
              "ticks": ""
             }
            }
           }
          ],
          "scattercarpet": [
           {
            "type": "scattercarpet",
            "marker": {
             "colorbar": {
              "outlinewidth": 0,
              "ticks": ""
             }
            }
           }
          ],
          "carpet": [
           {
            "aaxis": {
             "endlinecolor": "#2a3f5f",
             "gridcolor": "white",
             "linecolor": "white",
             "minorgridcolor": "white",
             "startlinecolor": "#2a3f5f"
            },
            "baxis": {
             "endlinecolor": "#2a3f5f",
             "gridcolor": "white",
             "linecolor": "white",
             "minorgridcolor": "white",
             "startlinecolor": "#2a3f5f"
            },
            "type": "carpet"
           }
          ],
          "table": [
           {
            "cells": {
             "fill": {
              "color": "#EBF0F8"
             },
             "line": {
              "color": "white"
             }
            },
            "header": {
             "fill": {
              "color": "#C8D4E3"
             },
             "line": {
              "color": "white"
             }
            },
            "type": "table"
           }
          ],
          "barpolar": [
           {
            "marker": {
             "line": {
              "color": "#E5ECF6",
              "width": 0.5
             },
             "pattern": {
              "fillmode": "overlay",
              "size": 10,
              "solidity": 0.2
             }
            },
            "type": "barpolar"
           }
          ],
          "pie": [
           {
            "automargin": true,
            "type": "pie"
           }
          ]
         },
         "layout": {
          "autotypenumbers": "strict",
          "colorway": [
           "#636efa",
           "#EF553B",
           "#00cc96",
           "#ab63fa",
           "#FFA15A",
           "#19d3f3",
           "#FF6692",
           "#B6E880",
           "#FF97FF",
           "#FECB52"
          ],
          "font": {
           "color": "#2a3f5f"
          },
          "hovermode": "closest",
          "hoverlabel": {
           "align": "left"
          },
          "paper_bgcolor": "white",
          "plot_bgcolor": "#E5ECF6",
          "polar": {
           "bgcolor": "#E5ECF6",
           "angularaxis": {
            "gridcolor": "white",
            "linecolor": "white",
            "ticks": ""
           },
           "radialaxis": {
            "gridcolor": "white",
            "linecolor": "white",
            "ticks": ""
           }
          },
          "ternary": {
           "bgcolor": "#E5ECF6",
           "aaxis": {
            "gridcolor": "white",
            "linecolor": "white",
            "ticks": ""
           },
           "baxis": {
            "gridcolor": "white",
            "linecolor": "white",
            "ticks": ""
           },
           "caxis": {
            "gridcolor": "white",
            "linecolor": "white",
            "ticks": ""
           }
          },
          "coloraxis": {
           "colorbar": {
            "outlinewidth": 0,
            "ticks": ""
           }
          },
          "colorscale": {
           "sequential": [
            [
             0.0,
             "#0d0887"
            ],
            [
             0.1111111111111111,
             "#46039f"
            ],
            [
             0.2222222222222222,
             "#7201a8"
            ],
            [
             0.3333333333333333,
             "#9c179e"
            ],
            [
             0.4444444444444444,
             "#bd3786"
            ],
            [
             0.5555555555555556,
             "#d8576b"
            ],
            [
             0.6666666666666666,
             "#ed7953"
            ],
            [
             0.7777777777777778,
             "#fb9f3a"
            ],
            [
             0.8888888888888888,
             "#fdca26"
            ],
            [
             1.0,
             "#f0f921"
            ]
           ],
           "sequentialminus": [
            [
             0.0,
             "#0d0887"
            ],
            [
             0.1111111111111111,
             "#46039f"
            ],
            [
             0.2222222222222222,
             "#7201a8"
            ],
            [
             0.3333333333333333,
             "#9c179e"
            ],
            [
             0.4444444444444444,
             "#bd3786"
            ],
            [
             0.5555555555555556,
             "#d8576b"
            ],
            [
             0.6666666666666666,
             "#ed7953"
            ],
            [
             0.7777777777777778,
             "#fb9f3a"
            ],
            [
             0.8888888888888888,
             "#fdca26"
            ],
            [
             1.0,
             "#f0f921"
            ]
           ],
           "diverging": [
            [
             0,
             "#8e0152"
            ],
            [
             0.1,
             "#c51b7d"
            ],
            [
             0.2,
             "#de77ae"
            ],
            [
             0.3,
             "#f1b6da"
            ],
            [
             0.4,
             "#fde0ef"
            ],
            [
             0.5,
             "#f7f7f7"
            ],
            [
             0.6,
             "#e6f5d0"
            ],
            [
             0.7,
             "#b8e186"
            ],
            [
             0.8,
             "#7fbc41"
            ],
            [
             0.9,
             "#4d9221"
            ],
            [
             1,
             "#276419"
            ]
           ]
          },
          "xaxis": {
           "gridcolor": "white",
           "linecolor": "white",
           "ticks": "",
           "title": {
            "standoff": 15
           },
           "zerolinecolor": "white",
           "automargin": true,
           "zerolinewidth": 2
          },
          "yaxis": {
           "gridcolor": "white",
           "linecolor": "white",
           "ticks": "",
           "title": {
            "standoff": 15
           },
           "zerolinecolor": "white",
           "automargin": true,
           "zerolinewidth": 2
          },
          "scene": {
           "xaxis": {
            "backgroundcolor": "#E5ECF6",
            "gridcolor": "white",
            "linecolor": "white",
            "showbackground": true,
            "ticks": "",
            "zerolinecolor": "white",
            "gridwidth": 2
           },
           "yaxis": {
            "backgroundcolor": "#E5ECF6",
            "gridcolor": "white",
            "linecolor": "white",
            "showbackground": true,
            "ticks": "",
            "zerolinecolor": "white",
            "gridwidth": 2
           },
           "zaxis": {
            "backgroundcolor": "#E5ECF6",
            "gridcolor": "white",
            "linecolor": "white",
            "showbackground": true,
            "ticks": "",
            "zerolinecolor": "white",
            "gridwidth": 2
           }
          },
          "shapedefaults": {
           "line": {
            "color": "#2a3f5f"
           }
          },
          "annotationdefaults": {
           "arrowcolor": "#2a3f5f",
           "arrowhead": 0,
           "arrowwidth": 1
          },
          "geo": {
           "bgcolor": "white",
           "landcolor": "#E5ECF6",
           "subunitcolor": "white",
           "showland": true,
           "showlakes": true,
           "lakecolor": "white"
          },
          "title": {
           "x": 0.05
          },
          "mapbox": {
           "style": "light"
          }
         }
        },
        "width": 1000,
        "height": 1000
       },
       "config": {
        "plotlyServerURL": "https://plot.ly"
       }
      },
      "text/html": [
       "<div>                            <div id=\"c01efeee-45d1-4888-aaa3-21ea0eb929f3\" class=\"plotly-graph-div\" style=\"height:1000px; width:1000px;\"></div>            <script type=\"text/javascript\">                require([\"plotly\"], function(Plotly) {                    window.PLOTLYENV=window.PLOTLYENV || {};                                    if (document.getElementById(\"c01efeee-45d1-4888-aaa3-21ea0eb929f3\")) {                    Plotly.newPlot(                        \"c01efeee-45d1-4888-aaa3-21ea0eb929f3\",                        [{\"close\":[1.0715,1.07083,1.06446,1.06502,1.06509,1.06541,1.06856,1.06941,1.07322,1.07485,1.075,1.0753,1.07561,1.07287,1.0711,1.07203,1.07169,null,null,null,null,null,null,null,null,null,null,null,1.07252,1.07251,1.07419,1.07306,1.06973,1.06953,1.06896,1.06815,1.06873,1.06619,1.06965,1.07079,1.06972,1.06836,1.06887,1.07356,1.07416,1.07136,1.07168,1.07294,1.07018,1.07282,1.06575,1.06131,1.0619,1.06341,1.06254,1.0574,1.05199,1.05186,1.05137,null,null,null,null,null,null,null,null,null,null,null,1.04907,1.04916,1.04657,1.04457,1.04344,1.04104,1.04148,1.04271,1.04676,1.0442,1.04167,1.04108,1.04367,1.04426,1.04663,1.04582,1.03856,1.04541,1.04573,1.04429,1.03966,1.0385,1.05291,1.05606,1.05464,1.05203,1.05176,1.04857,1.04733,1.04946,1.04934,null,null,null,null,null,null,null,null,null,null,null,1.04898,1.05283,1.05167,1.05259,1.05377,1.05111,1.05172,1.0532,1.05566,1.055,1.05484,1.05312,1.05312,1.05107,1.05045,1.05114,1.05797,1.0567,1.05646,1.05692,1.05075,1.05054,1.05019,1.0527,1.05192,1.05328,1.05234,1.05157,1.05381,1.05588,1.05519,null,null,null,null,null,null,null,null,null,null,null,1.05665,1.05563,1.05877,1.05668,1.06002,1.05801,1.05797,1.05811,1.05842,1.05694,1.05342,1.05257,1.0522,1.05296,1.05169,1.05224,1.04767,1.04409,1.04456,1.04516,1.04453,1.03935,1.04686,1.04789,1.04783,1.04543],\"high\":[1.07372,1.07393,1.07305,1.06604,1.06546,1.06595,1.0692,1.06972,1.07383,1.07487,1.0751,1.07643,1.07606,1.07624,1.07519,1.07293,1.07216,null,null,null,null,null,null,null,null,null,null,null,1.07298,1.07316,1.07424,1.07518,1.07309,1.0703,1.06975,1.06918,1.06998,1.07049,1.07098,1.07142,1.07084,1.07011,1.06948,1.07397,1.07484,1.07433,1.07207,1.07337,1.07325,1.0749,1.07738,1.06599,1.06218,1.06353,1.06422,1.06332,1.0586,1.05333,1.05222,null,null,null,null,null,null,null,null,null,null,null,1.05201,1.04955,1.04954,1.04856,1.04742,1.04581,1.04162,1.04323,1.04748,1.04846,1.04682,1.04433,1.04382,1.04517,1.04942,1.05077,1.04608,1.04647,1.04696,1.04692,1.0444,1.0426,1.05292,1.06014,1.0561,1.0552,1.05306,1.05357,1.0508,1.05027,1.05,null,null,null,null,null,null,null,null,null,null,null,1.04926,1.05287,1.05427,1.05458,1.05416,1.05381,1.0521,1.05424,1.05647,1.05824,1.05666,1.05487,1.05387,1.05314,1.05138,1.05289,1.06057,1.05894,1.05692,1.0581,1.05792,1.05218,1.0554,1.05334,1.05308,1.05371,1.05464,1.05547,1.05712,1.05593,1.05589,null,null,null,null,null,null,null,null,null,null,null,1.05746,1.05713,1.05902,1.05911,1.0615,1.06045,1.05856,1.05864,1.06061,1.05974,1.05708,1.05413,1.05279,1.05354,1.05322,1.0535,1.05289,1.0477,1.04466,1.04567,1.04686,1.0468,1.04791,1.04887,1.04853,1.04783],\"low\":[1.07051,1.07019,1.06271,1.06369,1.06444,1.06447,1.06495,1.06806,1.06846,1.07305,1.07438,1.07466,1.07448,1.07258,1.0704,1.07108,1.07146,null,null,null,null,null,null,null,null,null,null,null,1.07117,1.07099,1.0718,1.07239,1.06838,1.0685,1.06848,1.06705,1.06651,1.0658,1.06519,1.0693,1.06963,1.0681,1.06776,1.06713,1.07188,1.07126,1.07126,1.07094,1.07018,1.06883,1.0645,1.06123,1.0611,1.06113,1.06189,1.05711,1.05057,1.05116,1.0513,null,null,null,null,null,null,null,null,null,null,null,1.04861,1.04756,1.04608,1.0445,1.04181,1.04034,1.03997,1.0397,1.04178,1.04253,1.04067,1.03997,1.04102,1.04263,1.0424,1.04553,1.03849,1.0359,1.04373,1.04308,1.03808,1.03834,1.0384,1.05222,1.05437,1.05174,1.04939,1.04834,1.04444,1.04647,1.04892,null,null,null,null,null,null,null,null,null,null,null,1.04729,1.04848,1.05101,1.05119,1.05072,1.04979,1.05065,1.05164,1.05131,1.05442,1.05443,1.05187,1.05285,1.05021,1.04687,1.04935,1.0511,1.0565,1.05609,1.05557,1.04982,1.04826,1.04902,1.04942,1.0518,1.0512,1.05221,1.05141,1.05156,1.05345,1.05492,null,null,null,null,null,null,null,null,null,null,null,1.05457,1.05502,1.05541,1.05644,1.05535,1.05782,1.05762,1.05703,1.05703,1.05634,1.05032,1.05166,1.05152,1.0517,1.04858,1.05029,1.04662,1.04352,1.04368,1.04329,1.04298,1.03824,1.03844,1.04616,1.04736,1.04499],\"open\":[1.07182,1.07145,1.07082,1.06447,1.065,1.06509,1.06542,1.06857,1.06939,1.07321,1.07487,1.075,1.07531,1.07562,1.07286,1.07111,1.07202,null,null,null,null,null,null,null,null,null,null,null,1.07167,1.07254,1.07251,1.07419,1.07308,1.06973,1.06956,1.06896,1.06815,1.06875,1.06617,1.06967,1.07079,1.06975,1.06835,1.06889,1.07355,1.07415,1.07141,1.07168,1.07294,1.07019,1.07285,1.06573,1.06128,1.0619,1.0634,1.06255,1.05739,1.052,1.05186,null,null,null,null,null,null,null,null,null,null,null,1.0513,1.04907,1.04916,1.04656,1.04458,1.04345,1.04106,1.04148,1.0427,1.04675,1.04419,1.04169,1.04107,1.04368,1.04425,1.04661,1.04582,1.03855,1.04539,1.04573,1.04429,1.03965,1.03848,1.05291,1.05607,1.05465,1.05206,1.05173,1.04855,1.04733,1.04944,null,null,null,null,null,null,null,null,null,null,null,1.04731,1.04897,1.05281,1.05171,1.05258,1.05379,1.05114,1.05173,1.0532,1.05564,1.055,1.05486,1.05314,1.05311,1.05107,1.05045,1.05113,1.05799,1.05669,1.05646,1.05692,1.05075,1.05053,1.05019,1.05271,1.05192,1.05327,1.05235,1.05158,1.0538,1.05589,null,null,null,null,null,null,null,null,null,null,null,1.05479,1.05665,1.05562,1.05877,1.05668,1.06003,1.05803,1.05797,1.0581,1.05842,1.05692,1.05344,1.05258,1.05219,1.05298,1.05167,1.05223,1.04768,1.04408,1.04456,1.04517,1.04453,1.03933,1.04685,1.04791,1.04783],\"x\":[\"2022-06-01T00:00:00\",\"2022-06-01T04:00:00\",\"2022-06-01T08:00:00\",\"2022-06-01T12:00:00\",\"2022-06-01T16:00:00\",\"2022-06-01T20:00:00\",\"2022-06-02T00:00:00\",\"2022-06-02T04:00:00\",\"2022-06-02T08:00:00\",\"2022-06-02T12:00:00\",\"2022-06-02T16:00:00\",\"2022-06-02T20:00:00\",\"2022-06-03T00:00:00\",\"2022-06-03T04:00:00\",\"2022-06-03T08:00:00\",\"2022-06-03T12:00:00\",\"2022-06-03T16:00:00\",\"2022-06-03T20:00:00\",\"2022-06-04T00:00:00\",\"2022-06-04T04:00:00\",\"2022-06-04T08:00:00\",\"2022-06-04T12:00:00\",\"2022-06-04T16:00:00\",\"2022-06-04T20:00:00\",\"2022-06-05T00:00:00\",\"2022-06-05T04:00:00\",\"2022-06-05T08:00:00\",\"2022-06-05T12:00:00\",\"2022-06-05T16:00:00\",\"2022-06-05T20:00:00\",\"2022-06-06T00:00:00\",\"2022-06-06T04:00:00\",\"2022-06-06T08:00:00\",\"2022-06-06T12:00:00\",\"2022-06-06T16:00:00\",\"2022-06-06T20:00:00\",\"2022-06-07T00:00:00\",\"2022-06-07T04:00:00\",\"2022-06-07T08:00:00\",\"2022-06-07T12:00:00\",\"2022-06-07T16:00:00\",\"2022-06-07T20:00:00\",\"2022-06-08T00:00:00\",\"2022-06-08T04:00:00\",\"2022-06-08T08:00:00\",\"2022-06-08T12:00:00\",\"2022-06-08T16:00:00\",\"2022-06-08T20:00:00\",\"2022-06-09T00:00:00\",\"2022-06-09T04:00:00\",\"2022-06-09T08:00:00\",\"2022-06-09T12:00:00\",\"2022-06-09T16:00:00\",\"2022-06-09T20:00:00\",\"2022-06-10T00:00:00\",\"2022-06-10T04:00:00\",\"2022-06-10T08:00:00\",\"2022-06-10T12:00:00\",\"2022-06-10T16:00:00\",\"2022-06-10T20:00:00\",\"2022-06-11T00:00:00\",\"2022-06-11T04:00:00\",\"2022-06-11T08:00:00\",\"2022-06-11T12:00:00\",\"2022-06-11T16:00:00\",\"2022-06-11T20:00:00\",\"2022-06-12T00:00:00\",\"2022-06-12T04:00:00\",\"2022-06-12T08:00:00\",\"2022-06-12T12:00:00\",\"2022-06-12T16:00:00\",\"2022-06-12T20:00:00\",\"2022-06-13T00:00:00\",\"2022-06-13T04:00:00\",\"2022-06-13T08:00:00\",\"2022-06-13T12:00:00\",\"2022-06-13T16:00:00\",\"2022-06-13T20:00:00\",\"2022-06-14T00:00:00\",\"2022-06-14T04:00:00\",\"2022-06-14T08:00:00\",\"2022-06-14T12:00:00\",\"2022-06-14T16:00:00\",\"2022-06-14T20:00:00\",\"2022-06-15T00:00:00\",\"2022-06-15T04:00:00\",\"2022-06-15T08:00:00\",\"2022-06-15T12:00:00\",\"2022-06-15T16:00:00\",\"2022-06-15T20:00:00\",\"2022-06-16T00:00:00\",\"2022-06-16T04:00:00\",\"2022-06-16T08:00:00\",\"2022-06-16T12:00:00\",\"2022-06-16T16:00:00\",\"2022-06-16T20:00:00\",\"2022-06-17T00:00:00\",\"2022-06-17T04:00:00\",\"2022-06-17T08:00:00\",\"2022-06-17T12:00:00\",\"2022-06-17T16:00:00\",\"2022-06-17T20:00:00\",\"2022-06-18T00:00:00\",\"2022-06-18T04:00:00\",\"2022-06-18T08:00:00\",\"2022-06-18T12:00:00\",\"2022-06-18T16:00:00\",\"2022-06-18T20:00:00\",\"2022-06-19T00:00:00\",\"2022-06-19T04:00:00\",\"2022-06-19T08:00:00\",\"2022-06-19T12:00:00\",\"2022-06-19T16:00:00\",\"2022-06-19T20:00:00\",\"2022-06-20T00:00:00\",\"2022-06-20T04:00:00\",\"2022-06-20T08:00:00\",\"2022-06-20T12:00:00\",\"2022-06-20T16:00:00\",\"2022-06-20T20:00:00\",\"2022-06-21T00:00:00\",\"2022-06-21T04:00:00\",\"2022-06-21T08:00:00\",\"2022-06-21T12:00:00\",\"2022-06-21T16:00:00\",\"2022-06-21T20:00:00\",\"2022-06-22T00:00:00\",\"2022-06-22T04:00:00\",\"2022-06-22T08:00:00\",\"2022-06-22T12:00:00\",\"2022-06-22T16:00:00\",\"2022-06-22T20:00:00\",\"2022-06-23T00:00:00\",\"2022-06-23T04:00:00\",\"2022-06-23T08:00:00\",\"2022-06-23T12:00:00\",\"2022-06-23T16:00:00\",\"2022-06-23T20:00:00\",\"2022-06-24T00:00:00\",\"2022-06-24T04:00:00\",\"2022-06-24T08:00:00\",\"2022-06-24T12:00:00\",\"2022-06-24T16:00:00\",\"2022-06-24T20:00:00\",\"2022-06-25T00:00:00\",\"2022-06-25T04:00:00\",\"2022-06-25T08:00:00\",\"2022-06-25T12:00:00\",\"2022-06-25T16:00:00\",\"2022-06-25T20:00:00\",\"2022-06-26T00:00:00\",\"2022-06-26T04:00:00\",\"2022-06-26T08:00:00\",\"2022-06-26T12:00:00\",\"2022-06-26T16:00:00\",\"2022-06-26T20:00:00\",\"2022-06-27T00:00:00\",\"2022-06-27T04:00:00\",\"2022-06-27T08:00:00\",\"2022-06-27T12:00:00\",\"2022-06-27T16:00:00\",\"2022-06-27T20:00:00\",\"2022-06-28T00:00:00\",\"2022-06-28T04:00:00\",\"2022-06-28T08:00:00\",\"2022-06-28T12:00:00\",\"2022-06-28T16:00:00\",\"2022-06-28T20:00:00\",\"2022-06-29T00:00:00\",\"2022-06-29T04:00:00\",\"2022-06-29T08:00:00\",\"2022-06-29T12:00:00\",\"2022-06-29T16:00:00\",\"2022-06-29T20:00:00\",\"2022-06-30T00:00:00\",\"2022-06-30T04:00:00\",\"2022-06-30T08:00:00\",\"2022-06-30T12:00:00\",\"2022-06-30T16:00:00\",\"2022-06-30T20:00:00\"],\"type\":\"candlestick\"}],                        {\"template\":{\"data\":{\"histogram2dcontour\":[{\"type\":\"histogram2dcontour\",\"colorbar\":{\"outlinewidth\":0,\"ticks\":\"\"},\"colorscale\":[[0.0,\"#0d0887\"],[0.1111111111111111,\"#46039f\"],[0.2222222222222222,\"#7201a8\"],[0.3333333333333333,\"#9c179e\"],[0.4444444444444444,\"#bd3786\"],[0.5555555555555556,\"#d8576b\"],[0.6666666666666666,\"#ed7953\"],[0.7777777777777778,\"#fb9f3a\"],[0.8888888888888888,\"#fdca26\"],[1.0,\"#f0f921\"]]}],\"choropleth\":[{\"type\":\"choropleth\",\"colorbar\":{\"outlinewidth\":0,\"ticks\":\"\"}}],\"histogram2d\":[{\"type\":\"histogram2d\",\"colorbar\":{\"outlinewidth\":0,\"ticks\":\"\"},\"colorscale\":[[0.0,\"#0d0887\"],[0.1111111111111111,\"#46039f\"],[0.2222222222222222,\"#7201a8\"],[0.3333333333333333,\"#9c179e\"],[0.4444444444444444,\"#bd3786\"],[0.5555555555555556,\"#d8576b\"],[0.6666666666666666,\"#ed7953\"],[0.7777777777777778,\"#fb9f3a\"],[0.8888888888888888,\"#fdca26\"],[1.0,\"#f0f921\"]]}],\"heatmap\":[{\"type\":\"heatmap\",\"colorbar\":{\"outlinewidth\":0,\"ticks\":\"\"},\"colorscale\":[[0.0,\"#0d0887\"],[0.1111111111111111,\"#46039f\"],[0.2222222222222222,\"#7201a8\"],[0.3333333333333333,\"#9c179e\"],[0.4444444444444444,\"#bd3786\"],[0.5555555555555556,\"#d8576b\"],[0.6666666666666666,\"#ed7953\"],[0.7777777777777778,\"#fb9f3a\"],[0.8888888888888888,\"#fdca26\"],[1.0,\"#f0f921\"]]}],\"heatmapgl\":[{\"type\":\"heatmapgl\",\"colorbar\":{\"outlinewidth\":0,\"ticks\":\"\"},\"colorscale\":[[0.0,\"#0d0887\"],[0.1111111111111111,\"#46039f\"],[0.2222222222222222,\"#7201a8\"],[0.3333333333333333,\"#9c179e\"],[0.4444444444444444,\"#bd3786\"],[0.5555555555555556,\"#d8576b\"],[0.6666666666666666,\"#ed7953\"],[0.7777777777777778,\"#fb9f3a\"],[0.8888888888888888,\"#fdca26\"],[1.0,\"#f0f921\"]]}],\"contourcarpet\":[{\"type\":\"contourcarpet\",\"colorbar\":{\"outlinewidth\":0,\"ticks\":\"\"}}],\"contour\":[{\"type\":\"contour\",\"colorbar\":{\"outlinewidth\":0,\"ticks\":\"\"},\"colorscale\":[[0.0,\"#0d0887\"],[0.1111111111111111,\"#46039f\"],[0.2222222222222222,\"#7201a8\"],[0.3333333333333333,\"#9c179e\"],[0.4444444444444444,\"#bd3786\"],[0.5555555555555556,\"#d8576b\"],[0.6666666666666666,\"#ed7953\"],[0.7777777777777778,\"#fb9f3a\"],[0.8888888888888888,\"#fdca26\"],[1.0,\"#f0f921\"]]}],\"surface\":[{\"type\":\"surface\",\"colorbar\":{\"outlinewidth\":0,\"ticks\":\"\"},\"colorscale\":[[0.0,\"#0d0887\"],[0.1111111111111111,\"#46039f\"],[0.2222222222222222,\"#7201a8\"],[0.3333333333333333,\"#9c179e\"],[0.4444444444444444,\"#bd3786\"],[0.5555555555555556,\"#d8576b\"],[0.6666666666666666,\"#ed7953\"],[0.7777777777777778,\"#fb9f3a\"],[0.8888888888888888,\"#fdca26\"],[1.0,\"#f0f921\"]]}],\"mesh3d\":[{\"type\":\"mesh3d\",\"colorbar\":{\"outlinewidth\":0,\"ticks\":\"\"}}],\"scatter\":[{\"fillpattern\":{\"fillmode\":\"overlay\",\"size\":10,\"solidity\":0.2},\"type\":\"scatter\"}],\"parcoords\":[{\"type\":\"parcoords\",\"line\":{\"colorbar\":{\"outlinewidth\":0,\"ticks\":\"\"}}}],\"scatterpolargl\":[{\"type\":\"scatterpolargl\",\"marker\":{\"colorbar\":{\"outlinewidth\":0,\"ticks\":\"\"}}}],\"bar\":[{\"error_x\":{\"color\":\"#2a3f5f\"},\"error_y\":{\"color\":\"#2a3f5f\"},\"marker\":{\"line\":{\"color\":\"#E5ECF6\",\"width\":0.5},\"pattern\":{\"fillmode\":\"overlay\",\"size\":10,\"solidity\":0.2}},\"type\":\"bar\"}],\"scattergeo\":[{\"type\":\"scattergeo\",\"marker\":{\"colorbar\":{\"outlinewidth\":0,\"ticks\":\"\"}}}],\"scatterpolar\":[{\"type\":\"scatterpolar\",\"marker\":{\"colorbar\":{\"outlinewidth\":0,\"ticks\":\"\"}}}],\"histogram\":[{\"marker\":{\"pattern\":{\"fillmode\":\"overlay\",\"size\":10,\"solidity\":0.2}},\"type\":\"histogram\"}],\"scattergl\":[{\"type\":\"scattergl\",\"marker\":{\"colorbar\":{\"outlinewidth\":0,\"ticks\":\"\"}}}],\"scatter3d\":[{\"type\":\"scatter3d\",\"line\":{\"colorbar\":{\"outlinewidth\":0,\"ticks\":\"\"}},\"marker\":{\"colorbar\":{\"outlinewidth\":0,\"ticks\":\"\"}}}],\"scattermapbox\":[{\"type\":\"scattermapbox\",\"marker\":{\"colorbar\":{\"outlinewidth\":0,\"ticks\":\"\"}}}],\"scatterternary\":[{\"type\":\"scatterternary\",\"marker\":{\"colorbar\":{\"outlinewidth\":0,\"ticks\":\"\"}}}],\"scattercarpet\":[{\"type\":\"scattercarpet\",\"marker\":{\"colorbar\":{\"outlinewidth\":0,\"ticks\":\"\"}}}],\"carpet\":[{\"aaxis\":{\"endlinecolor\":\"#2a3f5f\",\"gridcolor\":\"white\",\"linecolor\":\"white\",\"minorgridcolor\":\"white\",\"startlinecolor\":\"#2a3f5f\"},\"baxis\":{\"endlinecolor\":\"#2a3f5f\",\"gridcolor\":\"white\",\"linecolor\":\"white\",\"minorgridcolor\":\"white\",\"startlinecolor\":\"#2a3f5f\"},\"type\":\"carpet\"}],\"table\":[{\"cells\":{\"fill\":{\"color\":\"#EBF0F8\"},\"line\":{\"color\":\"white\"}},\"header\":{\"fill\":{\"color\":\"#C8D4E3\"},\"line\":{\"color\":\"white\"}},\"type\":\"table\"}],\"barpolar\":[{\"marker\":{\"line\":{\"color\":\"#E5ECF6\",\"width\":0.5},\"pattern\":{\"fillmode\":\"overlay\",\"size\":10,\"solidity\":0.2}},\"type\":\"barpolar\"}],\"pie\":[{\"automargin\":true,\"type\":\"pie\"}]},\"layout\":{\"autotypenumbers\":\"strict\",\"colorway\":[\"#636efa\",\"#EF553B\",\"#00cc96\",\"#ab63fa\",\"#FFA15A\",\"#19d3f3\",\"#FF6692\",\"#B6E880\",\"#FF97FF\",\"#FECB52\"],\"font\":{\"color\":\"#2a3f5f\"},\"hovermode\":\"closest\",\"hoverlabel\":{\"align\":\"left\"},\"paper_bgcolor\":\"white\",\"plot_bgcolor\":\"#E5ECF6\",\"polar\":{\"bgcolor\":\"#E5ECF6\",\"angularaxis\":{\"gridcolor\":\"white\",\"linecolor\":\"white\",\"ticks\":\"\"},\"radialaxis\":{\"gridcolor\":\"white\",\"linecolor\":\"white\",\"ticks\":\"\"}},\"ternary\":{\"bgcolor\":\"#E5ECF6\",\"aaxis\":{\"gridcolor\":\"white\",\"linecolor\":\"white\",\"ticks\":\"\"},\"baxis\":{\"gridcolor\":\"white\",\"linecolor\":\"white\",\"ticks\":\"\"},\"caxis\":{\"gridcolor\":\"white\",\"linecolor\":\"white\",\"ticks\":\"\"}},\"coloraxis\":{\"colorbar\":{\"outlinewidth\":0,\"ticks\":\"\"}},\"colorscale\":{\"sequential\":[[0.0,\"#0d0887\"],[0.1111111111111111,\"#46039f\"],[0.2222222222222222,\"#7201a8\"],[0.3333333333333333,\"#9c179e\"],[0.4444444444444444,\"#bd3786\"],[0.5555555555555556,\"#d8576b\"],[0.6666666666666666,\"#ed7953\"],[0.7777777777777778,\"#fb9f3a\"],[0.8888888888888888,\"#fdca26\"],[1.0,\"#f0f921\"]],\"sequentialminus\":[[0.0,\"#0d0887\"],[0.1111111111111111,\"#46039f\"],[0.2222222222222222,\"#7201a8\"],[0.3333333333333333,\"#9c179e\"],[0.4444444444444444,\"#bd3786\"],[0.5555555555555556,\"#d8576b\"],[0.6666666666666666,\"#ed7953\"],[0.7777777777777778,\"#fb9f3a\"],[0.8888888888888888,\"#fdca26\"],[1.0,\"#f0f921\"]],\"diverging\":[[0,\"#8e0152\"],[0.1,\"#c51b7d\"],[0.2,\"#de77ae\"],[0.3,\"#f1b6da\"],[0.4,\"#fde0ef\"],[0.5,\"#f7f7f7\"],[0.6,\"#e6f5d0\"],[0.7,\"#b8e186\"],[0.8,\"#7fbc41\"],[0.9,\"#4d9221\"],[1,\"#276419\"]]},\"xaxis\":{\"gridcolor\":\"white\",\"linecolor\":\"white\",\"ticks\":\"\",\"title\":{\"standoff\":15},\"zerolinecolor\":\"white\",\"automargin\":true,\"zerolinewidth\":2},\"yaxis\":{\"gridcolor\":\"white\",\"linecolor\":\"white\",\"ticks\":\"\",\"title\":{\"standoff\":15},\"zerolinecolor\":\"white\",\"automargin\":true,\"zerolinewidth\":2},\"scene\":{\"xaxis\":{\"backgroundcolor\":\"#E5ECF6\",\"gridcolor\":\"white\",\"linecolor\":\"white\",\"showbackground\":true,\"ticks\":\"\",\"zerolinecolor\":\"white\",\"gridwidth\":2},\"yaxis\":{\"backgroundcolor\":\"#E5ECF6\",\"gridcolor\":\"white\",\"linecolor\":\"white\",\"showbackground\":true,\"ticks\":\"\",\"zerolinecolor\":\"white\",\"gridwidth\":2},\"zaxis\":{\"backgroundcolor\":\"#E5ECF6\",\"gridcolor\":\"white\",\"linecolor\":\"white\",\"showbackground\":true,\"ticks\":\"\",\"zerolinecolor\":\"white\",\"gridwidth\":2}},\"shapedefaults\":{\"line\":{\"color\":\"#2a3f5f\"}},\"annotationdefaults\":{\"arrowcolor\":\"#2a3f5f\",\"arrowhead\":0,\"arrowwidth\":1},\"geo\":{\"bgcolor\":\"white\",\"landcolor\":\"#E5ECF6\",\"subunitcolor\":\"white\",\"showland\":true,\"showlakes\":true,\"lakecolor\":\"white\"},\"title\":{\"x\":0.05},\"mapbox\":{\"style\":\"light\"}}},\"width\":1000,\"height\":1000},                        {\"responsive\": true}                    ).then(function(){\n",
       "                            \n",
       "var gd = document.getElementById('c01efeee-45d1-4888-aaa3-21ea0eb929f3');\n",
       "var x = new MutationObserver(function (mutations, observer) {{\n",
       "        var display = window.getComputedStyle(gd).display;\n",
       "        if (!display || display === 'none') {{\n",
       "            console.log([gd, 'removed!']);\n",
       "            Plotly.purge(gd);\n",
       "            observer.disconnect();\n",
       "        }}\n",
       "}});\n",
       "\n",
       "// Listen for the removal of the full notebook cells\n",
       "var notebookContainer = gd.closest('#notebook-container');\n",
       "if (notebookContainer) {{\n",
       "    x.observe(notebookContainer, {childList: true});\n",
       "}}\n",
       "\n",
       "// Listen for the clearing of the current output cell\n",
       "var outputEl = gd.closest('.output');\n",
       "if (outputEl) {{\n",
       "    x.observe(outputEl, {childList: true});\n",
       "}}\n",
       "\n",
       "                        })                };                });            </script>        </div>"
      ]
     },
     "metadata": {},
     "output_type": "display_data"
    }
   ],
   "execution_count": 42
  },
  {
   "metadata": {
    "ExecuteTime": {
     "end_time": "2025-07-25T23:31:25.008705Z",
     "start_time": "2025-07-25T23:31:24.996166Z"
    }
   },
   "cell_type": "code",
   "source": [
    "last_price = 1.06599\n",
    "momentum_fvg_patterns.apply(lambda x: (last_price < x[\"gap_low\"]) and (last_price > x[\"gap_high\"]), axis=1).any()"
   ],
   "id": "2a743ff15dfb9d61",
   "outputs": [
    {
     "data": {
      "text/plain": [
       "True"
      ]
     },
     "execution_count": 59,
     "metadata": {},
     "output_type": "execute_result"
    }
   ],
   "execution_count": 59
  },
  {
   "metadata": {},
   "cell_type": "code",
   "outputs": [],
   "execution_count": null,
   "source": "",
   "id": "7b45f30f3dd7650a"
  }
 ],
 "metadata": {
  "kernelspec": {
   "display_name": "Python 3",
   "language": "python",
   "name": "python3"
  },
  "language_info": {
   "codemirror_mode": {
    "name": "ipython",
    "version": 2
   },
   "file_extension": ".py",
   "mimetype": "text/x-python",
   "name": "python",
   "nbconvert_exporter": "python",
   "pygments_lexer": "ipython2",
   "version": "2.7.6"
  }
 },
 "nbformat": 4,
 "nbformat_minor": 5
}
