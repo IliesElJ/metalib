{
 "cells": [
  {
   "cell_type": "code",
   "id": "initial_id",
   "metadata": {
    "collapsed": true,
    "ExecuteTime": {
     "end_time": "2025-08-09T14:30:35.563362Z",
     "start_time": "2025-08-09T14:30:35.545019Z"
    }
   },
   "source": [
    "from metalib.metaanalyser import MetaAnalyser\n",
    "from MetaTrader5 import TIMEFRAME_M5"
   ],
   "outputs": [],
   "execution_count": 6
  },
  {
   "metadata": {
    "ExecuteTime": {
     "end_time": "2025-08-09T14:30:35.920988Z",
     "start_time": "2025-08-09T14:30:35.897562Z"
    }
   },
   "cell_type": "code",
   "source": [
    "instance = MetaAnalyser(symbols=[\"EURUSD\"], tag=\"test_analyser\", timeframe=TIMEFRAME_M5, active_hours=None)\n",
    "print(instance)"
   ],
   "id": "d10654d171208482",
   "outputs": [
    {
     "name": "stdout",
     "output_type": "stream",
     "text": [
      "<metalib.metaanalyser.MetaAnalyser object at 0x000002723D91A7F0>\n"
     ]
    }
   ],
   "execution_count": 7
  },
  {
   "metadata": {
    "ExecuteTime": {
     "end_time": "2025-08-09T14:30:36.295423Z",
     "start_time": "2025-08-09T14:30:36.270337Z"
    }
   },
   "cell_type": "code",
   "source": "instance.connect()",
   "id": "4fd397f5f738435c",
   "outputs": [],
   "execution_count": 8
  },
  {
   "metadata": {
    "ExecuteTime": {
     "end_time": "2025-08-09T14:30:36.655599Z",
     "start_time": "2025-08-09T14:30:36.590588Z"
    }
   },
   "cell_type": "code",
   "source": "instance.fit()",
   "id": "6902535530838221",
   "outputs": [
    {
     "name": "stdout",
     "output_type": "stream",
     "text": [
      "Last time in the index: 2025-08-08 23:50:00\n"
     ]
    },
    {
     "ename": "TypeError",
     "evalue": "'NoneType' object does not support item assignment",
     "output_type": "error",
     "traceback": [
      "\u001B[1;31m---------------------------------------------------------------------------\u001B[0m",
      "\u001B[1;31mTypeError\u001B[0m                                 Traceback (most recent call last)",
      "Cell \u001B[1;32mIn[9], line 1\u001B[0m\n\u001B[1;32m----> 1\u001B[0m \u001B[43minstance\u001B[49m\u001B[38;5;241;43m.\u001B[39;49m\u001B[43mfit\u001B[49m\u001B[43m(\u001B[49m\u001B[43m)\u001B[49m\n",
      "File \u001B[1;32m~\\Documents\\GitHub\\metalib\\metalib\\metaanalyser.py:80\u001B[0m, in \u001B[0;36mMetaAnalyser.fit\u001B[1;34m(self)\u001B[0m\n\u001B[0;32m     78\u001B[0m returns \u001B[38;5;241m=\u001B[39m np\u001B[38;5;241m.\u001B[39mlog(ohlc[\u001B[38;5;124m'\u001B[39m\u001B[38;5;124mclose\u001B[39m\u001B[38;5;124m'\u001B[39m] \u001B[38;5;241m/\u001B[39m ohlc[\u001B[38;5;124m'\u001B[39m\u001B[38;5;124mclose\u001B[39m\u001B[38;5;124m'\u001B[39m]\u001B[38;5;241m.\u001B[39mshift(\u001B[38;5;241m1\u001B[39m))\n\u001B[0;32m     79\u001B[0m vols \u001B[38;5;241m=\u001B[39m returns\u001B[38;5;241m.\u001B[39mresample(\u001B[38;5;28mself\u001B[39m\u001B[38;5;241m.\u001B[39mvol_tf)\u001B[38;5;241m.\u001B[39mapply(\u001B[38;5;28;01mlambda\u001B[39;00m x: x\u001B[38;5;241m.\u001B[39mstd())\n\u001B[1;32m---> 80\u001B[0m \u001B[38;5;28mself\u001B[39m\u001B[38;5;241m.\u001B[39mfitted_vols[\u001B[38;5;28mself\u001B[39m\u001B[38;5;241m.\u001B[39msymbols[\u001B[38;5;241m0\u001B[39m]] \u001B[38;5;241m=\u001B[39m vols\n\u001B[0;32m     82\u001B[0m \u001B[38;5;28mprint\u001B[39m(\u001B[38;5;124mf\u001B[39m\u001B[38;5;124m\"\u001B[39m\u001B[38;5;132;01m{\u001B[39;00m\u001B[38;5;28mself\u001B[39m\u001B[38;5;241m.\u001B[39mtag\u001B[38;5;132;01m}\u001B[39;00m\u001B[38;5;124m::: Loaded \u001B[39m\u001B[38;5;132;01m{\u001B[39;00m\u001B[38;5;28mlen\u001B[39m(\u001B[38;5;28mself\u001B[39m\u001B[38;5;241m.\u001B[39mdata[\u001B[38;5;28mself\u001B[39m\u001B[38;5;241m.\u001B[39msymbols[\u001B[38;5;241m0\u001B[39m]])\u001B[38;5;132;01m}\u001B[39;00m\u001B[38;5;124m periods for volatility analysis\u001B[39m\u001B[38;5;124m\"\u001B[39m)\n\u001B[0;32m     83\u001B[0m \u001B[38;5;28mprint\u001B[39m(\n\u001B[0;32m     84\u001B[0m     \u001B[38;5;124mf\u001B[39m\u001B[38;5;124m\"\u001B[39m\u001B[38;5;132;01m{\u001B[39;00m\u001B[38;5;28mself\u001B[39m\u001B[38;5;241m.\u001B[39mtag\u001B[38;5;132;01m}\u001B[39;00m\u001B[38;5;124m::: Data range: \u001B[39m\u001B[38;5;132;01m{\u001B[39;00m\u001B[38;5;28mself\u001B[39m\u001B[38;5;241m.\u001B[39mdata[\u001B[38;5;28mself\u001B[39m\u001B[38;5;241m.\u001B[39msymbols[\u001B[38;5;241m0\u001B[39m]]\u001B[38;5;241m.\u001B[39mindex[\u001B[38;5;241m0\u001B[39m]\u001B[38;5;132;01m}\u001B[39;00m\u001B[38;5;124m to \u001B[39m\u001B[38;5;132;01m{\u001B[39;00m\u001B[38;5;28mself\u001B[39m\u001B[38;5;241m.\u001B[39mdata[\u001B[38;5;28mself\u001B[39m\u001B[38;5;241m.\u001B[39msymbols[\u001B[38;5;241m0\u001B[39m]]\u001B[38;5;241m.\u001B[39mindex[\u001B[38;5;241m-\u001B[39m\u001B[38;5;241m1\u001B[39m]\u001B[38;5;132;01m}\u001B[39;00m\u001B[38;5;124m\"\u001B[39m)\n",
      "\u001B[1;31mTypeError\u001B[0m: 'NoneType' object does not support item assignment"
     ]
    }
   ],
   "execution_count": 9
  },
  {
   "metadata": {},
   "cell_type": "code",
   "outputs": [],
   "execution_count": null,
   "source": "",
   "id": "f6937749a0d4fa53"
  }
 ],
 "metadata": {
  "kernelspec": {
   "display_name": "Python 3",
   "language": "python",
   "name": "python3"
  },
  "language_info": {
   "codemirror_mode": {
    "name": "ipython",
    "version": 2
   },
   "file_extension": ".py",
   "mimetype": "text/x-python",
   "name": "python",
   "nbconvert_exporter": "python",
   "pygments_lexer": "ipython2",
   "version": "2.7.6"
  }
 },
 "nbformat": 4,
 "nbformat_minor": 5
}
