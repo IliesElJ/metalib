{
 "cells": [
  {
   "cell_type": "code",
   "id": "initial_id",
   "metadata": {
    "collapsed": true,
    "ExecuteTime": {
     "end_time": "2025-08-03T08:19:58.813902Z",
     "start_time": "2025-08-03T08:19:58.803119Z"
    }
   },
   "source": [
    "from metalib.metaanalyser import MetaAnalyser\n",
    "from MetaTrader5 import TIMEFRAME_M5"
   ],
   "outputs": [],
   "execution_count": 3
  },
  {
   "metadata": {
    "ExecuteTime": {
     "end_time": "2025-08-03T08:35:38.229101Z",
     "start_time": "2025-08-03T08:35:38.221041Z"
    }
   },
   "cell_type": "code",
   "source": [
    "instance = MetaAnalyser(symbols=[\"EURUSD\"], tag=\"test_analyser\", timeframe=TIMEFRAME_M5, active_hours=None)\n",
    "print(instance)"
   ],
   "id": "d10654d171208482",
   "outputs": [
    {
     "name": "stdout",
     "output_type": "stream",
     "text": [
      "<metalib.metaanalyser.MetaAnalyser object at 0x000001D1AE964A60>\n"
     ]
    }
   ],
   "execution_count": 9
  },
  {
   "metadata": {
    "ExecuteTime": {
     "end_time": "2025-08-03T08:43:25.651318Z",
     "start_time": "2025-08-03T08:42:19.454575Z"
    }
   },
   "cell_type": "code",
   "source": "instance.connect()",
   "id": "4fd397f5f738435c",
   "outputs": [
    {
     "name": "stdout",
     "output_type": "stream",
     "text": [
      "Initialize() failed, error code = (-10005, 'IPC timeout')\n"
     ]
    }
   ],
   "execution_count": 11
  },
  {
   "metadata": {},
   "cell_type": "code",
   "outputs": [],
   "execution_count": null,
   "source": "z",
   "id": "6902535530838221"
  }
 ],
 "metadata": {
  "kernelspec": {
   "display_name": "Python 3",
   "language": "python",
   "name": "python3"
  },
  "language_info": {
   "codemirror_mode": {
    "name": "ipython",
    "version": 2
   },
   "file_extension": ".py",
   "mimetype": "text/x-python",
   "name": "python",
   "nbconvert_exporter": "python",
   "pygments_lexer": "ipython2",
   "version": "2.7.6"
  }
 },
 "nbformat": 4,
 "nbformat_minor": 5
}
