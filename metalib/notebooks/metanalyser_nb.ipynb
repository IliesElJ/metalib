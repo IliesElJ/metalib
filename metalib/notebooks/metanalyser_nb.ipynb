{
 "cells": [
  {
   "cell_type": "code",
   "id": "initial_id",
   "metadata": {
    "collapsed": true,
    "ExecuteTime": {
     "end_time": "2025-08-05T19:17:55.386681Z",
     "start_time": "2025-08-05T19:17:54.585366Z"
    }
   },
   "source": [
    "from metalib.metaanalyser import MetaAnalyser\n",
    "from MetaTrader5 import TIMEFRAME_M5"
   ],
   "outputs": [],
   "execution_count": 1
  },
  {
   "metadata": {
    "ExecuteTime": {
     "end_time": "2025-08-05T19:18:13.599792Z",
     "start_time": "2025-08-05T19:18:13.587874Z"
    }
   },
   "cell_type": "code",
   "source": [
    "instance = MetaAnalyser(symbols=[\"EURUSD\"], tag=\"test_analyser\", timeframe=TIMEFRAME_M5, active_hours=None)\n",
    "print(instance)"
   ],
   "id": "d10654d171208482",
   "outputs": [
    {
     "name": "stdout",
     "output_type": "stream",
     "text": [
      "<metalib.metaanalyser.MetaAnalyser object at 0x000002B63DB65E50>\n"
     ]
    }
   ],
   "execution_count": 2
  },
  {
   "metadata": {
    "ExecuteTime": {
     "end_time": "2025-08-05T19:19:21.623638Z",
     "start_time": "2025-08-05T19:18:14.507290Z"
    }
   },
   "cell_type": "code",
   "source": "instance.connect()",
   "id": "4fd397f5f738435c",
   "outputs": [
    {
     "name": "stdout",
     "output_type": "stream",
     "text": [
      "Initialize() failed, error code = (-10005, 'IPC timeout')\n"
     ]
    }
   ],
   "execution_count": 3
  },
  {
   "metadata": {},
   "cell_type": "code",
   "outputs": [],
   "execution_count": null,
   "source": "z",
   "id": "6902535530838221"
  }
 ],
 "metadata": {
  "kernelspec": {
   "display_name": "Python 3",
   "language": "python",
   "name": "python3"
  },
  "language_info": {
   "codemirror_mode": {
    "name": "ipython",
    "version": 2
   },
   "file_extension": ".py",
   "mimetype": "text/x-python",
   "name": "python",
   "nbconvert_exporter": "python",
   "pygments_lexer": "ipython2",
   "version": "2.7.6"
  }
 },
 "nbformat": 4,
 "nbformat_minor": 5
}
