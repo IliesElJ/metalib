{
 "cells": [
  {
   "cell_type": "code",
   "id": "initial_id",
   "metadata": {
    "collapsed": true,
    "ExecuteTime": {
     "end_time": "2025-09-22T19:18:48.257806Z",
     "start_time": "2025-09-22T19:18:45.198337Z"
    }
   },
   "source": [
    "from metalib.metane import MetaNE\n",
    "from MetaTrader5 import TIMEFRAME_M1 as tf\n",
    "from datetime import datetime, timedelta\n",
    "import pytz"
   ],
   "outputs": [],
   "execution_count": 1
  },
  {
   "metadata": {
    "ExecuteTime": {
     "end_time": "2025-09-22T19:18:48.280591Z",
     "start_time": "2025-09-22T19:18:48.261330Z"
    }
   },
   "cell_type": "code",
   "source": [
    "test_instance = MetaNE([\"BTCUSD\"], tf,\n",
    "                       tag=\"test\",\n",
    "                       active_hours=None,\n",
    "                       lookahead=30,\n",
    "                       rrr=3,\n",
    "                       long_threshold=0)"
   ],
   "id": "19a2cf847f7c935",
   "outputs": [],
   "execution_count": 2
  },
  {
   "metadata": {
    "ExecuteTime": {
     "end_time": "2025-09-22T19:21:02.386931Z",
     "start_time": "2025-09-22T19:18:51.873799Z"
    }
   },
   "cell_type": "code",
   "source": [
    "test_instance.connect()\n",
    "test_instance.fit()"
   ],
   "id": "f872efa45c50ba29",
   "outputs": [
    {
     "name": "stdout",
     "output_type": "stream",
     "text": [
      "Last time in the index: 2025-09-21 23:54:00\n",
      "Selected features: ['is_som', 'is_asia_session', '8', 'is_eom', 'is_friday', 'crossed_high', 'is_fixing_hour', 'crossed_low', 'is_monday', 'is_london_session', 'above_upper', 'week_of_month', 'below_lower', 'timeofday_float', 'is_monday_asia']\n",
      "Fitting 4 folds for each of 12 candidates, totalling 48 fits\n",
      "============================================================\n",
      "RANDOM FOREST WITH HYPERPARAMETER TUNING RESULTS\n",
      "============================================================\n",
      "Best parameters: {'randomforestregressor__max_depth': 10, 'randomforestregressor__min_samples_leaf': 2, 'randomforestregressor__n_estimators': 200}\n",
      "Best CV R2 score: -0.0792\n",
      "In-sample R2: 0.3274\n",
      "Sign prediction accuracy: 0.7273\n",
      "\n",
      "Final Model Configuration:\n",
      "  n_estimators: 200\n",
      "  max_depth: 10\n",
      "  min_samples_leaf: 2\n",
      "  min_samples_split: 10\n",
      "  max_features: sqrt\n",
      "\n",
      "Top 5 Most Important Features:\n",
      "        feature  importance\n",
      "    below_lower    0.127902\n",
      "timeofday_float    0.108340\n",
      "    crossed_low    0.092161\n",
      "    above_upper    0.085443\n",
      "  week_of_month    0.080514\n"
     ]
    }
   ],
   "execution_count": 3
  },
  {
   "metadata": {
    "ExecuteTime": {
     "end_time": "2025-09-22T19:10:03.114837Z",
     "start_time": "2025-09-22T19:10:03.101030Z"
    }
   },
   "cell_type": "code",
   "source": "import MetaTrader5 as mt5",
   "id": "21d8962bc781b31",
   "outputs": [],
   "execution_count": 4
  },
  {
   "metadata": {
    "ExecuteTime": {
     "end_time": "2025-09-22T19:10:03.146444Z",
     "start_time": "2025-09-22T19:10:03.138667Z"
    }
   },
   "cell_type": "code",
   "source": "test_instance.debug = True",
   "id": "35ea81371e033c3a",
   "outputs": [],
   "execution_count": 5
  },
  {
   "metadata": {
    "ExecuteTime": {
     "end_time": "2025-09-22T19:34:06.197354Z",
     "start_time": "2025-09-22T19:34:05.673710Z"
    }
   },
   "cell_type": "code",
   "source": "test_instance.loadData(start_time, end_time)",
   "id": "8aed5cc5895b4513",
   "outputs": [
    {
     "ename": "NameError",
     "evalue": "name 'start_time' is not defined",
     "output_type": "error",
     "traceback": [
      "\u001B[1;31m---------------------------------------------------------------------------\u001B[0m",
      "\u001B[1;31mNameError\u001B[0m                                 Traceback (most recent call last)",
      "Cell \u001B[1;32mIn[4], line 1\u001B[0m\n\u001B[1;32m----> 1\u001B[0m test_instance\u001B[38;5;241m.\u001B[39mloadData(\u001B[43mstart_time\u001B[49m, end_time)\n",
      "\u001B[1;31mNameError\u001B[0m: name 'start_time' is not defined"
     ]
    }
   ],
   "execution_count": 4
  },
  {
   "metadata": {
    "ExecuteTime": {
     "end_time": "2025-09-22T19:34:07.744743Z",
     "start_time": "2025-09-22T19:34:07.331642Z"
    }
   },
   "cell_type": "code",
   "source": [
    "end_time = datetime.now(pytz.utc) + timedelta(hours=3)\n",
    "start_time = end_time - timedelta(days=40)\n",
    "\n",
    "try:\n",
    "    test_instance.run(start_time, end_time)\n",
    "except Exception as e:\n",
    "    print(f\"Error running strategy: {e}\")"
   ],
   "id": "756029402cd8ba34",
   "outputs": [
    {
     "name": "stderr",
     "output_type": "stream",
     "text": [
      "C:\\Users\\Trismegist\\anaconda3\\envs\\adonys\\lib\\site-packages\\sklearn\\utils\\validation.py:2732: UserWarning: X has feature names, but StandardScaler was fitted without feature names\n",
      "  warnings.warn(\n",
      "C:\\Users\\Trismegist\\Documents\\GitHub\\metalib\\metalib\\metane.py:278: SettingWithCopyWarning: \n",
      "A value is trying to be set on a copy of a slice from a DataFrame\n",
      "\n",
      "See the caveats in the documentation: https://pandas.pydata.org/pandas-docs/stable/user_guide/indexing.html#returning-a-view-versus-a-copy\n",
      "  signal_line['predicted_fwd_return'] = y_hat\n",
      "C:\\Users\\Trismegist\\Documents\\GitHub\\metalib\\metalib\\metane.py:278: SettingWithCopyWarning: \n",
      "A value is trying to be set on a copy of a slice from a DataFrame\n",
      "\n",
      "See the caveats in the documentation: https://pandas.pydata.org/pandas-docs/stable/user_guide/indexing.html#returning-a-view-versus-a-copy\n",
      "  signal_line['predicted_fwd_return'] = y_hat\n"
     ]
    }
   ],
   "execution_count": 5
  },
  {
   "metadata": {
    "ExecuteTime": {
     "end_time": "2025-09-21T18:37:55.251399Z",
     "start_time": "2025-09-21T18:37:55.239373Z"
    }
   },
   "cell_type": "code",
   "source": "test_instance.state",
   "id": "9bf715700858fb7",
   "outputs": [
    {
     "data": {
      "text/plain": [
       "0"
      ]
     },
     "execution_count": 13,
     "metadata": {},
     "output_type": "execute_result"
    }
   ],
   "execution_count": 13
  },
  {
   "metadata": {
    "ExecuteTime": {
     "end_time": "2025-09-22T19:34:14.773098Z",
     "start_time": "2025-09-22T19:34:14.757315Z"
    }
   },
   "cell_type": "code",
   "source": "test_instance.signalData",
   "id": "c2d03d58119b6db8",
   "outputs": [
    {
     "data": {
      "text/plain": [
       "is_som                  7.410985e-323\n",
       "is_asia_session          2.477662e-12\n",
       "8                        6.455403e-01\n",
       "is_eom                  7.410985e-323\n",
       "is_friday                2.542879e-56\n",
       "crossed_high             8.530661e-10\n",
       "is_fixing_hour           2.039930e-06\n",
       "crossed_low              2.513252e-04\n",
       "is_monday                1.000000e+00\n",
       "is_london_session        2.371519e-06\n",
       "above_upper              5.749707e-09\n",
       "week_of_month            4.000000e+00\n",
       "below_lower              2.620678e-03\n",
       "timeofday_float          2.206667e+01\n",
       "is_monday_asia           4.843830e-14\n",
       "predicted_fwd_return    -3.298838e-03\n",
       "Name: 52129, dtype: float64"
      ]
     },
     "execution_count": 6,
     "metadata": {},
     "output_type": "execute_result"
    }
   ],
   "execution_count": 6
  }
 ],
 "metadata": {
  "kernelspec": {
   "display_name": "Python 3",
   "language": "python",
   "name": "python3"
  },
  "language_info": {
   "codemirror_mode": {
    "name": "ipython",
    "version": 2
   },
   "file_extension": ".py",
   "mimetype": "text/x-python",
   "name": "python",
   "nbconvert_exporter": "python",
   "pygments_lexer": "ipython2",
   "version": "2.7.6"
  }
 },
 "nbformat": 4,
 "nbformat_minor": 5
}
