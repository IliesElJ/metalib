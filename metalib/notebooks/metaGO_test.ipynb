{
 "cells": [
  {
   "cell_type": "code",
   "id": "initial_id",
   "metadata": {
    "collapsed": true,
    "ExecuteTime": {
     "end_time": "2025-09-28T20:32:51.957428Z",
     "start_time": "2025-09-28T20:32:50.194155Z"
    }
   },
   "source": [
    "import pytz\n",
    "\n",
    "from metalib.metagomano import MetaGO\n",
    "from MetaTrader5 import TIMEFRAME_M1\n",
    "from datetime import datetime, timedelta\n",
    "import pytz as pytz"
   ],
   "outputs": [],
   "execution_count": 1
  },
  {
   "metadata": {
    "ExecuteTime": {
     "end_time": "2025-09-28T20:32:52.112168Z",
     "start_time": "2025-09-28T20:32:52.087700Z"
    }
   },
   "cell_type": "code",
   "source": [
    "end_time = datetime.now(pytz.utc) + timedelta(hours=3)\n",
    "start_time = end_time - timedelta(days=30)"
   ],
   "id": "17c59699340d693",
   "outputs": [],
   "execution_count": 2
  },
  {
   "metadata": {
    "ExecuteTime": {
     "end_time": "2025-09-28T20:32:52.125632Z",
     "start_time": "2025-09-28T20:32:52.121172Z"
    }
   },
   "cell_type": "code",
   "source": [
    "from MetaTrader5 import copy_rates_range\n",
    "import MetaTrader5 as mt"
   ],
   "id": "431a3e4d6efb95ed",
   "outputs": [],
   "execution_count": 3
  },
  {
   "metadata": {
    "ExecuteTime": {
     "end_time": "2025-09-28T20:32:53.447456Z",
     "start_time": "2025-09-28T20:32:52.145741Z"
    }
   },
   "cell_type": "code",
   "source": [
    "import yaml\n",
    "import warnings\n",
    "from multiprocessing import Process\n",
    "from metalib.metaworker import run_strategy_loop\n",
    "import MetaTrader5 as mt5\n",
    "\n",
    "warnings.filterwarnings(\"ignore\")\n",
    "\n",
    "processes = []\n",
    "\n",
    "with open(\"../config/dev/metago.yaml\", \"r\") as f:\n",
    "    config_data = yaml.safe_load(f)\n",
    "\n",
    "name = \"BTCUSD_H1_GO\"\n",
    "entry = config_data[name]\n"
   ],
   "id": "f6c1ea5c58b1041f",
   "outputs": [],
   "execution_count": 4
  },
  {
   "metadata": {
    "ExecuteTime": {
     "end_time": "2025-09-28T20:32:53.699754Z",
     "start_time": "2025-09-28T20:32:53.692414Z"
    }
   },
   "cell_type": "code",
   "source": [
    "strategy_type = entry.pop(\"strategy_type\")\n",
    "init_args = entry.copy()\n",
    "\n",
    "# Convert timeframe string (e.g. \"TIMEFRAME_M1\") to actual mt5 constant\n",
    "if isinstance(init_args.get(\"timeframe\"), str):\n",
    "    init_args[\"timeframe\"] = eval(init_args[\"timeframe\"])\n",
    "\n",
    "# Convert null active_hours to None\n",
    "if \"active_hours\" in init_args and init_args[\"active_hours\"] == \"None\":\n",
    "    init_args[\"active_hours\"] = None"
   ],
   "id": "d8606907b35ddf1e",
   "outputs": [],
   "execution_count": 5
  },
  {
   "metadata": {
    "ExecuteTime": {
     "end_time": "2025-09-28T20:34:00.973827Z",
     "start_time": "2025-09-28T20:34:00.957761Z"
    }
   },
   "cell_type": "code",
   "source": [
    "strategy_registry = {\n",
    "    \"metago\": {\n",
    "        \"class\": MetaGO,\n",
    "        \"init_keys\": [\n",
    "            \"symbols\",\n",
    "            \"timeframe\",\n",
    "            \"tag\",\n",
    "            \"active_hours\",\n",
    "            \"mean_rev_tf\"\n",
    "        ]\n",
    "    }\n",
    "}"
   ],
   "id": "1a4a4203ff988641",
   "outputs": [],
   "execution_count": 12
  },
  {
   "metadata": {
    "ExecuteTime": {
     "end_time": "2025-09-28T20:34:01.871418Z",
     "start_time": "2025-09-28T20:34:01.857284Z"
    }
   },
   "cell_type": "code",
   "source": "strategy_registry",
   "id": "975b15a729afd652",
   "outputs": [
    {
     "data": {
      "text/plain": [
       "{'metago': {'class': metalib.metagomano.MetaGO,\n",
       "  'init_keys': ['symbols', 'timeframe', 'tag', 'active_hours', 'mean_rev_tf']}}"
      ]
     },
     "execution_count": 13,
     "metadata": {},
     "output_type": "execute_result"
    }
   ],
   "execution_count": 13
  },
  {
   "metadata": {
    "ExecuteTime": {
     "end_time": "2025-09-28T20:34:02.236741Z",
     "start_time": "2025-09-28T20:34:02.232098Z"
    }
   },
   "cell_type": "code",
   "source": "init_args[\"mean_rev_tf\"] = \"weekly\"",
   "id": "59b5b0308f6010c6",
   "outputs": [],
   "execution_count": 14
  },
  {
   "metadata": {
    "ExecuteTime": {
     "end_time": "2025-09-28T20:34:02.530082Z",
     "start_time": "2025-09-28T20:34:02.514442Z"
    }
   },
   "cell_type": "code",
   "source": [
    "strategy_info = strategy_registry.get(strategy_type)\n",
    "if not strategy_info:\n",
    "    raise ValueError(f\"Unknown strategy type: {strategy_type}\")\n",
    "\n",
    "StrategyClass = strategy_info[\"class\"]\n",
    "expected_keys = strategy_info[\"init_keys\"]\n",
    "\n",
    "# Ensure required keys are present\n",
    "for key in expected_keys:\n",
    "    if key not in init_args:\n",
    "        raise ValueError(f\"Missing required argument: {key}\")\n",
    "\n",
    "instance = StrategyClass(**{k: init_args[k] for k in expected_keys})\n",
    "instance.connect()\n",
    "instance.fit()"
   ],
   "id": "68862bf8e73a3c5d",
   "outputs": [
    {
     "name": "stdout",
     "output_type": "stream",
     "text": [
      "No model to fit for MetaGO(mano) pelo!\n"
     ]
    }
   ],
   "execution_count": 15
  },
  {
   "metadata": {
    "ExecuteTime": {
     "end_time": "2025-09-28T20:36:21.264886Z",
     "start_time": "2025-09-28T20:36:21.259184Z"
    }
   },
   "cell_type": "code",
   "source": "instance.debug=True",
   "id": "75424ede698afa6c",
   "outputs": [],
   "execution_count": 17
  },
  {
   "metadata": {
    "ExecuteTime": {
     "end_time": "2025-09-28T20:36:21.763456Z",
     "start_time": "2025-09-28T20:36:21.725316Z"
    }
   },
   "cell_type": "code",
   "source": "instance.run(start_time, end_time)",
   "id": "84fd41202ec68109",
   "outputs": [
    {
     "data": {
      "text/plain": [
       "False"
      ]
     },
     "execution_count": 18,
     "metadata": {},
     "output_type": "execute_result"
    }
   ],
   "execution_count": 18
  },
  {
   "metadata": {
    "ExecuteTime": {
     "end_time": "2025-09-28T20:30:00.581171Z",
     "start_time": "2025-09-28T20:30:00.549642Z"
    }
   },
   "cell_type": "code",
   "source": "instance.indicators",
   "id": "10d4eae307fb5687",
   "outputs": [
    {
     "data": {
      "text/plain": [
       "                     uptrend  downtrend  sideways  true_open_weekly  \\\n",
       "time                                                                  \n",
       "2025-08-29 23:31:00    False      False      True               NaN   \n",
       "2025-08-29 23:32:00    False      False      True               NaN   \n",
       "2025-08-29 23:33:00    False      False      True               NaN   \n",
       "2025-08-29 23:34:00    False      False      True               NaN   \n",
       "2025-08-29 23:35:00    False      False      True               NaN   \n",
       "...                      ...        ...       ...               ...   \n",
       "2025-09-28 16:55:00     True      False     False         112687.92   \n",
       "2025-09-28 16:56:00     True      False     False         112687.92   \n",
       "2025-09-28 16:57:00     True      False     False         112687.92   \n",
       "2025-09-28 16:58:00     True      False     False         112687.92   \n",
       "2025-09-28 16:59:00     True      False     False         112687.92   \n",
       "\n",
       "                     true_open_monthly  crossed_diff_monthly_weekly  \\\n",
       "time                                                                  \n",
       "2025-08-29 23:31:00                NaN                          NaN   \n",
       "2025-08-29 23:32:00                NaN                          NaN   \n",
       "2025-08-29 23:33:00                NaN                          NaN   \n",
       "2025-08-29 23:34:00                NaN                          NaN   \n",
       "2025-08-29 23:35:00                NaN                          NaN   \n",
       "...                                ...                          ...   \n",
       "2025-09-28 16:55:00          111225.36                     -1462.56   \n",
       "2025-09-28 16:56:00          111225.36                     -1462.56   \n",
       "2025-09-28 16:57:00          111225.36                     -1462.56   \n",
       "2025-09-28 16:58:00          111225.36                     -1462.56   \n",
       "2025-09-28 16:59:00          111225.36                     -1462.56   \n",
       "\n",
       "                     above_true_open_monthly_diff  \\\n",
       "time                                                \n",
       "2025-08-29 23:31:00                           NaN   \n",
       "2025-08-29 23:32:00                           NaN   \n",
       "2025-08-29 23:33:00                           NaN   \n",
       "2025-08-29 23:34:00                           NaN   \n",
       "2025-08-29 23:35:00                           NaN   \n",
       "...                                           ...   \n",
       "2025-09-28 16:55:00                      -1634.33   \n",
       "2025-09-28 16:56:00                      -1640.04   \n",
       "2025-09-28 16:57:00                      -1635.92   \n",
       "2025-09-28 16:58:00                      -1642.66   \n",
       "2025-09-28 16:59:00                      -1645.10   \n",
       "\n",
       "                     above_true_open_weekly_diff      short_sma  \\\n",
       "time                                                              \n",
       "2025-08-29 23:31:00                          NaN            NaN   \n",
       "2025-08-29 23:32:00                          NaN            NaN   \n",
       "2025-08-29 23:33:00                          NaN            NaN   \n",
       "2025-08-29 23:34:00                          NaN            NaN   \n",
       "2025-08-29 23:35:00                          NaN            NaN   \n",
       "...                                          ...            ...   \n",
       "2025-09-28 16:55:00                     -3096.89  109551.025000   \n",
       "2025-09-28 16:56:00                     -3102.60  109553.946667   \n",
       "2025-09-28 16:57:00                     -3098.48  109556.819167   \n",
       "2025-09-28 16:58:00                     -3105.22  109561.440833   \n",
       "2025-09-28 16:59:00                     -3107.66  109565.639167   \n",
       "\n",
       "                          long_sma      close        atr  \n",
       "time                                                      \n",
       "2025-08-29 23:31:00            NaN  107749.94        NaN  \n",
       "2025-08-29 23:32:00            NaN  107790.66        NaN  \n",
       "2025-08-29 23:33:00            NaN  107839.39        NaN  \n",
       "2025-08-29 23:34:00            NaN  107852.71        NaN  \n",
       "2025-08-29 23:35:00            NaN  107818.80        NaN  \n",
       "...                            ...        ...        ...  \n",
       "2025-09-28 16:55:00  109534.231250  109591.03  27.693571  \n",
       "2025-09-28 16:56:00  109539.548333  109585.32  26.918571  \n",
       "2025-09-28 16:57:00  109544.993750  109589.44  25.467857  \n",
       "2025-09-28 16:58:00  109549.204583  109582.70  22.422857  \n",
       "2025-09-28 16:59:00  109552.820000  109580.26  21.609286  \n",
       "\n",
       "[37352 rows x 12 columns]"
      ],
      "text/html": [
       "<div>\n",
       "<style scoped>\n",
       "    .dataframe tbody tr th:only-of-type {\n",
       "        vertical-align: middle;\n",
       "    }\n",
       "\n",
       "    .dataframe tbody tr th {\n",
       "        vertical-align: top;\n",
       "    }\n",
       "\n",
       "    .dataframe thead th {\n",
       "        text-align: right;\n",
       "    }\n",
       "</style>\n",
       "<table border=\"1\" class=\"dataframe\">\n",
       "  <thead>\n",
       "    <tr style=\"text-align: right;\">\n",
       "      <th></th>\n",
       "      <th>uptrend</th>\n",
       "      <th>downtrend</th>\n",
       "      <th>sideways</th>\n",
       "      <th>true_open_weekly</th>\n",
       "      <th>true_open_monthly</th>\n",
       "      <th>crossed_diff_monthly_weekly</th>\n",
       "      <th>above_true_open_monthly_diff</th>\n",
       "      <th>above_true_open_weekly_diff</th>\n",
       "      <th>short_sma</th>\n",
       "      <th>long_sma</th>\n",
       "      <th>close</th>\n",
       "      <th>atr</th>\n",
       "    </tr>\n",
       "    <tr>\n",
       "      <th>time</th>\n",
       "      <th></th>\n",
       "      <th></th>\n",
       "      <th></th>\n",
       "      <th></th>\n",
       "      <th></th>\n",
       "      <th></th>\n",
       "      <th></th>\n",
       "      <th></th>\n",
       "      <th></th>\n",
       "      <th></th>\n",
       "      <th></th>\n",
       "      <th></th>\n",
       "    </tr>\n",
       "  </thead>\n",
       "  <tbody>\n",
       "    <tr>\n",
       "      <th>2025-08-29 23:31:00</th>\n",
       "      <td>False</td>\n",
       "      <td>False</td>\n",
       "      <td>True</td>\n",
       "      <td>NaN</td>\n",
       "      <td>NaN</td>\n",
       "      <td>NaN</td>\n",
       "      <td>NaN</td>\n",
       "      <td>NaN</td>\n",
       "      <td>NaN</td>\n",
       "      <td>NaN</td>\n",
       "      <td>107749.94</td>\n",
       "      <td>NaN</td>\n",
       "    </tr>\n",
       "    <tr>\n",
       "      <th>2025-08-29 23:32:00</th>\n",
       "      <td>False</td>\n",
       "      <td>False</td>\n",
       "      <td>True</td>\n",
       "      <td>NaN</td>\n",
       "      <td>NaN</td>\n",
       "      <td>NaN</td>\n",
       "      <td>NaN</td>\n",
       "      <td>NaN</td>\n",
       "      <td>NaN</td>\n",
       "      <td>NaN</td>\n",
       "      <td>107790.66</td>\n",
       "      <td>NaN</td>\n",
       "    </tr>\n",
       "    <tr>\n",
       "      <th>2025-08-29 23:33:00</th>\n",
       "      <td>False</td>\n",
       "      <td>False</td>\n",
       "      <td>True</td>\n",
       "      <td>NaN</td>\n",
       "      <td>NaN</td>\n",
       "      <td>NaN</td>\n",
       "      <td>NaN</td>\n",
       "      <td>NaN</td>\n",
       "      <td>NaN</td>\n",
       "      <td>NaN</td>\n",
       "      <td>107839.39</td>\n",
       "      <td>NaN</td>\n",
       "    </tr>\n",
       "    <tr>\n",
       "      <th>2025-08-29 23:34:00</th>\n",
       "      <td>False</td>\n",
       "      <td>False</td>\n",
       "      <td>True</td>\n",
       "      <td>NaN</td>\n",
       "      <td>NaN</td>\n",
       "      <td>NaN</td>\n",
       "      <td>NaN</td>\n",
       "      <td>NaN</td>\n",
       "      <td>NaN</td>\n",
       "      <td>NaN</td>\n",
       "      <td>107852.71</td>\n",
       "      <td>NaN</td>\n",
       "    </tr>\n",
       "    <tr>\n",
       "      <th>2025-08-29 23:35:00</th>\n",
       "      <td>False</td>\n",
       "      <td>False</td>\n",
       "      <td>True</td>\n",
       "      <td>NaN</td>\n",
       "      <td>NaN</td>\n",
       "      <td>NaN</td>\n",
       "      <td>NaN</td>\n",
       "      <td>NaN</td>\n",
       "      <td>NaN</td>\n",
       "      <td>NaN</td>\n",
       "      <td>107818.80</td>\n",
       "      <td>NaN</td>\n",
       "    </tr>\n",
       "    <tr>\n",
       "      <th>...</th>\n",
       "      <td>...</td>\n",
       "      <td>...</td>\n",
       "      <td>...</td>\n",
       "      <td>...</td>\n",
       "      <td>...</td>\n",
       "      <td>...</td>\n",
       "      <td>...</td>\n",
       "      <td>...</td>\n",
       "      <td>...</td>\n",
       "      <td>...</td>\n",
       "      <td>...</td>\n",
       "      <td>...</td>\n",
       "    </tr>\n",
       "    <tr>\n",
       "      <th>2025-09-28 16:55:00</th>\n",
       "      <td>True</td>\n",
       "      <td>False</td>\n",
       "      <td>False</td>\n",
       "      <td>112687.92</td>\n",
       "      <td>111225.36</td>\n",
       "      <td>-1462.56</td>\n",
       "      <td>-1634.33</td>\n",
       "      <td>-3096.89</td>\n",
       "      <td>109551.025000</td>\n",
       "      <td>109534.231250</td>\n",
       "      <td>109591.03</td>\n",
       "      <td>27.693571</td>\n",
       "    </tr>\n",
       "    <tr>\n",
       "      <th>2025-09-28 16:56:00</th>\n",
       "      <td>True</td>\n",
       "      <td>False</td>\n",
       "      <td>False</td>\n",
       "      <td>112687.92</td>\n",
       "      <td>111225.36</td>\n",
       "      <td>-1462.56</td>\n",
       "      <td>-1640.04</td>\n",
       "      <td>-3102.60</td>\n",
       "      <td>109553.946667</td>\n",
       "      <td>109539.548333</td>\n",
       "      <td>109585.32</td>\n",
       "      <td>26.918571</td>\n",
       "    </tr>\n",
       "    <tr>\n",
       "      <th>2025-09-28 16:57:00</th>\n",
       "      <td>True</td>\n",
       "      <td>False</td>\n",
       "      <td>False</td>\n",
       "      <td>112687.92</td>\n",
       "      <td>111225.36</td>\n",
       "      <td>-1462.56</td>\n",
       "      <td>-1635.92</td>\n",
       "      <td>-3098.48</td>\n",
       "      <td>109556.819167</td>\n",
       "      <td>109544.993750</td>\n",
       "      <td>109589.44</td>\n",
       "      <td>25.467857</td>\n",
       "    </tr>\n",
       "    <tr>\n",
       "      <th>2025-09-28 16:58:00</th>\n",
       "      <td>True</td>\n",
       "      <td>False</td>\n",
       "      <td>False</td>\n",
       "      <td>112687.92</td>\n",
       "      <td>111225.36</td>\n",
       "      <td>-1462.56</td>\n",
       "      <td>-1642.66</td>\n",
       "      <td>-3105.22</td>\n",
       "      <td>109561.440833</td>\n",
       "      <td>109549.204583</td>\n",
       "      <td>109582.70</td>\n",
       "      <td>22.422857</td>\n",
       "    </tr>\n",
       "    <tr>\n",
       "      <th>2025-09-28 16:59:00</th>\n",
       "      <td>True</td>\n",
       "      <td>False</td>\n",
       "      <td>False</td>\n",
       "      <td>112687.92</td>\n",
       "      <td>111225.36</td>\n",
       "      <td>-1462.56</td>\n",
       "      <td>-1645.10</td>\n",
       "      <td>-3107.66</td>\n",
       "      <td>109565.639167</td>\n",
       "      <td>109552.820000</td>\n",
       "      <td>109580.26</td>\n",
       "      <td>21.609286</td>\n",
       "    </tr>\n",
       "  </tbody>\n",
       "</table>\n",
       "<p>37352 rows × 12 columns</p>\n",
       "</div>"
      ]
     },
     "execution_count": 11,
     "metadata": {},
     "output_type": "execute_result"
    }
   ],
   "execution_count": 11
  },
  {
   "metadata": {
    "ExecuteTime": {
     "end_time": "2025-08-24T08:19:58.005988Z",
     "start_time": "2025-08-24T08:19:57.980847Z"
    }
   },
   "cell_type": "code",
   "source": "instance.loadData(start_time, end_time)",
   "id": "d7e5f604d986e07c",
   "outputs": [],
   "execution_count": 11
  },
  {
   "metadata": {
    "ExecuteTime": {
     "end_time": "2025-09-28T20:36:49.115114Z",
     "start_time": "2025-09-28T20:36:49.108523Z"
    }
   },
   "cell_type": "code",
   "source": "instance.tp",
   "id": "b175217aa7af89d6",
   "outputs": [
    {
     "data": {
      "text/plain": [
       "112687.92"
      ]
     },
     "execution_count": 19,
     "metadata": {},
     "output_type": "execute_result"
    }
   ],
   "execution_count": 19
  },
  {
   "metadata": {},
   "cell_type": "markdown",
   "source": "",
   "id": "78364e64afaf8c34"
  },
  {
   "metadata": {
    "ExecuteTime": {
     "end_time": "2025-08-24T08:20:09.471136Z",
     "start_time": "2025-08-24T08:20:09.451656Z"
    }
   },
   "cell_type": "code",
   "source": "instance.tp",
   "id": "20f4834fc7c6adb8",
   "outputs": [
    {
     "data": {
      "text/plain": [
       "118050.22"
      ]
     },
     "execution_count": 13,
     "metadata": {},
     "output_type": "execute_result"
    }
   ],
   "execution_count": 13
  },
  {
   "metadata": {
    "ExecuteTime": {
     "end_time": "2025-08-24T08:25:08.728296Z",
     "start_time": "2025-08-24T08:25:08.710809Z"
    }
   },
   "cell_type": "code",
   "source": "type(instance.signalData)",
   "id": "f3c4e2dca4c2e079",
   "outputs": [
    {
     "data": {
      "text/plain": [
       "pandas.core.frame.DataFrame"
      ]
     },
     "execution_count": 15,
     "metadata": {},
     "output_type": "execute_result"
    }
   ],
   "execution_count": 15
  },
  {
   "metadata": {
    "ExecuteTime": {
     "end_time": "2025-08-09T15:34:21.544271Z",
     "start_time": "2025-08-09T15:34:20.747371Z"
    }
   },
   "cell_type": "code",
   "source": "instance.run(start_time, end_time)",
   "id": "13f09e50453f2f5",
   "outputs": [
    {
     "data": {
      "text/plain": [
       "True"
      ]
     },
     "execution_count": 11,
     "metadata": {},
     "output_type": "execute_result"
    }
   ],
   "execution_count": 11
  },
  {
   "metadata": {},
   "cell_type": "code",
   "outputs": [],
   "execution_count": null,
   "source": "",
   "id": "f61637b33df3ec92"
  }
 ],
 "metadata": {
  "kernelspec": {
   "display_name": "Python 3",
   "language": "python",
   "name": "python3"
  },
  "language_info": {
   "codemirror_mode": {
    "name": "ipython",
    "version": 2
   },
   "file_extension": ".py",
   "mimetype": "text/x-python",
   "name": "python",
   "nbconvert_exporter": "python",
   "pygments_lexer": "ipython2",
   "version": "2.7.6"
  }
 },
 "nbformat": 4,
 "nbformat_minor": 5
}
