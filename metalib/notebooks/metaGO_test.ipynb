{
 "cells": [
  {
   "cell_type": "code",
   "id": "initial_id",
   "metadata": {
    "collapsed": true,
    "ExecuteTime": {
     "end_time": "2025-08-24T08:19:05.829282Z",
     "start_time": "2025-08-24T08:18:59.015132Z"
    }
   },
   "source": [
    "import pytz\n",
    "\n",
    "from metalib.metagomano import MetaGO\n",
    "from MetaTrader5 import TIMEFRAME_M1\n",
    "from datetime import datetime, timedelta\n",
    "import pytz as pytz"
   ],
   "outputs": [],
   "execution_count": 1
  },
  {
   "metadata": {
    "ExecuteTime": {
     "end_time": "2025-08-24T08:19:05.864027Z",
     "start_time": "2025-08-24T08:19:05.842498Z"
    }
   },
   "cell_type": "code",
   "source": [
    "end_time = datetime.now(pytz.utc) + timedelta(hours=3)\n",
    "start_time = end_time - timedelta(days=30)"
   ],
   "id": "17c59699340d693",
   "outputs": [],
   "execution_count": 2
  },
  {
   "metadata": {
    "ExecuteTime": {
     "end_time": "2025-08-24T08:19:06.643825Z",
     "start_time": "2025-08-24T08:19:06.618384Z"
    }
   },
   "cell_type": "code",
   "source": [
    "from MetaTrader5 import copy_rates_range\n",
    "import MetaTrader5 as mt"
   ],
   "id": "431a3e4d6efb95ed",
   "outputs": [],
   "execution_count": 3
  },
  {
   "metadata": {
    "ExecuteTime": {
     "end_time": "2025-08-24T08:19:09.740426Z",
     "start_time": "2025-08-24T08:19:06.669173Z"
    }
   },
   "cell_type": "code",
   "source": [
    "import yaml\n",
    "import warnings\n",
    "from multiprocessing import Process\n",
    "from metalib.metaworker import run_strategy_loop\n",
    "import MetaTrader5 as mt5\n",
    "\n",
    "warnings.filterwarnings(\"ignore\")\n",
    "\n",
    "processes = []\n",
    "\n",
    "with open(\"../config/dev/metago.yaml\", \"r\") as f:\n",
    "    config_data = yaml.safe_load(f)\n",
    "\n",
    "name = \"BTCUSD_H1_GO\"\n",
    "entry = config_data[name]\n"
   ],
   "id": "f6c1ea5c58b1041f",
   "outputs": [],
   "execution_count": 4
  },
  {
   "metadata": {
    "ExecuteTime": {
     "end_time": "2025-08-24T08:19:09.764625Z",
     "start_time": "2025-08-24T08:19:09.759142Z"
    }
   },
   "cell_type": "code",
   "source": [
    "strategy_type = entry.pop(\"strategy_type\")\n",
    "init_args = entry.copy()\n",
    "\n",
    "# Convert timeframe string (e.g. \"TIMEFRAME_M1\") to actual mt5 constant\n",
    "if isinstance(init_args.get(\"timeframe\"), str):\n",
    "    init_args[\"timeframe\"] = eval(init_args[\"timeframe\"])\n",
    "\n",
    "# Convert null active_hours to None\n",
    "if \"active_hours\" in init_args and init_args[\"active_hours\"] == \"None\":\n",
    "    init_args[\"active_hours\"] = None"
   ],
   "id": "d8606907b35ddf1e",
   "outputs": [],
   "execution_count": 5
  },
  {
   "metadata": {
    "ExecuteTime": {
     "end_time": "2025-08-24T08:19:09.824494Z",
     "start_time": "2025-08-24T08:19:09.799532Z"
    }
   },
   "cell_type": "code",
   "source": [
    "strategy_registry = {\n",
    "    \"metago\": {\n",
    "        \"class\": MetaGO,\n",
    "        \"init_keys\": [\n",
    "            \"symbols\",\n",
    "            \"timeframe\",\n",
    "            \"tag\",\n",
    "            \"active_hours\",\n",
    "        ]\n",
    "    }\n",
    "}"
   ],
   "id": "1a4a4203ff988641",
   "outputs": [],
   "execution_count": 6
  },
  {
   "metadata": {
    "ExecuteTime": {
     "end_time": "2025-08-24T08:19:22.936173Z",
     "start_time": "2025-08-24T08:19:22.913031Z"
    }
   },
   "cell_type": "code",
   "source": "strategy_registry",
   "id": "975b15a729afd652",
   "outputs": [
    {
     "data": {
      "text/plain": [
       "{'metago': {'class': metalib.metagomano.MetaGO,\n",
       "  'init_keys': ['symbols', 'timeframe', 'tag', 'active_hours']}}"
      ]
     },
     "execution_count": 7,
     "metadata": {},
     "output_type": "execute_result"
    }
   ],
   "execution_count": 7
  },
  {
   "metadata": {
    "ExecuteTime": {
     "end_time": "2025-08-24T08:19:25.839962Z",
     "start_time": "2025-08-24T08:19:25.830110Z"
    }
   },
   "cell_type": "code",
   "source": "init_args",
   "id": "59b5b0308f6010c6",
   "outputs": [
    {
     "data": {
      "text/plain": [
       "{'symbols': ['BTCUSD'],\n",
       " 'timeframe': 1,\n",
       " 'tag': 'metago_crypto_btc',\n",
       " 'active_hours': None,\n",
       " 'risk_factor': 0.09,\n",
       " 'lookahead': 48}"
      ]
     },
     "execution_count": 8,
     "metadata": {},
     "output_type": "execute_result"
    }
   ],
   "execution_count": 8
  },
  {
   "metadata": {
    "ExecuteTime": {
     "end_time": "2025-08-24T08:19:41.640012Z",
     "start_time": "2025-08-24T08:19:36.727442Z"
    }
   },
   "cell_type": "code",
   "source": [
    "strategy_info = strategy_registry.get(strategy_type)\n",
    "if not strategy_info:\n",
    "    raise ValueError(f\"Unknown strategy type: {strategy_type}\")\n",
    "\n",
    "StrategyClass = strategy_info[\"class\"]\n",
    "expected_keys = strategy_info[\"init_keys\"]\n",
    "\n",
    "# Ensure required keys are present\n",
    "for key in expected_keys:\n",
    "    if key not in init_args:\n",
    "        raise ValueError(f\"Missing required argument: {key}\")\n",
    "\n",
    "instance = StrategyClass(**{k: init_args[k] for k in expected_keys})\n",
    "instance.connect()\n",
    "instance.fit()"
   ],
   "id": "68862bf8e73a3c5d",
   "outputs": [
    {
     "name": "stdout",
     "output_type": "stream",
     "text": [
      "No model to fit for MetaGO(mano) pelo!\n"
     ]
    }
   ],
   "execution_count": 9
  },
  {
   "metadata": {
    "ExecuteTime": {
     "end_time": "2025-08-24T08:19:46.390849Z",
     "start_time": "2025-08-24T08:19:46.222714Z"
    }
   },
   "cell_type": "code",
   "source": "instance.run(start_time, end_time)",
   "id": "84fd41202ec68109",
   "outputs": [
    {
     "data": {
      "text/plain": [
       "True"
      ]
     },
     "execution_count": 10,
     "metadata": {},
     "output_type": "execute_result"
    }
   ],
   "execution_count": 10
  },
  {
   "metadata": {
    "ExecuteTime": {
     "end_time": "2025-08-24T08:19:58.005988Z",
     "start_time": "2025-08-24T08:19:57.980847Z"
    }
   },
   "cell_type": "code",
   "source": "instance.loadData(start_time, end_time)",
   "id": "d7e5f604d986e07c",
   "outputs": [],
   "execution_count": 11
  },
  {
   "metadata": {
    "ExecuteTime": {
     "end_time": "2025-08-24T08:20:04.909746Z",
     "start_time": "2025-08-24T08:20:04.883873Z"
    }
   },
   "cell_type": "code",
   "source": "instance.sl",
   "id": "b175217aa7af89d6",
   "outputs": [
    {
     "data": {
      "text/plain": [
       "115070.57857142859"
      ]
     },
     "execution_count": 12,
     "metadata": {},
     "output_type": "execute_result"
    }
   ],
   "execution_count": 12
  },
  {
   "metadata": {},
   "cell_type": "markdown",
   "source": "",
   "id": "78364e64afaf8c34"
  },
  {
   "metadata": {
    "ExecuteTime": {
     "end_time": "2025-08-24T08:20:09.471136Z",
     "start_time": "2025-08-24T08:20:09.451656Z"
    }
   },
   "cell_type": "code",
   "source": "instance.tp",
   "id": "20f4834fc7c6adb8",
   "outputs": [
    {
     "data": {
      "text/plain": [
       "118050.22"
      ]
     },
     "execution_count": 13,
     "metadata": {},
     "output_type": "execute_result"
    }
   ],
   "execution_count": 13
  },
  {
   "metadata": {
    "ExecuteTime": {
     "end_time": "2025-08-24T08:25:08.728296Z",
     "start_time": "2025-08-24T08:25:08.710809Z"
    }
   },
   "cell_type": "code",
   "source": "type(instance.signalData)",
   "id": "f3c4e2dca4c2e079",
   "outputs": [
    {
     "data": {
      "text/plain": [
       "pandas.core.frame.DataFrame"
      ]
     },
     "execution_count": 15,
     "metadata": {},
     "output_type": "execute_result"
    }
   ],
   "execution_count": 15
  },
  {
   "metadata": {
    "ExecuteTime": {
     "end_time": "2025-08-09T15:34:21.544271Z",
     "start_time": "2025-08-09T15:34:20.747371Z"
    }
   },
   "cell_type": "code",
   "source": "instance.run(start_time, end_time)",
   "id": "13f09e50453f2f5",
   "outputs": [
    {
     "data": {
      "text/plain": [
       "True"
      ]
     },
     "execution_count": 11,
     "metadata": {},
     "output_type": "execute_result"
    }
   ],
   "execution_count": 11
  },
  {
   "metadata": {},
   "cell_type": "code",
   "outputs": [],
   "execution_count": null,
   "source": "",
   "id": "f61637b33df3ec92"
  }
 ],
 "metadata": {
  "kernelspec": {
   "display_name": "Python 3",
   "language": "python",
   "name": "python3"
  },
  "language_info": {
   "codemirror_mode": {
    "name": "ipython",
    "version": 2
   },
   "file_extension": ".py",
   "mimetype": "text/x-python",
   "name": "python",
   "nbconvert_exporter": "python",
   "pygments_lexer": "ipython2",
   "version": "2.7.6"
  }
 },
 "nbformat": 4,
 "nbformat_minor": 5
}
