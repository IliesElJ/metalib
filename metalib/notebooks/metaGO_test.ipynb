{
 "cells": [
  {
   "cell_type": "code",
   "id": "initial_id",
   "metadata": {
    "collapsed": true,
    "ExecuteTime": {
     "end_time": "2025-08-09T15:23:32.295128Z",
     "start_time": "2025-08-09T15:23:29.635022Z"
    }
   },
   "source": [
    "import pytz\n",
    "\n",
    "from metalib.metagomano import MetaGO\n",
    "from MetaTrader5 import TIMEFRAME_M1\n",
    "from datetime import datetime, timedelta\n",
    "import pytz as pytz"
   ],
   "outputs": [],
   "execution_count": 1
  },
  {
   "metadata": {
    "ExecuteTime": {
     "end_time": "2025-08-09T15:23:32.310822Z",
     "start_time": "2025-08-09T15:23:32.299129Z"
    }
   },
   "cell_type": "code",
   "source": [
    "end_time = datetime.now(pytz.utc) + timedelta(hours=3)\n",
    "start_time = end_time - timedelta(days=30)"
   ],
   "id": "17c59699340d693",
   "outputs": [],
   "execution_count": 2
  },
  {
   "metadata": {
    "ExecuteTime": {
     "end_time": "2025-08-09T15:23:32.497441Z",
     "start_time": "2025-08-09T15:23:32.482960Z"
    }
   },
   "cell_type": "code",
   "source": [
    "from MetaTrader5 import copy_rates_range\n",
    "import MetaTrader5 as mt"
   ],
   "id": "431a3e4d6efb95ed",
   "outputs": [],
   "execution_count": 3
  },
  {
   "metadata": {
    "ExecuteTime": {
     "end_time": "2025-08-09T15:23:34.002789Z",
     "start_time": "2025-08-09T15:23:32.530230Z"
    }
   },
   "cell_type": "code",
   "source": [
    "import yaml\n",
    "import warnings\n",
    "from multiprocessing import Process\n",
    "from metalib.metaworker import run_strategy_loop\n",
    "import MetaTrader5 as mt5\n",
    "\n",
    "warnings.filterwarnings(\"ignore\")\n",
    "\n",
    "processes = []\n",
    "\n",
    "with open(\"../config/dev/metago.yaml\", \"r\") as f:\n",
    "    config_data = yaml.safe_load(f)\n",
    "\n",
    "name = \"BTCUSD_H1_GO\"\n",
    "entry = config_data[name]\n"
   ],
   "id": "f6c1ea5c58b1041f",
   "outputs": [],
   "execution_count": 4
  },
  {
   "metadata": {
    "ExecuteTime": {
     "end_time": "2025-08-09T15:23:34.018754Z",
     "start_time": "2025-08-09T15:23:34.007187Z"
    }
   },
   "cell_type": "code",
   "source": [
    "strategy_type = entry.pop(\"strategy_type\")\n",
    "init_args = entry.copy()\n",
    "\n",
    "# Convert timeframe string (e.g. \"TIMEFRAME_M1\") to actual mt5 constant\n",
    "if isinstance(init_args.get(\"timeframe\"), str):\n",
    "    init_args[\"timeframe\"] = eval(init_args[\"timeframe\"])\n",
    "\n",
    "# Convert null active_hours to None\n",
    "if \"active_hours\" in init_args and init_args[\"active_hours\"] == \"None\":\n",
    "    init_args[\"active_hours\"] = None"
   ],
   "id": "d8606907b35ddf1e",
   "outputs": [],
   "execution_count": 5
  },
  {
   "metadata": {
    "ExecuteTime": {
     "end_time": "2025-08-09T15:23:34.064957Z",
     "start_time": "2025-08-09T15:23:34.050932Z"
    }
   },
   "cell_type": "code",
   "source": [
    "strategy_registry = {\n",
    "    \"metago\": {\n",
    "        \"class\": MetaGO,\n",
    "        \"init_keys\": [\n",
    "            \"symbols\",\n",
    "            \"timeframe\",\n",
    "            \"tag\",\n",
    "            \"active_hours\",\n",
    "        ]\n",
    "    }\n",
    "}"
   ],
   "id": "1a4a4203ff988641",
   "outputs": [],
   "execution_count": 6
  },
  {
   "metadata": {
    "ExecuteTime": {
     "end_time": "2025-08-09T15:23:34.080196Z",
     "start_time": "2025-08-09T15:23:34.071194Z"
    }
   },
   "cell_type": "code",
   "source": "strategy_registry",
   "id": "975b15a729afd652",
   "outputs": [
    {
     "data": {
      "text/plain": [
       "{'metago': {'class': metalib.metagomano.MetaGO,\n",
       "  'init_keys': ['symbols', 'timeframe', 'tag', 'active_hours']}}"
      ]
     },
     "execution_count": 7,
     "metadata": {},
     "output_type": "execute_result"
    }
   ],
   "execution_count": 7
  },
  {
   "metadata": {
    "ExecuteTime": {
     "end_time": "2025-08-09T15:23:34.221352Z",
     "start_time": "2025-08-09T15:23:34.210363Z"
    }
   },
   "cell_type": "code",
   "source": "init_args",
   "id": "59b5b0308f6010c6",
   "outputs": [
    {
     "data": {
      "text/plain": [
       "{'symbols': ['BTCUSD'],\n",
       " 'timeframe': 16385,\n",
       " 'tag': 'metago_crypto_btc',\n",
       " 'active_hours': None,\n",
       " 'risk_factor': 0.09,\n",
       " 'lookahead': 48}"
      ]
     },
     "execution_count": 8,
     "metadata": {},
     "output_type": "execute_result"
    }
   ],
   "execution_count": 8
  },
  {
   "metadata": {
    "ExecuteTime": {
     "end_time": "2025-08-09T15:23:34.394868Z",
     "start_time": "2025-08-09T15:23:34.362370Z"
    }
   },
   "cell_type": "code",
   "source": [
    "strategy_info = strategy_registry.get(strategy_type)\n",
    "if not strategy_info:\n",
    "    raise ValueError(f\"Unknown strategy type: {strategy_type}\")\n",
    "\n",
    "StrategyClass = strategy_info[\"class\"]\n",
    "expected_keys = strategy_info[\"init_keys\"]\n",
    "\n",
    "# Ensure required keys are present\n",
    "for key in expected_keys:\n",
    "    if key not in init_args:\n",
    "        raise ValueError(f\"Missing required argument: {key}\")\n",
    "\n",
    "instance = StrategyClass(**{k: init_args[k] for k in expected_keys})\n",
    "instance.connect()\n",
    "instance.fit()"
   ],
   "id": "68862bf8e73a3c5d",
   "outputs": [
    {
     "name": "stdout",
     "output_type": "stream",
     "text": [
      "No model to fit for MetaGO(mano) pelo!\n"
     ]
    }
   ],
   "execution_count": 9
  },
  {
   "metadata": {
    "ExecuteTime": {
     "end_time": "2025-08-09T15:23:35.050767Z",
     "start_time": "2025-08-09T15:23:34.912345Z"
    }
   },
   "cell_type": "code",
   "source": "instance.run(start_time, end_time)",
   "id": "84fd41202ec68109",
   "outputs": [
    {
     "data": {
      "text/plain": [
       "True"
      ]
     },
     "execution_count": 10,
     "metadata": {},
     "output_type": "execute_result"
    }
   ],
   "execution_count": 10
  },
  {
   "metadata": {
    "ExecuteTime": {
     "end_time": "2025-08-09T15:13:45.609184Z",
     "start_time": "2025-08-09T15:13:45.599147Z"
    }
   },
   "cell_type": "code",
   "source": "instance.loadData(start_time, end_time)",
   "id": "d7e5f604d986e07c",
   "outputs": [],
   "execution_count": 103
  },
  {
   "metadata": {
    "ExecuteTime": {
     "end_time": "2025-08-09T15:17:12.848347Z",
     "start_time": "2025-08-09T15:17:12.828347Z"
    }
   },
   "cell_type": "code",
   "source": "instance.sl",
   "id": "b175217aa7af89d6",
   "outputs": [
    {
     "data": {
      "text/plain": [
       "118921.83142857144"
      ]
     },
     "execution_count": 108,
     "metadata": {},
     "output_type": "execute_result"
    }
   ],
   "execution_count": 108
  },
  {
   "metadata": {},
   "cell_type": "markdown",
   "source": "",
   "id": "78364e64afaf8c34"
  },
  {
   "metadata": {
    "ExecuteTime": {
     "end_time": "2025-08-09T15:17:03.801057Z",
     "start_time": "2025-08-09T15:17:03.782417Z"
    }
   },
   "cell_type": "code",
   "source": "instance.tp",
   "id": "20f4834fc7c6adb8",
   "outputs": [
    {
     "data": {
      "text/plain": [
       "117898.5"
      ]
     },
     "execution_count": 107,
     "metadata": {},
     "output_type": "execute_result"
    }
   ],
   "execution_count": 107
  },
  {
   "metadata": {
    "ExecuteTime": {
     "end_time": "2025-08-09T15:13:50.549793Z",
     "start_time": "2025-08-09T15:13:50.485233Z"
    }
   },
   "cell_type": "code",
   "source": "instance.retrieve_indicators(instance.data[init_args[\"symbols\"][0]])",
   "id": "c8bf527124575226",
   "outputs": [
    {
     "data": {
      "text/plain": [
       "                     uptrend  downtrend  sideways  true_open_weekly  \\\n",
       "time                                                                  \n",
       "2025-07-10 20:00:00    False      False      True               NaN   \n",
       "2025-07-10 21:00:00    False      False      True               NaN   \n",
       "2025-07-10 22:00:00    False      False      True               NaN   \n",
       "2025-07-10 23:00:00    False      False      True               NaN   \n",
       "2025-07-11 00:00:00    False      False      True               NaN   \n",
       "...                      ...        ...       ...               ...   \n",
       "2025-08-09 14:00:00     True      False     False         114723.55   \n",
       "2025-08-09 15:00:00     True      False     False         114723.55   \n",
       "2025-08-09 16:00:00     True      False     False         114723.55   \n",
       "2025-08-09 17:00:00     True      False     False         114723.55   \n",
       "2025-08-09 18:00:00    False      False      True         114723.55   \n",
       "\n",
       "                     true_open_monthly  crossed_diff_monthly_weekly  \\\n",
       "time                                                                  \n",
       "2025-07-10 20:00:00                NaN                          NaN   \n",
       "2025-07-10 21:00:00                NaN                          NaN   \n",
       "2025-07-10 22:00:00                NaN                          NaN   \n",
       "2025-07-10 23:00:00                NaN                          NaN   \n",
       "2025-07-11 00:00:00                NaN                          NaN   \n",
       "...                                ...                          ...   \n",
       "2025-08-09 14:00:00           117898.5                      3174.95   \n",
       "2025-08-09 15:00:00           117898.5                      3174.95   \n",
       "2025-08-09 16:00:00           117898.5                      3174.95   \n",
       "2025-08-09 17:00:00           117898.5                      3174.95   \n",
       "2025-08-09 18:00:00           117898.5                      3174.95   \n",
       "\n",
       "                     above_true_open_monthly_diff  \\\n",
       "time                                                \n",
       "2025-07-10 20:00:00                           NaN   \n",
       "2025-07-10 21:00:00                           NaN   \n",
       "2025-07-10 22:00:00                           NaN   \n",
       "2025-07-10 23:00:00                           NaN   \n",
       "2025-07-11 00:00:00                           NaN   \n",
       "...                                           ...   \n",
       "2025-08-09 14:00:00                       -833.43   \n",
       "2025-08-09 15:00:00                       -842.04   \n",
       "2025-08-09 16:00:00                       -984.22   \n",
       "2025-08-09 17:00:00                       -984.15   \n",
       "2025-08-09 18:00:00                       -977.50   \n",
       "\n",
       "                     above_true_open_weekly_diff      short_sma  \\\n",
       "time                                                              \n",
       "2025-07-10 20:00:00                          NaN            NaN   \n",
       "2025-07-10 21:00:00                          NaN            NaN   \n",
       "2025-07-10 22:00:00                          NaN            NaN   \n",
       "2025-07-10 23:00:00                          NaN            NaN   \n",
       "2025-07-11 00:00:00                          NaN            NaN   \n",
       "...                                          ...            ...   \n",
       "2025-08-09 14:00:00                      2341.52  116757.834167   \n",
       "2025-08-09 15:00:00                      2332.91  116800.686667   \n",
       "2025-08-09 16:00:00                      2190.73  116833.839167   \n",
       "2025-08-09 17:00:00                      2190.80  116880.471667   \n",
       "2025-08-09 18:00:00                      2197.45  116929.634167   \n",
       "\n",
       "                          long_sma      close         atr  \n",
       "time                                                       \n",
       "2025-07-10 20:00:00            NaN  113666.27         NaN  \n",
       "2025-07-10 21:00:00            NaN  113365.47         NaN  \n",
       "2025-07-10 22:00:00            NaN  113237.97         NaN  \n",
       "2025-07-10 23:00:00            NaN  113456.61         NaN  \n",
       "2025-07-11 00:00:00            NaN  116445.75         NaN  \n",
       "...                            ...        ...         ...  \n",
       "2025-08-09 14:00:00  116657.820417  117065.07  321.000714  \n",
       "2025-08-09 15:00:00  116683.097500  117056.46  321.593571  \n",
       "2025-08-09 16:00:00  116685.261250  116914.28  322.465000  \n",
       "2025-08-09 17:00:00  116704.952500  116914.35  327.412143  \n",
       "2025-08-09 18:00:00  116736.552500  116921.00  326.917143  \n",
       "\n",
       "[642 rows x 12 columns]"
      ],
      "text/html": [
       "<div>\n",
       "<style scoped>\n",
       "    .dataframe tbody tr th:only-of-type {\n",
       "        vertical-align: middle;\n",
       "    }\n",
       "\n",
       "    .dataframe tbody tr th {\n",
       "        vertical-align: top;\n",
       "    }\n",
       "\n",
       "    .dataframe thead th {\n",
       "        text-align: right;\n",
       "    }\n",
       "</style>\n",
       "<table border=\"1\" class=\"dataframe\">\n",
       "  <thead>\n",
       "    <tr style=\"text-align: right;\">\n",
       "      <th></th>\n",
       "      <th>uptrend</th>\n",
       "      <th>downtrend</th>\n",
       "      <th>sideways</th>\n",
       "      <th>true_open_weekly</th>\n",
       "      <th>true_open_monthly</th>\n",
       "      <th>crossed_diff_monthly_weekly</th>\n",
       "      <th>above_true_open_monthly_diff</th>\n",
       "      <th>above_true_open_weekly_diff</th>\n",
       "      <th>short_sma</th>\n",
       "      <th>long_sma</th>\n",
       "      <th>close</th>\n",
       "      <th>atr</th>\n",
       "    </tr>\n",
       "    <tr>\n",
       "      <th>time</th>\n",
       "      <th></th>\n",
       "      <th></th>\n",
       "      <th></th>\n",
       "      <th></th>\n",
       "      <th></th>\n",
       "      <th></th>\n",
       "      <th></th>\n",
       "      <th></th>\n",
       "      <th></th>\n",
       "      <th></th>\n",
       "      <th></th>\n",
       "      <th></th>\n",
       "    </tr>\n",
       "  </thead>\n",
       "  <tbody>\n",
       "    <tr>\n",
       "      <th>2025-07-10 20:00:00</th>\n",
       "      <td>False</td>\n",
       "      <td>False</td>\n",
       "      <td>True</td>\n",
       "      <td>NaN</td>\n",
       "      <td>NaN</td>\n",
       "      <td>NaN</td>\n",
       "      <td>NaN</td>\n",
       "      <td>NaN</td>\n",
       "      <td>NaN</td>\n",
       "      <td>NaN</td>\n",
       "      <td>113666.27</td>\n",
       "      <td>NaN</td>\n",
       "    </tr>\n",
       "    <tr>\n",
       "      <th>2025-07-10 21:00:00</th>\n",
       "      <td>False</td>\n",
       "      <td>False</td>\n",
       "      <td>True</td>\n",
       "      <td>NaN</td>\n",
       "      <td>NaN</td>\n",
       "      <td>NaN</td>\n",
       "      <td>NaN</td>\n",
       "      <td>NaN</td>\n",
       "      <td>NaN</td>\n",
       "      <td>NaN</td>\n",
       "      <td>113365.47</td>\n",
       "      <td>NaN</td>\n",
       "    </tr>\n",
       "    <tr>\n",
       "      <th>2025-07-10 22:00:00</th>\n",
       "      <td>False</td>\n",
       "      <td>False</td>\n",
       "      <td>True</td>\n",
       "      <td>NaN</td>\n",
       "      <td>NaN</td>\n",
       "      <td>NaN</td>\n",
       "      <td>NaN</td>\n",
       "      <td>NaN</td>\n",
       "      <td>NaN</td>\n",
       "      <td>NaN</td>\n",
       "      <td>113237.97</td>\n",
       "      <td>NaN</td>\n",
       "    </tr>\n",
       "    <tr>\n",
       "      <th>2025-07-10 23:00:00</th>\n",
       "      <td>False</td>\n",
       "      <td>False</td>\n",
       "      <td>True</td>\n",
       "      <td>NaN</td>\n",
       "      <td>NaN</td>\n",
       "      <td>NaN</td>\n",
       "      <td>NaN</td>\n",
       "      <td>NaN</td>\n",
       "      <td>NaN</td>\n",
       "      <td>NaN</td>\n",
       "      <td>113456.61</td>\n",
       "      <td>NaN</td>\n",
       "    </tr>\n",
       "    <tr>\n",
       "      <th>2025-07-11 00:00:00</th>\n",
       "      <td>False</td>\n",
       "      <td>False</td>\n",
       "      <td>True</td>\n",
       "      <td>NaN</td>\n",
       "      <td>NaN</td>\n",
       "      <td>NaN</td>\n",
       "      <td>NaN</td>\n",
       "      <td>NaN</td>\n",
       "      <td>NaN</td>\n",
       "      <td>NaN</td>\n",
       "      <td>116445.75</td>\n",
       "      <td>NaN</td>\n",
       "    </tr>\n",
       "    <tr>\n",
       "      <th>...</th>\n",
       "      <td>...</td>\n",
       "      <td>...</td>\n",
       "      <td>...</td>\n",
       "      <td>...</td>\n",
       "      <td>...</td>\n",
       "      <td>...</td>\n",
       "      <td>...</td>\n",
       "      <td>...</td>\n",
       "      <td>...</td>\n",
       "      <td>...</td>\n",
       "      <td>...</td>\n",
       "      <td>...</td>\n",
       "    </tr>\n",
       "    <tr>\n",
       "      <th>2025-08-09 14:00:00</th>\n",
       "      <td>True</td>\n",
       "      <td>False</td>\n",
       "      <td>False</td>\n",
       "      <td>114723.55</td>\n",
       "      <td>117898.5</td>\n",
       "      <td>3174.95</td>\n",
       "      <td>-833.43</td>\n",
       "      <td>2341.52</td>\n",
       "      <td>116757.834167</td>\n",
       "      <td>116657.820417</td>\n",
       "      <td>117065.07</td>\n",
       "      <td>321.000714</td>\n",
       "    </tr>\n",
       "    <tr>\n",
       "      <th>2025-08-09 15:00:00</th>\n",
       "      <td>True</td>\n",
       "      <td>False</td>\n",
       "      <td>False</td>\n",
       "      <td>114723.55</td>\n",
       "      <td>117898.5</td>\n",
       "      <td>3174.95</td>\n",
       "      <td>-842.04</td>\n",
       "      <td>2332.91</td>\n",
       "      <td>116800.686667</td>\n",
       "      <td>116683.097500</td>\n",
       "      <td>117056.46</td>\n",
       "      <td>321.593571</td>\n",
       "    </tr>\n",
       "    <tr>\n",
       "      <th>2025-08-09 16:00:00</th>\n",
       "      <td>True</td>\n",
       "      <td>False</td>\n",
       "      <td>False</td>\n",
       "      <td>114723.55</td>\n",
       "      <td>117898.5</td>\n",
       "      <td>3174.95</td>\n",
       "      <td>-984.22</td>\n",
       "      <td>2190.73</td>\n",
       "      <td>116833.839167</td>\n",
       "      <td>116685.261250</td>\n",
       "      <td>116914.28</td>\n",
       "      <td>322.465000</td>\n",
       "    </tr>\n",
       "    <tr>\n",
       "      <th>2025-08-09 17:00:00</th>\n",
       "      <td>True</td>\n",
       "      <td>False</td>\n",
       "      <td>False</td>\n",
       "      <td>114723.55</td>\n",
       "      <td>117898.5</td>\n",
       "      <td>3174.95</td>\n",
       "      <td>-984.15</td>\n",
       "      <td>2190.80</td>\n",
       "      <td>116880.471667</td>\n",
       "      <td>116704.952500</td>\n",
       "      <td>116914.35</td>\n",
       "      <td>327.412143</td>\n",
       "    </tr>\n",
       "    <tr>\n",
       "      <th>2025-08-09 18:00:00</th>\n",
       "      <td>False</td>\n",
       "      <td>False</td>\n",
       "      <td>True</td>\n",
       "      <td>114723.55</td>\n",
       "      <td>117898.5</td>\n",
       "      <td>3174.95</td>\n",
       "      <td>-977.50</td>\n",
       "      <td>2197.45</td>\n",
       "      <td>116929.634167</td>\n",
       "      <td>116736.552500</td>\n",
       "      <td>116921.00</td>\n",
       "      <td>326.917143</td>\n",
       "    </tr>\n",
       "  </tbody>\n",
       "</table>\n",
       "<p>642 rows × 12 columns</p>\n",
       "</div>"
      ]
     },
     "execution_count": 105,
     "metadata": {},
     "output_type": "execute_result"
    }
   ],
   "execution_count": 105
  },
  {
   "metadata": {
    "ExecuteTime": {
     "end_time": "2025-08-09T15:34:21.544271Z",
     "start_time": "2025-08-09T15:34:20.747371Z"
    }
   },
   "cell_type": "code",
   "source": "instance.run(start_time, end_time)",
   "id": "13f09e50453f2f5",
   "outputs": [
    {
     "data": {
      "text/plain": [
       "True"
      ]
     },
     "execution_count": 11,
     "metadata": {},
     "output_type": "execute_result"
    }
   ],
   "execution_count": 11
  },
  {
   "metadata": {},
   "cell_type": "code",
   "outputs": [],
   "execution_count": null,
   "source": "",
   "id": "f61637b33df3ec92"
  }
 ],
 "metadata": {
  "kernelspec": {
   "display_name": "Python 3",
   "language": "python",
   "name": "python3"
  },
  "language_info": {
   "codemirror_mode": {
    "name": "ipython",
    "version": 2
   },
   "file_extension": ".py",
   "mimetype": "text/x-python",
   "name": "python",
   "nbconvert_exporter": "python",
   "pygments_lexer": "ipython2",
   "version": "2.7.6"
  }
 },
 "nbformat": 4,
 "nbformat_minor": 5
}
