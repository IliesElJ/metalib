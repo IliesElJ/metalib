{
 "cells": [
  {
   "cell_type": "code",
   "id": "initial_id",
   "metadata": {
    "collapsed": true,
    "ExecuteTime": {
     "end_time": "2025-10-19T21:32:44.441704Z",
     "start_time": "2025-10-19T21:32:43.595648Z"
    }
   },
   "source": [
    "import numpy as np\n",
    "import MetaTrader5 as mt5\n",
    "import pandas as pd\n",
    "import inspect\n",
    "\n",
    "from numba import NoneType"
   ],
   "outputs": [],
   "execution_count": 1
  },
  {
   "metadata": {
    "ExecuteTime": {
     "end_time": "2025-10-20T07:56:52.392534Z",
     "start_time": "2025-10-20T07:56:52.352356Z"
    }
   },
   "cell_type": "code",
   "source": "mt5.initialize()",
   "id": "73afeeebb64dc0ab",
   "outputs": [
    {
     "data": {
      "text/plain": [
       "True"
      ]
     },
     "execution_count": 23,
     "metadata": {},
     "output_type": "execute_result"
    }
   ],
   "execution_count": 23
  },
  {
   "metadata": {
    "ExecuteTime": {
     "end_time": "2025-10-20T07:56:53.602689Z",
     "start_time": "2025-10-20T07:56:53.580745Z"
    }
   },
   "cell_type": "code",
   "source": "ac_dict = mt5.account_info()._asdict()",
   "id": "bd32fb455eeafe88",
   "outputs": [],
   "execution_count": 24
  },
  {
   "metadata": {
    "ExecuteTime": {
     "end_time": "2025-10-20T07:56:53.919982Z",
     "start_time": "2025-10-20T07:56:53.900555Z"
    }
   },
   "cell_type": "code",
   "source": [
    "account_size = ac_dict[\"balance\"]\n",
    "equity = ac_dict[\"equity\"]\n",
    "leverage = ac_dict[\"leverage\"]"
   ],
   "id": "a58a77135b05be12",
   "outputs": [],
   "execution_count": 25
  },
  {
   "metadata": {
    "ExecuteTime": {
     "end_time": "2025-10-20T08:03:19.886573Z",
     "start_time": "2025-10-20T08:03:19.875431Z"
    }
   },
   "cell_type": "code",
   "source": "symbol_info = mt5.symbol_info(\"US100.cash\")",
   "id": "227882dc4e70b91c",
   "outputs": [],
   "execution_count": 29
  },
  {
   "metadata": {
    "ExecuteTime": {
     "end_time": "2025-10-20T08:12:33.324768Z",
     "start_time": "2025-10-20T08:12:33.313632Z"
    }
   },
   "cell_type": "code",
   "source": [
    "s_info = symbol_info._asdict()\n",
    "\n",
    "tick_value = s_info[\"trade_tick_value\"]\n",
    "tick_size = s_info[\"trade_tick_size\"]"
   ],
   "id": "c77e2d51854716ac",
   "outputs": [],
   "execution_count": 33
  },
  {
   "metadata": {
    "ExecuteTime": {
     "end_time": "2025-10-20T08:17:36.425771Z",
     "start_time": "2025-10-20T08:17:36.414728Z"
    }
   },
   "cell_type": "code",
   "source": [
    "def trade_pnl(close_price: float,\n",
    "              open_price: float,\n",
    "              trade_volume: float,\n",
    "              tick_value: float,\n",
    "              tick_size: float,\n",
    "              direction: str = \"buy\") -> float:\n",
    "    \"\"\"\n",
    "    Calculate the profit or loss of a trade based on its parameters.\n",
    "\n",
    "    Args:\n",
    "        close_price (float): The closing price of the trade.\n",
    "        open_price (float): The opening price of the trade.\n",
    "        trade_volume (float): The volume of the trade.\n",
    "        tick_value (float): The value of a single tick.\n",
    "        tick_size (float): The size of a single tick.\n",
    "        direction (str, optional): The trade direction. Either 'buy' or 'sell'.\n",
    "                                   Defaults to 'buy'.\n",
    "\n",
    "    Returns:\n",
    "        float: The profit or loss of the trade.\n",
    "\n",
    "    Raises:\n",
    "        ValueError: If the direction is not 'buy' or 'sell'.\n",
    "    \"\"\"\n",
    "    if direction == \"buy\":\n",
    "        return (close_price - open_price) * trade_volume * tick_value / tick_size\n",
    "    elif direction == \"sell\":\n",
    "        return (open_price - close_price) * trade_volume * tick_value / tick_size\n",
    "    else:\n",
    "        raise ValueError(\"Direction must be 'buy' or 'sell'\")\n",
    "\n",
    "\n",
    "def get_volume_for_price_change(price_change: float,\n",
    "                                tick_value: float,\n",
    "                                tick_size: float,\n",
    "                                profit_loss: float) -> float:\n",
    "    \"\"\"\n",
    "    Calculate the trade volume required to achieve a specific profit or loss for a given price change.\n",
    "\n",
    "    Args:\n",
    "        price_change (float): The change in price.\n",
    "        tick_value (float): The value of a single tick.\n",
    "        tick_size (float): The size of a single tick.\n",
    "        profit_loss (float): The desired profit or loss.\n",
    "\n",
    "    Returns:\n",
    "        float: The trade volume required to achieve the specified profit or loss.\n",
    "\n",
    "    Raises:\n",
    "        AssertionError: If the price change is not positive.\n",
    "    \"\"\"\n",
    "    assert price_change > 0, \"Price change must be positive.\"\n",
    "    return profit_loss * tick_size / price_change / tick_value\n",
    "\n",
    "\n",
    "def get_volume_for_sl(entry_price: float,\n",
    "                      sl_level: float,\n",
    "                      direction: str,\n",
    "                      tick_value: float,\n",
    "                      profit_loss: float) -> float:\n",
    "    \"\"\"\n",
    "    Calculate the trade volume required to achieve a specific profit or loss\n",
    "    based on a stop loss level.\n",
    "\n",
    "    Args:\n",
    "        entry_price (float): The entry price of the trade.\n",
    "        sl_level (float): The stop loss level.\n",
    "        direction (str): The trade direction. Either 'buy' or 'sell'.\n",
    "        tick_value (float): The value of a single tick.\n",
    "        profit_loss (float): The desired profit or loss.\n",
    "\n",
    "    Returns:\n",
    "        float: The trade volume required to achieve the specified profit or loss.\n",
    "\n",
    "    Raises:\n",
    "        AssertionError:\n",
    "            - If the direction is not 'buy' or 'sell'.\n",
    "            - If the stop loss level is not valid relative to the entry price.\n",
    "    \"\"\"\n",
    "    assert direction in [\"buy\", \"sell\"], \"Direction must be either 'buy' or 'sell'.\"\n",
    "    if direction == \"buy\":\n",
    "        assert sl_level < entry_price, \"Stop loss must be below the entry price for a buy trade.\"\n",
    "    else:\n",
    "        assert sl_level > entry_price, \"Stop loss must be above the entry price for a sell trade.\"\n",
    "\n",
    "    price_change = abs(entry_price - sl_level)\n",
    "    return get_volume_for_price_change(price_change, tick_value, tick_size, profit_loss)"
   ],
   "id": "4e8000f6ab441331",
   "outputs": [],
   "execution_count": 35
  },
  {
   "metadata": {
    "ExecuteTime": {
     "end_time": "2025-10-20T08:37:49.943420Z",
     "start_time": "2025-10-20T08:37:49.937851Z"
    }
   },
   "cell_type": "code",
   "source": "import os",
   "id": "96beebc6dc9d0626",
   "outputs": [],
   "execution_count": 36
  },
  {
   "metadata": {
    "ExecuteTime": {
     "end_time": "2025-10-20T08:38:46.495340Z",
     "start_time": "2025-10-20T08:38:46.486315Z"
    }
   },
   "cell_type": "code",
   "source": [
    "# List all yamls files\n",
    "configs = os.listdir(\"../config/prod\")\n",
    "\n",
    "# Grab all assets along with the strategy name (name of the yaml file without extension)\n",
    "strategies = [(os.path.splitext(cfg)[0], cfg) for cfg in configs]\n"
   ],
   "id": "fc5f23af55e9e0cb",
   "outputs": [],
   "execution_count": 38
  },
  {
   "metadata": {
    "ExecuteTime": {
     "end_time": "2025-10-20T14:12:43.925956Z",
     "start_time": "2025-10-20T14:12:43.893172Z"
    }
   },
   "cell_type": "code",
   "source": [
    "import os\n",
    "import yaml  # Ensure PyYAML is already installed\n",
    "\n",
    "def list_assets_from_yamls(config_dir: str) -> dict:\n",
    "    \"\"\"\n",
    "    Reads all YAML files in the specified directory and extracts the assets along with their strategy names.\n",
    "\n",
    "    Args:\n",
    "        config_dir (str): The path to the directory containing the YAML files.\n",
    "\n",
    "    Returns:\n",
    "        dict: A dictionary where the keys are strategy names (file names without extensions),\n",
    "              and values are the asset data from each YAML file.\n",
    "\n",
    "    Raises:\n",
    "        FileNotFoundError: If the specified directory does not exist.\n",
    "        ValueError: If a YAML file cannot be parsed.\n",
    "    \"\"\"\n",
    "    if not os.path.exists(config_dir):\n",
    "        raise FileNotFoundError(f\"Directory '{config_dir}' does not exist.\")\n",
    "\n",
    "    instances = []\n",
    "    yaml_files = [f for f in os.listdir(config_dir) if f.endswith(\".yaml\")]\n",
    "\n",
    "    for yaml_file in yaml_files:\n",
    "        strategy_name = os.path.splitext(yaml_file)[0]  # Get the file name without extension\n",
    "        yaml_path = os.path.join(config_dir, yaml_file)\n",
    "\n",
    "        with open(yaml_path, 'r') as file:\n",
    "            try:\n",
    "                data = yaml.safe_load(file)  # Safely load the YAML data\n",
    "                instances += [(i[\"strategy_type\"], i[\"symbols\"][0]) for i in data.values()]\n",
    "\n",
    "            except yaml.YAMLError as e:\n",
    "                raise ValueError(f\"Error reading YAML file '{yaml_file}': {e}\")\n",
    "\n",
    "    return instances"
   ],
   "id": "e162b3e7e1ca9be1",
   "outputs": [],
   "execution_count": 210
  },
  {
   "metadata": {
    "ExecuteTime": {
     "end_time": "2025-10-20T08:46:47.920419Z",
     "start_time": "2025-10-20T08:46:47.843975Z"
    }
   },
   "cell_type": "code",
   "source": [
    "config_path     = \"../config/prod\"  # Path to the directory containing YAML files\n",
    "instances       = list_assets_from_yamls(config_path)\n",
    "instances       = pd.DataFrame(instances, columns=[\"strategy_type\", \"symbol\"])\n",
    "symbols_running = instances[\"symbol\"].unique()"
   ],
   "id": "e9271b94bd21b828",
   "outputs": [],
   "execution_count": 61
  },
  {
   "metadata": {
    "ExecuteTime": {
     "end_time": "2025-10-20T09:00:29.808262Z",
     "start_time": "2025-10-20T09:00:29.796553Z"
    }
   },
   "cell_type": "code",
   "source": [
    "import datetime\n",
    "import matplotlib.pyplot as plt"
   ],
   "id": "20964aa474f74099",
   "outputs": [],
   "execution_count": 109
  },
  {
   "metadata": {
    "ExecuteTime": {
     "end_time": "2025-10-20T15:32:57.363304Z",
     "start_time": "2025-10-20T15:32:57.198897Z"
    }
   },
   "cell_type": "code",
   "source": [
    "def recover_price_diff(symbol):\n",
    "    today = datetime.datetime.utcnow()\n",
    "    last_month = today - datetime.timedelta(days=92)\n",
    "    rates = mt5.copy_rates_range(symbol, mt5.TIMEFRAME_M15, last_month, today)\n",
    "    rates = pd.DataFrame(rates)\n",
    "    rates.index = pd.to_datetime(rates.time, unit=\"s\")\n",
    "\n",
    "    symbol_info = mt5.symbol_info(symbol)\n",
    "    tick_value = symbol_info.trade_tick_value\n",
    "    tick_size = symbol_info.trade_tick_size\n",
    "    price_diffs = rates.close.diff() * tick_value / tick_size\n",
    "\n",
    "    return price_diffs\n",
    "\n",
    "def compute_symbols_daily_cov(symbols_running):\n",
    "    price_diff_df = pd.DataFrame()\n",
    "    for symbol in symbols_running:\n",
    "        price_diff_df[symbol] = recover_price_diff(symbol)\n",
    "    # Number of 15-minute bars in one day\n",
    "    return price_diff_df.cov() * 4 * 24"
   ],
   "id": "5d134220ae4a04c8",
   "outputs": [],
   "execution_count": 221
  },
  {
   "metadata": {
    "ExecuteTime": {
     "end_time": "2025-10-20T14:08:44.271292Z",
     "start_time": "2025-10-20T14:08:44.255767Z"
    }
   },
   "cell_type": "code",
   "source": [
    "def fetch_daily_volatility(symbol):\n",
    "    today = datetime.datetime.utcnow()\n",
    "    last_month = today - datetime.timedelta(days=92)\n",
    "    rates = mt5.copy_rates_range(symbol, mt5.TIMEFRAME_M15, last_month, today)\n",
    "    rates = pd.DataFrame(rates)\n",
    "    rates.index = pd.to_datetime(rates.time, unit=\"s\")\n",
    "\n",
    "    symbol_info = mt5.symbol_info(symbol)\n",
    "    tick_value = symbol_info.trade_tick_value\n",
    "    tick_size = symbol_info.trade_tick_size\n",
    "    price_diffs = rates.close.diff() * tick_value / tick_size\n",
    "\n",
    "    try:\n",
    "        daily_vols = price_diffs.resample(\"D\").apply(lambda x: np.sum(np.square(x))).dropna()\n",
    "        return daily_vols.ewm(span=5).mean().iloc[-10:]\n",
    "    except:\n",
    "        return np.nan"
   ],
   "id": "667dcb1a861de27f",
   "outputs": [],
   "execution_count": 195
  },
  {
   "metadata": {
    "ExecuteTime": {
     "end_time": "2025-10-20T14:09:03.654322Z",
     "start_time": "2025-10-20T14:09:02.521421Z"
    }
   },
   "cell_type": "code",
   "source": [
    "daily_vols_series = list(map(fetch_daily_volatility, symbols_running))\n",
    "daily_vols_series = pd.DataFrame(daily_vols_series, index=symbols_running)"
   ],
   "id": "b8258b05b2b6c468",
   "outputs": [],
   "execution_count": 198
  },
  {
   "metadata": {
    "ExecuteTime": {
     "end_time": "2025-10-20T16:22:16.126315Z",
     "start_time": "2025-10-20T16:22:15.986348Z"
    }
   },
   "cell_type": "code",
   "source": [
    "strategy_weights = dict()\n",
    "\n",
    "strategy_weights[\"metafvg\"] = 20/np.sqrt(48)\n",
    "strategy_weights[\"metago\"] = np.sqrt(1.5)\n",
    "strategy_weights[\"metane\"] = 10/np.sqrt(12)\n",
    "strategy_weights[\"metaga\"] = 15/np.sqrt(48)\n",
    "\n",
    "running_strategies = list(strategy_weights.keys())\n",
    "symbols_running_cov = compute_symbols_daily_cov(symbols_running)"
   ],
   "id": "d97a911c55fb4f1b",
   "outputs": [],
   "execution_count": 338
  },
  {
   "metadata": {
    "ExecuteTime": {
     "end_time": "2025-10-20T16:22:17.024564Z",
     "start_time": "2025-10-20T16:22:17.009918Z"
    }
   },
   "cell_type": "code",
   "source": "running_instances = instances[instances[\"strategy_type\"].isin(running_strategies)]",
   "id": "2337fec741e194df",
   "outputs": [],
   "execution_count": 339
  },
  {
   "metadata": {
    "ExecuteTime": {
     "end_time": "2025-10-20T16:22:18.081736Z",
     "start_time": "2025-10-20T16:22:17.442103Z"
    }
   },
   "cell_type": "code",
   "source": [
    "historic_deals = pd.read_csv(\"merged_deals.csv\")\n",
    "\n",
    "historic_deals[\"date\"] = historic_deals[\"time_close\"].apply(lambda x: pd.to_datetime(x).date())\n",
    "historic_deals[\"type\"] = historic_deals[\"comment_open\"].apply(lambda x: x.split(\"_\")[0])\n",
    "num_trades = historic_deals[[\"date\", \"comment_open\"]].groupby([\"date\", \"comment_open\"]).apply(len)\n",
    "num_trades.reset_index().pivot(index=\"date\", columns=\"comment_open\", values=0).mean()"
   ],
   "id": "161c94917fd92aba",
   "outputs": [
    {
     "name": "stderr",
     "output_type": "stream",
     "text": [
      "C:\\Users\\Trismegist\\AppData\\Local\\Temp\\ipykernel_14980\\2132112352.py:5: DeprecationWarning: DataFrameGroupBy.apply operated on the grouping columns. This behavior is deprecated, and in a future version of pandas the grouping columns will be excluded from the operation. Either pass `include_groups=False` to exclude the groupings or explicitly select the grouping columns after groupby to silence this warning.\n",
      "  num_trades = historic_deals[[\"date\", \"comment_open\"]].groupby([\"date\", \"comment_open\"]).apply(len)\n"
     ]
    },
    {
     "data": {
      "text/plain": [
       "comment_open\n",
       "metafvg_audjpy     9.200000\n",
       "metafvg_btc        5.000000\n",
       "metafvg_dax       19.857143\n",
       "metafvg_eurusd    19.250000\n",
       "metafvg_nas       15.842105\n",
       "metaga_f1         18.741935\n",
       "metaga_f2         16.250000\n",
       "metaga_i1         22.030303\n",
       "metaga_i2         19.354839\n",
       "metago_f1          1.545455\n",
       "metago_f10         1.333333\n",
       "metago_f2          1.285714\n",
       "metago_f4          1.555556\n",
       "metago_f5          1.444444\n",
       "metago_f6          1.000000\n",
       "metago_f7          1.166667\n",
       "metago_f8          1.250000\n",
       "metago_f9          1.000000\n",
       "metago_i2          1.400000\n",
       "metane_audjpy      7.500000\n",
       "metane_dax         9.000000\n",
       "metane_eurusd      1.000000\n",
       "metane_nas         1.000000\n",
       "dtype: float64"
      ]
     },
     "execution_count": 340,
     "metadata": {},
     "output_type": "execute_result"
    }
   ],
   "execution_count": 340
  },
  {
   "metadata": {
    "ExecuteTime": {
     "end_time": "2025-10-20T16:22:19.645705Z",
     "start_time": "2025-10-20T16:22:19.615640Z"
    }
   },
   "cell_type": "code",
   "source": "num_trades",
   "id": "f05a01273558c95f",
   "outputs": [
    {
     "data": {
      "text/plain": [
       "date        comment_open\n",
       "2025-08-05  metafvg_nas      3\n",
       "2025-08-06  metafvg_nas     18\n",
       "2025-08-07  metafvg_nas      7\n",
       "2025-08-08  metafvg_nas      2\n",
       "2025-08-09  metafvg_btc      1\n",
       "                            ..\n",
       "2025-09-26  metago_f4        2\n",
       "            metago_f5        2\n",
       "            metago_f7        1\n",
       "            metago_f8        2\n",
       "            metago_f9        1\n",
       "Length: 260, dtype: int64"
      ]
     },
     "execution_count": 341,
     "metadata": {},
     "output_type": "execute_result"
    }
   ],
   "execution_count": 341
  },
  {
   "metadata": {},
   "cell_type": "markdown",
   "source": "",
   "id": "25b1452de648dfde"
  },
  {
   "metadata": {
    "ExecuteTime": {
     "end_time": "2025-10-20T16:22:22.482673Z",
     "start_time": "2025-10-20T16:22:22.399075Z"
    }
   },
   "cell_type": "code",
   "source": [
    "# def fetch_strategies_cov(running_instances, symbols_cov, strategy_weights):\n",
    "strategies_running_cov = pd.DataFrame()\n",
    "\n",
    "for f_instance in running_instances.itertuples():\n",
    "    for s_instance in running_instances.itertuples():\n",
    "        if f_instance[1] != s_instance[1]:\n",
    "            val = 0\n",
    "        else:\n",
    "            f_symbol = f_instance[2]\n",
    "            s_symbol = s_instance[2]\n",
    "\n",
    "            val = symbols_running_cov.loc[f_symbol, s_symbol] * strategy_weights[f_instance[1]]**2\n",
    "\n",
    "        strategies_running_cov.loc[f_instance, s_instance] = val"
   ],
   "id": "c38320c683c41edc",
   "outputs": [],
   "execution_count": 342
  },
  {
   "metadata": {
    "ExecuteTime": {
     "end_time": "2025-10-20T16:22:23.685869Z",
     "start_time": "2025-10-20T16:22:23.671775Z"
    }
   },
   "cell_type": "code",
   "source": "import cvxpy as cp",
   "id": "6c42f8f7b69dded6",
   "outputs": [],
   "execution_count": 343
  },
  {
   "metadata": {
    "ExecuteTime": {
     "end_time": "2025-10-20T16:22:23.951080Z",
     "start_time": "2025-10-20T16:22:23.942304Z"
    }
   },
   "cell_type": "code",
   "source": [
    "w = cp.Variable(len(running_instances))\n",
    "Sig = strategies_running_cov.values\n",
    "Sig = Sig + 1e-3 * np.eye(len(Sig))"
   ],
   "id": "59d88274c3b5d147",
   "outputs": [],
   "execution_count": 344
  },
  {
   "metadata": {
    "ExecuteTime": {
     "end_time": "2025-10-20T16:22:24.233778Z",
     "start_time": "2025-10-20T16:22:24.227091Z"
    }
   },
   "cell_type": "code",
   "source": [
    "# Ensure Sig is symmetric\n",
    "assert np.allclose(Sig, Sig.T), \"Covariance matrix not symmetric\"\n",
    "\n",
    "# Check positive semidefinite\n",
    "eigenvalues = np.linalg.eigvals(Sig)\n",
    "assert np.all(eigenvalues >= -1e-8), \"Matrix not positive semidefinite\""
   ],
   "id": "ab653da69fae0b47",
   "outputs": [],
   "execution_count": 345
  },
  {
   "metadata": {
    "ExecuteTime": {
     "end_time": "2025-10-20T16:22:24.609536Z",
     "start_time": "2025-10-20T16:22:24.593129Z"
    }
   },
   "cell_type": "code",
   "source": "np.linalg.eigvals(Sig)",
   "id": "afd7f85cabf1b962",
   "outputs": [
    {
     "data": {
      "text/plain": [
       "array([3.80470478e+07, 2.21365088e+06, 4.92471358e+05, 1.77529379e+05,\n",
       "       1.26226714e+06, 6.82670330e+05, 2.44760346e+05, 1.02576899e+05,\n",
       "       2.12108788e+06, 7.22752243e+05, 5.44719862e+05, 1.94290937e+05,\n",
       "       1.06729999e+05, 6.34990701e+04, 4.15059145e+04, 1.00000005e-03,\n",
       "       1.00000005e-03, 9.99999996e-04, 1.00000000e-03, 3.80470478e+07,\n",
       "       2.21365088e+06, 4.92471358e+05, 1.77529379e+05])"
      ]
     },
     "execution_count": 346,
     "metadata": {},
     "output_type": "execute_result"
    }
   ],
   "execution_count": 346
  },
  {
   "metadata": {
    "ExecuteTime": {
     "end_time": "2025-10-21T16:26:46.401810Z",
     "start_time": "2025-10-21T16:26:46.372925Z"
    }
   },
   "cell_type": "code",
   "source": [
    "# If Sig is positive semidefinite, use Cholesky decomposition\n",
    "w = cp.Variable(len(Sig))\n",
    "sigma_diag = np.sqrt(np.diag(Sig))\n",
    "\n",
    "prob = cp.Problem(\n",
    "    cp.Minimize(cp.quad_form(w, Sig)),\n",
    "    [cp.sum(cp.multiply(w, sigma_diag)) == 5e2,\n",
    "     w >= 0],\n",
    ")\n",
    "prob.solve()"
   ],
   "id": "2074c1ca18e24299",
   "outputs": [
    {
     "data": {
      "text/plain": [
       "11368.347642776134"
      ]
     },
     "execution_count": 359,
     "metadata": {},
     "output_type": "execute_result"
    }
   ],
   "execution_count": 359
  },
  {
   "metadata": {
    "ExecuteTime": {
     "end_time": "2025-10-21T16:26:50.129397Z",
     "start_time": "2025-10-21T16:26:50.117326Z"
    }
   },
   "cell_type": "code",
   "source": [
    "print(f\"w shape: {w.shape}\")\n",
    "print(f\"Sig shape: {Sig.shape}\")"
   ],
   "id": "231b281a377b355",
   "outputs": [
    {
     "name": "stdout",
     "output_type": "stream",
     "text": [
      "w shape: (23,)\n",
      "Sig shape: (23, 23)\n"
     ]
    }
   ],
   "execution_count": 360
  },
  {
   "metadata": {
    "ExecuteTime": {
     "end_time": "2025-10-21T16:26:50.873715Z",
     "start_time": "2025-10-21T16:26:50.850166Z"
    }
   },
   "cell_type": "code",
   "source": "pd.Series(w.value, index=running_instances)",
   "id": "e18a6da2a006eae1",
   "outputs": [
    {
     "data": {
      "text/plain": [
       "(metafvg, BTCUSD)        0.002260\n",
       "(metafvg, EURUSD)        0.012991\n",
       "(metafvg, GER40.cash)    0.021570\n",
       "(metafvg, US100.cash)    0.011619\n",
       "(metaga, EURUSD)         0.018947\n",
       "(metaga, AUDJPY)         0.021673\n",
       "(metaga, GER40.cash)     0.025696\n",
       "(metaga, US100.cash)     0.016202\n",
       "(metago, EURUSD)         0.111397\n",
       "(metago, USDJPY)         0.055573\n",
       "(metago, USDCHF)         0.114556\n",
       "(metago, USDCAD)         0.099208\n",
       "(metago, EURHUF)         0.011916\n",
       "(metago, USDCNH)         0.062544\n",
       "(metago, USDZAR)         0.011890\n",
       "(metago, EURUSD)         0.111397\n",
       "(metago, USDZAR)         0.011890\n",
       "(metago, USDCNH)         0.062544\n",
       "(metago, EURHUF)         0.011916\n",
       "(metane, BTCUSD)         0.002260\n",
       "(metane, EURUSD)         0.012991\n",
       "(metane, GER40.cash)     0.021570\n",
       "(metane, US100.cash)     0.011619\n",
       "dtype: float64"
      ]
     },
     "execution_count": 361,
     "metadata": {},
     "output_type": "execute_result"
    }
   ],
   "execution_count": 361
  },
  {
   "metadata": {
    "ExecuteTime": {
     "end_time": "2025-10-21T16:27:54.968752Z",
     "start_time": "2025-10-21T16:27:54.953099Z"
    }
   },
   "cell_type": "code",
   "source": "np.sum(np.round(w.value, 2) @ sigma_diag)",
   "id": "715ac358317825d9",
   "outputs": [
    {
     "data": {
      "text/plain": [
       "455.3339713842126"
      ]
     },
     "execution_count": 364,
     "metadata": {},
     "output_type": "execute_result"
    }
   ],
   "execution_count": 364
  },
  {
   "metadata": {
    "ExecuteTime": {
     "end_time": "2025-10-21T16:28:05.977317Z",
     "start_time": "2025-10-21T16:28:05.961958Z"
    }
   },
   "cell_type": "code",
   "source": "np.round(w.value, 2)",
   "id": "a89a16d4fcf3417a",
   "outputs": [
    {
     "data": {
      "text/plain": [
       "array([0.  , 0.01, 0.02, 0.01, 0.02, 0.02, 0.03, 0.02, 0.11, 0.06, 0.11,\n",
       "       0.1 , 0.01, 0.06, 0.01, 0.11, 0.01, 0.06, 0.01, 0.  , 0.01, 0.02,\n",
       "       0.01])"
      ]
     },
     "execution_count": 365,
     "metadata": {},
     "output_type": "execute_result"
    }
   ],
   "execution_count": 365
  },
  {
   "metadata": {},
   "cell_type": "code",
   "outputs": [],
   "execution_count": null,
   "source": [
    "from metalib.metastrategy import MetaStrategy\n",
    "import pytz\n",
    "from datetime import datetime, timedelta\n",
    "\n",
    "class MetaScale(MetaStrategy):\n",
    "    \"\"\"MetaTrader FVG (Fair Value Gap) Trading Strategy\"\"\"\n",
    "\n",
    "    def __init__(self,\n",
    "                 tag,\n",
    "                 ):\n",
    "        \"\"\"\n",
    "        Initialize the Position Sizing Strategy\n",
    "        \"\"\"\n",
    "        super().__init__([], 0, tag) # Init with empty symbols and timeframe\n",
    "        print(f\"{self.tag}::    Initializing MetaScaler strategy..\")\n",
    "\n",
    "    def _pull_yaml_configs(self, config_dir: str) -> NoneType:\n",
    "        \"\"\"\n",
    "        Reads all YAML files in the specified directory and extracts the assets along with their strategy names.\n",
    "\n",
    "        Args:\n",
    "            config_dir (str): The path to the directory containing the YAML files.\n",
    "\n",
    "        Returns:\n",
    "            dict: A dictionary where the keys are strategy names (file names without extensions),\n",
    "                  and values are the asset data from each YAML file.\n",
    "\n",
    "        Raises:\n",
    "            FileNotFoundError: If the specified directory does not exist.\n",
    "            ValueError: If a YAML file cannot be parsed.\n",
    "        \"\"\"\n",
    "\n",
    "        if not os.path.exists(config_dir):\n",
    "            raise FileNotFoundError(f\"Directory '{config_dir}' does not exist.\")\n",
    "\n",
    "        instances = []\n",
    "        yaml_files = [f for f in os.listdir(config_dir) if f.endswith(\".yaml\")]\n",
    "\n",
    "        for yaml_file in yaml_files:\n",
    "            strategy_name = os.path.splitext(yaml_file)[0]  # Get the file name without extension\n",
    "            yaml_path = os.path.join(config_dir, yaml_file)\n",
    "\n",
    "            with open(yaml_path, 'r') as file:\n",
    "                try:\n",
    "                    data = yaml.safe_load(file)  # Safely load the YAML data\n",
    "                    instances += [(i[\"strategy_type\"], i[\"symbols\"][0]) for i in data.values()]\n",
    "\n",
    "                except yaml.YAMLError as e:\n",
    "                    raise ValueError(f\"Error reading YAML file '{yaml_file}': {e}\")\n",
    "\n",
    "        instances = pd.DataFrame(instances, columns=[\"strategy_type\", \"symbol\"])\n",
    "        self.instances = instances\n",
    "        self.symbols_running = instances[\"symbol\"].unique()\n",
    "        return\n",
    "\n",
    "    def _compute_symbols_daily_cov(self, symbols_running):\n",
    "        price_diff_df = pd.DataFrame()\n",
    "        for symbol in symbols_running:\n",
    "            price_diff_df[symbol] = recover_price_diff(symbol)\n",
    "        # Number of 15-minute bars in one day\n",
    "        return price_diff_df.cov() * 4 * 24\n",
    "\n",
    "    def _apply_mt5_tick_params(self, symbol, ):\n",
    "        symbol_info = mt5.symbol_info(symbol)\n",
    "        tick_value = symbol_info.trade_tick_value\n",
    "        tick_size = symbol_info.trade_tick_size\n",
    "        return tick_value, tick_size\n",
    "\n",
    "    def fit(self):\n",
    "        print(f\"{self.tag}::    Starting the MetaScaler fit!!..\")\n",
    "        # Pulling YAML configs\n",
    "        self._pull_yaml_configs(\"../config/prod\")\n",
    "        print(f\"{self.tag}::    Strategy instances: {self.instances}\")\n",
    "        print(f\"{self.tag}::    Running symbols: {self.symbols_running}\")\n",
    "\n",
    "        # Load the last 92 days of data\n",
    "        utc = pytz.timezone('UTC')\n",
    "        # Get the current time in UTC\n",
    "        end_time = datetime.now(utc)\n",
    "        start_time = end_time - timedelta(days=92)\n",
    "        # Set the time components to 0 (midnight) and maintain the timezone\n",
    "        end_time = end_time.replace(hour=0, minute=0, second=0, microsecond=0).astimezone(utc)\n",
    "        start_time = start_time.astimezone(utc)\n",
    "\n",
    "        # Pulling last days of data\n",
    "        self.loadData(start_time, end_time)\n",
    "        data = pd.concat([self.data[s].close for s in self.symbols], axis=1)\n",
    "        data.columns = self.symbols_running\n",
    "\n",
    "        # Convert using mt5 tick value and size\n",
    "        symbol_info = mt5.symbol_info(symbol)\n",
    "        tick_value = symbol_info.trade_tick_value\n",
    "        tick_size = symbol_info.trade_tick_size\n",
    "        price_diffs = data.diff() * tick_value / tick_size\n",
    "\n",
    "        # Compute daily covariance of price differences\n",
    "        # Apply strategy weigthing for each strategy\n",
    "        # Compute the covariance of strategies in a block-wise manner\n",
    "\n"
   ],
   "id": "e03c6af54df5a5c3"
  }
 ],
 "metadata": {
  "kernelspec": {
   "display_name": "Python 3",
   "language": "python",
   "name": "python3"
  },
  "language_info": {
   "codemirror_mode": {
    "name": "ipython",
    "version": 2
   },
   "file_extension": ".py",
   "mimetype": "text/x-python",
   "name": "python",
   "nbconvert_exporter": "python",
   "pygments_lexer": "ipython2",
   "version": "2.7.6"
  }
 },
 "nbformat": 4,
 "nbformat_minor": 5
}
