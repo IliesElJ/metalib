{
 "cells": [
  {
   "cell_type": "code",
   "id": "initial_id",
   "metadata": {
    "collapsed": true,
    "ExecuteTime": {
     "end_time": "2025-02-08T20:36:36.771572Z",
     "start_time": "2025-02-08T20:36:36.753870Z"
    }
   },
   "source": [
    "from numba import njit, prange\n",
    "import pandas as pd\n",
    "import numpy as np\n",
    "from metalib.utils import load_hist_data"
   ],
   "outputs": [],
   "execution_count": 9
  },
  {
   "metadata": {
    "ExecuteTime": {
     "end_time": "2025-02-08T20:38:59.018463Z",
     "start_time": "2025-02-08T20:38:58.996341Z"
    }
   },
   "cell_type": "code",
   "source": [
    "@njit(cache=True, parallel=True)\n",
    "def gaussian(x):\n",
    "    return np.exp(-0.5 * x**2) / np.sqrt(2 * np.pi)\n",
    "\n",
    "@njit(cache=True, parallel=True)\n",
    "def numba_kde(eval_points, samples, bandwidths):\n",
    "    result = np.zeros_like(eval_points)\n",
    "\n",
    "    for i, eval_x in enumerate(eval_points):\n",
    "        for sample, bandwidth in zip(samples, bandwidths):\n",
    "            result[i] += gaussian((eval_x - sample) / bandwidth) / bandwidth\n",
    "        result[i] /= len(samples)\n",
    "\n",
    "    return result\n",
    "\n",
    "# Multithread\n",
    "\n",
    "@njit(parallel=True)\n",
    "def numba_kde_multithread(eval_points, samples, bandwidths):\n",
    "    result = np.zeros_like(eval_points)\n",
    "\n",
    "    # SPEEDTIP: Parallelize over evaluation points with prange()\n",
    "    for i in prange(len(eval_points)):\n",
    "        eval_x = eval_points[i]\n",
    "        for sample, bandwidth in zip(samples, bandwidths):\n",
    "            result[i] += gaussian((eval_x - sample) / bandwidth) / bandwidth\n",
    "        result[i] /= len(samples)\n",
    "\n",
    "    return result"
   ],
   "id": "12e51036da2eb819",
   "outputs": [],
   "execution_count": 13
  },
  {
   "metadata": {
    "ExecuteTime": {
     "end_time": "2025-02-08T20:37:02.630331Z",
     "start_time": "2025-02-08T20:37:01.072505Z"
    }
   },
   "cell_type": "code",
   "source": "ohlc = load_hist_data(\"EURUSD\", 2020)",
   "id": "f4cf244c3bd89775",
   "outputs": [
    {
     "name": "stderr",
     "output_type": "stream",
     "text": [
      "C:\\Users\\Trismegist\\anaconda3\\envs\\adonys\\Lib\\site-packages\\pandas\\core\\indexes\\base.py:7588: FutureWarning: Dtype inference on a pandas object (Series, Index, ExtensionArray) is deprecated. The Index constructor will keep the original dtype in the future. Call `infer_objects` on the result to get the old behavior.\n",
      "  return Index(sequences[0], name=names)\n"
     ]
    }
   ],
   "execution_count": 10
  },
  {
   "metadata": {
    "ExecuteTime": {
     "end_time": "2025-02-08T20:37:39.316075Z",
     "start_time": "2025-02-08T20:37:39.313211Z"
    }
   },
   "cell_type": "code",
   "source": "subsample = ohlc.tail(400)",
   "id": "ab6bb650e365368b",
   "outputs": [],
   "execution_count": 12
  },
  {
   "metadata": {
    "ExecuteTime": {
     "end_time": "2025-02-08T20:40:06.416519Z",
     "start_time": "2025-02-08T20:40:06.407977Z"
    }
   },
   "cell_type": "code",
   "source": [
    "# Generate random sample points\n",
    "np.random.seed(42)\n",
    "samples = np.random.randn(10000)  # 10,000 sample points\n",
    "bandwidths = np.full_like(samples, 0.2)  # Fixed bandwidth for each point\n",
    "\n",
    "# Define evaluation points (where you want to estimate the density)\n",
    "eval_points = np.linspace(-3, 3, 1000)"
   ],
   "id": "76a31d50dfefffb7",
   "outputs": [],
   "execution_count": 14
  },
  {
   "metadata": {
    "ExecuteTime": {
     "end_time": "2025-02-08T20:40:17.558912Z",
     "start_time": "2025-02-08T20:40:16.652674Z"
    }
   },
   "cell_type": "code",
   "source": "density_estimates = numba_kde_multithread(eval_points, samples, bandwidths)\n",
   "id": "5fa02301a47bf277",
   "outputs": [
    {
     "name": "stderr",
     "output_type": "stream",
     "text": [
      "C:\\Users\\Trismegist\\AppData\\Local\\Temp\\ipykernel_11872\\2912872259.py:26: NumbaPerformanceWarning: \u001B[1m\u001B[1m\n",
      "The keyword argument 'parallel=True' was specified but no transformation for parallel execution was possible.\n",
      "\n",
      "To find out why, try turning on parallel diagnostics, see https://numba.readthedocs.io/en/stable/user/parallel.html#diagnostics for help.\n",
      "\u001B[1m\n",
      "File \"..\\..\\..\\..\\AppData\\Local\\Temp\\ipykernel_11872\\2912872259.py\", line 1:\u001B[0m\n",
      "\u001B[1m<source missing, REPL/exec in use?>\u001B[0m\n",
      "\u001B[0m\u001B[0m\n",
      "  result[i] += gaussian((eval_x - sample) / bandwidth) / bandwidth\n"
     ]
    }
   ],
   "execution_count": 15
  },
  {
   "metadata": {
    "ExecuteTime": {
     "end_time": "2025-02-08T20:40:53.358542Z",
     "start_time": "2025-02-08T20:40:51.832443Z"
    }
   },
   "cell_type": "code",
   "source": [
    "@njit(parallel=True)\n",
    "def test(x):\n",
    "    n = x.shape[0]\n",
    "    a = np.sin(x)\n",
    "    b = np.cos(a * a)\n",
    "    acc = 0\n",
    "    for i in prange(n - 2):\n",
    "        for j in prange(n - 1):\n",
    "            acc += b[i] + b[j + 1]\n",
    "    return acc\n",
    "\n",
    "test(np.arange(10))\n",
    "\n",
    "test.parallel_diagnostics(level=4)"
   ],
   "id": "c0a83af978914fa3",
   "outputs": [
    {
     "name": "stdout",
     "output_type": "stream",
     "text": [
      " \n",
      "================================================================================\n",
      " Parallel Accelerator Optimizing:  Function test, \n",
      "C:\\Users\\Trismegist\\AppData\\Local\\Temp\\ipykernel_11872\\2862204045.py (1)  \n",
      "================================================================================\n",
      "\n",
      "\n",
      "Parallel loop listing for  Function test, C:\\Users\\Trismegist\\AppData\\Local\\Temp\\ipykernel_11872\\2862204045.py (1) \n",
      "--------------------------------------|loop #ID\n",
      "@njit(parallel=True)                  | \n",
      "def test(x):                          | \n",
      "    n = x.shape[0]                    | \n",
      "    a = np.sin(x)---------------------| #1\n",
      "    b = np.cos(a * a)-----------------| #2\n",
      "    acc = 0                           | \n",
      "    for i in prange(n - 2):-----------| #4\n",
      "        for j in prange(n - 1):-------| #3\n",
      "            acc += b[i] + b[j + 1]    | \n",
      "    return acc                        | \n",
      "--------------------------------- Fusing loops ---------------------------------\n",
      "Attempting fusion of parallel loops (combines loops with similar properties)...\n",
      "  Trying to fuse loops #1 and #2:\n",
      "    - fusion succeeded: parallel for-loop #2 is fused into for-loop #1.\n",
      "  Trying to fuse loops #1 and #4:\n",
      "    - fusion failed: loop dimension mismatched in axis 0. slice(0, x_size0.28, \n",
      "1) != slice(0, $binop_sub142.21, 1)\n",
      "----------------------------- Before Optimisation ------------------------------\n",
      "Parallel region 0:\n",
      "+--1 (parallel)\n",
      "+--2 (parallel)\n",
      "\n",
      "\n",
      "Parallel region 1:\n",
      "+--4 (parallel)\n",
      "   +--3 (parallel)\n",
      "\n",
      "\n",
      "--------------------------------------------------------------------------------\n",
      "------------------------------ After Optimisation ------------------------------\n",
      "Parallel region 0:\n",
      "+--1 (parallel, fused with loop(s): 2)\n",
      "\n",
      "\n",
      "Parallel region 1:\n",
      "+--4 (parallel)\n",
      "   +--3 (serial)\n",
      "\n",
      "\n",
      " \n",
      "Parallel region 0 (loop #1) had 1 loop(s) fused.\n",
      " \n",
      "Parallel region 1 (loop #4) had 0 loop(s) fused and 1 loop(s) serialized as part\n",
      " of the larger parallel loop (#4).\n",
      "--------------------------------------------------------------------------------\n",
      "--------------------------------------------------------------------------------\n",
      " \n",
      "---------------------------Loop invariant code motion---------------------------\n",
      "Allocation hoisting:\n",
      "No allocation hoisting found\n",
      "\n",
      "Instruction hoisting:\n",
      "loop #1:\n",
      "  Failed to hoist the following:\n",
      "    dependency: $arg_out_var.37 = getitem(value=x, index=$parfor__index_32.132, fn=<built-in function getitem>)\n",
      "    dependency: $44load_attr.6.38 = getattr(value=$push_global_to_block.117, attr=sin)\n",
      "    dependency: $expr_out_var.36 = call $44load_attr.6.38($arg_out_var.37, func=$44load_attr.6.38, args=[Var($arg_out_var.37, 2862204045.py:4)], kws=(), vararg=None, varkwarg=None, target=None)\n",
      "    dependency: $arg_out_var.44 = $expr_out_var.36 * $expr_out_var.36\n",
      "    dependency: $86load_attr.11.47 = getattr(value=$push_global_to_block.118, attr=cos)\n",
      "    dependency: $expr_out_var.43 = call $86load_attr.11.47($arg_out_var.44, func=$86load_attr.11.47, args=[Var($arg_out_var.44, 2862204045.py:5)], kws=(), vararg=None, varkwarg=None, target=None)\n",
      "loop #4:\n",
      "  Has the following hoisted:\n",
      "    $const174.5 = const(int, 1)\n",
      "    $binop_sub176.6 = n - $const174.5\n",
      "  Failed to hoist the following:\n",
      "    dependency: acc_3 = acc.2\n",
      "--------------------------------------------------------------------------------\n"
     ]
    }
   ],
   "execution_count": 16
  },
  {
   "metadata": {},
   "cell_type": "code",
   "outputs": [],
   "execution_count": null,
   "source": "",
   "id": "4ee8702e6fd054fb"
  }
 ],
 "metadata": {
  "kernelspec": {
   "display_name": "Python 3",
   "language": "python",
   "name": "python3"
  },
  "language_info": {
   "codemirror_mode": {
    "name": "ipython",
    "version": 2
   },
   "file_extension": ".py",
   "mimetype": "text/x-python",
   "name": "python",
   "nbconvert_exporter": "python",
   "pygments_lexer": "ipython2",
   "version": "2.7.6"
  }
 },
 "nbformat": 4,
 "nbformat_minor": 5
}
